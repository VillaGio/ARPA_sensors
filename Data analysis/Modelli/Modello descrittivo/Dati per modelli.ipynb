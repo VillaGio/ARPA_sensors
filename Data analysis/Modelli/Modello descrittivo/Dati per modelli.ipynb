{
 "cells": [
  {
   "cell_type": "markdown",
   "id": "56c3ba23",
   "metadata": {},
   "source": [
    "Dati Meteo: pioggia"
   ]
  },
  {
   "cell_type": "code",
   "execution_count": 1,
   "id": "61191466",
   "metadata": {},
   "outputs": [],
   "source": [
    "import matplotlib.pyplot as plt\n",
    "import seaborn as sn\n",
    "from matplotlib import rcParams\n",
    "import pandas as pd\n",
    "import numpy as np\n",
    "\n",
    "pioggia2012 = pd.read_pickle('df_meteo_2012.h5')\n",
    "pioggia2013 = pd.read_pickle('df_meteo_2013.h5')\n",
    "pioggia2014 = pd.read_pickle('df_meteo_2014.h5')\n",
    "pioggia2015 = pd.read_pickle('df_meteo_2015.h5')\n",
    "pioggia2016 = pd.read_pickle('df_meteo_2016.h5')\n",
    "pioggia2017 = pd.read_pickle('df_meteo_2017.h5')\n",
    "pioggia2018 = pd.read_pickle('df_meteo_2018.h5')\n",
    "pioggia2019 = pd.read_pickle('df_meteo_2019.h5')\n",
    "pioggia2020 = pd.read_pickle('df_meteo_2020.h5')\n",
    "pioggia2021 = pd.read_pickle('df_meteo_2021.h5')\n",
    "stazioni = pd.read_pickle('stazioni.h5')"
   ]
  },
  {
   "cell_type": "code",
   "execution_count": 2,
   "id": "0149acd4",
   "metadata": {},
   "outputs": [],
   "source": [
    "pioggia2021 = pioggia2021.reset_index()\n",
    "pioggia2021 = pd.merge(left=pioggia2021[pioggia2021['Valore']>0], right=stazioni[stazioni['tipologia']==\"Precipitazione\"], how=\"inner\",\n",
    "                   left_on='IdSensore', right_on='idsensore')\n",
    "pioggia2021['Data'] = pd.to_datetime(pioggia2021['Data'], format = \"%Y %m %d\")\n",
    "pioggia2021.sort_values(by=['Data'])\n",
    "#pioggia2021=pioggia2021[pioggia2021['Valore']>0]\n",
    "#pioggia2021['Valore']=pioggia2021['Valore']/10\n",
    "grouped2021 = pioggia2021.groupby([\"Data\"]).mean()"
   ]
  },
  {
   "cell_type": "code",
   "execution_count": 3,
   "id": "e8bd5f1f",
   "metadata": {},
   "outputs": [],
   "source": [
    "pioggia2020 = pioggia2020.reset_index()\n",
    "pioggia2020 = pd.merge(left=pioggia2020[pioggia2020['Valore']>0], right=stazioni[stazioni['tipologia']==\"Precipitazione\"], how=\"inner\",\n",
    "                   left_on='IdSensore', right_on='idsensore')\n",
    "pioggia2020['Data'] = pd.to_datetime(pioggia2020['Data'], format = \"%Y %m %d\")\n",
    "pioggia2020.sort_values(by=['Data'])\n",
    "pioggia2020=pioggia2020[pioggia2020['Valore']<1000]\n",
    "\n",
    "grouped2020 = pioggia2020.groupby([\"Data\"]).mean()"
   ]
  },
  {
   "cell_type": "code",
   "execution_count": 4,
   "id": "7c79afcb",
   "metadata": {},
   "outputs": [],
   "source": [
    "pioggia2019 = pioggia2019.reset_index()\n",
    "pioggia2019 = pd.merge(left=pioggia2019[pioggia2019['Valore']>0], right=stazioni[stazioni['tipologia']==\"Precipitazione\"], how=\"inner\",\n",
    "                   left_on='IdSensore', right_on='idsensore')\n",
    "pioggia2019['Data'] = pd.to_datetime(pioggia2019['Data'], format = \"%Y %m %d\")\n",
    "pioggia2019.sort_values(by=['Data'])\n",
    "pioggia2019=pioggia2019[pioggia2019['Valore']<1000]\n",
    "\n",
    "grouped2019 = pioggia2019.groupby([\"Data\"]).mean()"
   ]
  },
  {
   "cell_type": "code",
   "execution_count": 5,
   "id": "84c46120",
   "metadata": {},
   "outputs": [],
   "source": [
    "pioggia2018 = pioggia2018.reset_index()\n",
    "pioggia2018 = pd.merge(left=pioggia2018[pioggia2018['Valore']>0], right=stazioni[stazioni['tipologia']==\"Precipitazione\"], how=\"inner\",\n",
    "                   left_on='IdSensore', right_on='idsensore')\n",
    "pioggia2018['Data'] = pd.to_datetime(pioggia2018['Data'], format = \"%Y %m %d\")\n",
    "pioggia2018.sort_values(by=['Data'])\n",
    "pioggia2018=pioggia2018[pioggia2018['Valore']<1000]\n",
    "\n",
    "grouped2018 = pioggia2018.groupby([\"Data\"]).mean()"
   ]
  },
  {
   "cell_type": "code",
   "execution_count": 6,
   "id": "f8d129f1",
   "metadata": {},
   "outputs": [],
   "source": [
    "pioggia2017 = pioggia2017.reset_index()\n",
    "pioggia2017 = pd.merge(left=pioggia2017[pioggia2017['Valore']>0], right=stazioni[stazioni['tipologia']==\"Precipitazione\"], how=\"inner\",\n",
    "                   left_on='IdSensore', right_on='idsensore')\n",
    "pioggia2017['Data'] = pd.to_datetime(pioggia2017['Data'], format = \"%Y %m %d\")\n",
    "pioggia2017.sort_values(by=['Data'])\n",
    "pioggia2017=pioggia2017[pioggia2017['Valore']<1000]\n",
    "\n",
    "grouped2017 = pioggia2017.groupby([\"Data\"]).mean()"
   ]
  },
  {
   "cell_type": "code",
   "execution_count": 7,
   "id": "18d32066",
   "metadata": {},
   "outputs": [],
   "source": [
    "pioggia2016 = pioggia2016.reset_index()\n",
    "pioggia2016 = pd.merge(left=pioggia2016[pioggia2016['Valore']>0], right=stazioni[stazioni['tipologia']==\"Precipitazione\"], how=\"inner\",\n",
    "                   left_on='IdSensore', right_on='idsensore')\n",
    "pioggia2016['Data'] = pd.to_datetime(pioggia2016['Data'], format = \"%Y %m %d\")\n",
    "pioggia2016.sort_values(by=['Data'])\n",
    "pioggia2016=pioggia2016[pioggia2016['Valore']<1000]\n",
    "\n",
    "grouped2016 = pioggia2016.groupby([\"Data\"]).mean()"
   ]
  },
  {
   "cell_type": "code",
   "execution_count": 8,
   "id": "16b6e7a0",
   "metadata": {},
   "outputs": [],
   "source": [
    "pioggia2015 = pioggia2015.reset_index()\n",
    "pioggia2015 = pd.merge(left=pioggia2015[pioggia2015['Valore']>0], right=stazioni[stazioni['tipologia']==\"Precipitazione\"], how=\"inner\",\n",
    "                   left_on='IdSensore', right_on='idsensore')\n",
    "pioggia2015['Data'] = pd.to_datetime(pioggia2015['Data'], format = \"%Y %m %d\")\n",
    "pioggia2015.sort_values(by=['Data'])\n",
    "pioggia2015=pioggia2015[pioggia2015['Valore']<1000]\n",
    "\n",
    "grouped2015 = pioggia2015.groupby([\"Data\"]).mean()"
   ]
  },
  {
   "cell_type": "code",
   "execution_count": 9,
   "id": "d3e0bf75",
   "metadata": {},
   "outputs": [],
   "source": [
    "pioggia2014 = pioggia2014.reset_index()\n",
    "pioggia2014 = pd.merge(left=pioggia2014[pioggia2014['Valore']>0], right=stazioni[stazioni['tipologia']==\"Precipitazione\"], how=\"inner\",\n",
    "                   left_on='IdSensore', right_on='idsensore')\n",
    "pioggia2014['Data'] = pd.to_datetime(pioggia2014['Data'], format = \"%Y %m %d\")\n",
    "pioggia2014.sort_values(by=['Data'])\n",
    "pioggia2014=pioggia2014[pioggia2014['Valore']<1000]\n",
    "\n",
    "grouped2014 = pioggia2014.groupby([\"Data\"]).mean()"
   ]
  },
  {
   "cell_type": "code",
   "execution_count": 10,
   "id": "868799ae",
   "metadata": {},
   "outputs": [],
   "source": [
    "pioggia2013 = pioggia2013.reset_index()\n",
    "pioggia2013 = pd.merge(left=pioggia2013[pioggia2013['Valore']>0], right=stazioni[stazioni['tipologia']==\"Precipitazione\"], how=\"inner\",\n",
    "                   left_on='IdSensore', right_on='idsensore')\n",
    "pioggia2013['Data'] = pd.to_datetime(pioggia2013['Data'], format = \"%Y %m %d\")\n",
    "pioggia2013.sort_values(by=['Data'])\n",
    "pioggia2013=pioggia2013[pioggia2013['Valore']<1000]\n",
    "\n",
    "grouped2013 = pioggia2013.groupby([\"Data\"]).mean()"
   ]
  },
  {
   "cell_type": "code",
   "execution_count": 11,
   "id": "5fe28516",
   "metadata": {},
   "outputs": [],
   "source": [
    "pioggia2012 = pioggia2012.reset_index()\n",
    "pioggia2012 = pd.merge(left=pioggia2012[pioggia2012['Valore']>0], right=stazioni[stazioni['tipologia']==\"Precipitazione\"], how=\"inner\",\n",
    "                   left_on='IdSensore', right_on='idsensore')\n",
    "pioggia2012['Data'] = pd.to_datetime(pioggia2012['Data'], format = \"%Y %m %d\")\n",
    "pioggia2012.sort_values(by=['Data'])\n",
    "pioggia2012=pioggia2012[pioggia2012['Valore']<1000]\n",
    "\n",
    "grouped2012 = pioggia2012.groupby([\"Data\"]).mean()"
   ]
  },
  {
   "cell_type": "code",
   "execution_count": 12,
   "id": "dcda1f2b",
   "metadata": {},
   "outputs": [],
   "source": [
    "grouped2021 = grouped2021.reset_index()\n",
    "grouped2020 = grouped2020.reset_index()\n",
    "grouped2019 = grouped2019.reset_index()\n",
    "grouped2018 = grouped2018.reset_index()\n",
    "grouped2017 = grouped2017.reset_index()\n",
    "grouped2016 = grouped2016.reset_index()\n",
    "grouped2015 = grouped2015.reset_index()\n",
    "grouped2014 = grouped2014.reset_index()\n",
    "grouped2013 = grouped2013.reset_index()\n",
    "grouped2012 = grouped2012.reset_index()"
   ]
  },
  {
   "cell_type": "code",
   "execution_count": 13,
   "id": "83db6361",
   "metadata": {},
   "outputs": [
    {
     "data": {
      "text/plain": [
       "3884"
      ]
     },
     "execution_count": 13,
     "metadata": {},
     "output_type": "execute_result"
    }
   ],
   "source": [
    "pioggia=pd.concat([grouped2021[['Data','Valore']], grouped2020[['Data','Valore']], grouped2019[['Data','Valore']], \n",
    "               grouped2018[['Data','Valore']], grouped2017[['Data','Valore']], grouped2016[['Data','Valore']],\n",
    "               grouped2015[['Data','Valore']], grouped2014[['Data','Valore']], grouped2013[['Data','Valore']],\n",
    "               grouped2012[['Data','Valore']]])\n",
    "len(pioggia)"
   ]
  },
  {
   "cell_type": "markdown",
   "id": "7768880e",
   "metadata": {},
   "source": [
    "Dati Meteo: temperatura"
   ]
  },
  {
   "cell_type": "code",
   "execution_count": 14,
   "id": "ec0cb8ba",
   "metadata": {},
   "outputs": [],
   "source": [
    "temperatura2012 = pd.read_pickle('df_meteo_2012.h5')\n",
    "temperatura2013 = pd.read_pickle('df_meteo_2013.h5')\n",
    "temperatura2014 = pd.read_pickle('df_meteo_2014.h5')\n",
    "temperatura2015 = pd.read_pickle('df_meteo_2015.h5')\n",
    "temperatura2016 = pd.read_pickle('df_meteo_2016.h5')\n",
    "temperatura2017 = pd.read_pickle('df_meteo_2017.h5')\n",
    "temperatura2018 = pd.read_pickle('df_meteo_2018.h5')\n",
    "temperatura2019 = pd.read_pickle('df_meteo_2019.h5')\n",
    "temperatura2020 = pd.read_pickle('df_meteo_2020.h5')\n",
    "temperatura2021 = pd.read_pickle('df_meteo_2021.h5')\n",
    "stazioni = pd.read_pickle('stazioni.h5')"
   ]
  },
  {
   "cell_type": "code",
   "execution_count": 15,
   "id": "a428ef48",
   "metadata": {},
   "outputs": [],
   "source": [
    "temperatura2021 = temperatura2021.reset_index()\n",
    "temperatura2021 = pd.merge(left=temperatura2021[temperatura2021['Valore']>0], right=stazioni[stazioni['tipologia']==\"Temperatura\"], how=\"inner\",\n",
    "                   left_on='IdSensore', right_on='idsensore')\n",
    "temperatura2021.sort_values(by=['Data'])\n",
    "#temperatura2021=temperatura2021[temperatura2021['Valore']>0]\n",
    "temperatura2021['Valore']=temperatura2021['Valore']/144\n",
    "grouped2021 = temperatura2021.groupby([\"Data\"]).mean()"
   ]
  },
  {
   "cell_type": "code",
   "execution_count": 16,
   "id": "2bb2923e",
   "metadata": {},
   "outputs": [],
   "source": [
    "temperatura2020 = temperatura2020.reset_index()\n",
    "temperatura2020 = pd.merge(left=temperatura2020[temperatura2020['Valore']>0], right=stazioni[stazioni['tipologia']==\"Temperatura\"], how=\"inner\",\n",
    "                   left_on='IdSensore', right_on='idsensore')\n",
    "temperatura2020.sort_values(by=['Data'])\n",
    "#temperatura2020=temperatura2020[temperatura2020['Valore']>0]\n",
    "temperatura2020['Valore']=temperatura2020['Valore']/144\n",
    "grouped2020 = temperatura2020.groupby([\"Data\"]).mean()"
   ]
  },
  {
   "cell_type": "code",
   "execution_count": 17,
   "id": "194a36ac",
   "metadata": {},
   "outputs": [],
   "source": [
    "temperatura2019 = temperatura2019.reset_index()\n",
    "temperatura2019 = pd.merge(left=temperatura2019[temperatura2019['Valore']>0], right=stazioni[stazioni['tipologia']==\"Temperatura\"], how=\"inner\",\n",
    "                   left_on='IdSensore', right_on='idsensore')\n",
    "temperatura2019.sort_values(by=['Data'])\n",
    "#temperatura2019=temperatura2019[temperatura2019['Valore']>0]\n",
    "temperatura2019['Valore']=temperatura2019['Valore']/144\n",
    "grouped2019 = temperatura2019.groupby([\"Data\"]).mean()"
   ]
  },
  {
   "cell_type": "code",
   "execution_count": 18,
   "id": "3b5692dc",
   "metadata": {},
   "outputs": [],
   "source": [
    "temperatura2018 = temperatura2018.reset_index()\n",
    "temperatura2018 = pd.merge(left=temperatura2018[temperatura2018['Valore']>0], right=stazioni[stazioni['tipologia']==\"Temperatura\"], how=\"inner\",\n",
    "                   left_on='IdSensore', right_on='idsensore')\n",
    "temperatura2018.sort_values(by=['Data'])\n",
    "#temperatura2018=temperatura2018[temperatura2018['Valore']>0]\n",
    "temperatura2018['Valore']=temperatura2018['Valore']/144\n",
    "grouped2018 = temperatura2018.groupby([\"Data\"]).mean()"
   ]
  },
  {
   "cell_type": "code",
   "execution_count": 19,
   "id": "78d40f3e",
   "metadata": {},
   "outputs": [],
   "source": [
    "temperatura2017 = temperatura2017.reset_index()\n",
    "temperatura2017 = pd.merge(left=temperatura2017[temperatura2017['Valore']>0], right=stazioni[stazioni['tipologia']==\"Temperatura\"], how=\"inner\",\n",
    "                   left_on='IdSensore', right_on='idsensore')\n",
    "temperatura2017.sort_values(by=['Data'])\n",
    "#temperatura2017=temperatura2017[temperatura2017['Valore']>0]\n",
    "temperatura2017['Valore']=temperatura2017['Valore']/144\n",
    "grouped2017 = temperatura2017.groupby([\"Data\"]).mean()"
   ]
  },
  {
   "cell_type": "code",
   "execution_count": 20,
   "id": "d6985d6c",
   "metadata": {},
   "outputs": [],
   "source": [
    "temperatura2016 = temperatura2016.reset_index()\n",
    "temperatura2016 = pd.merge(left=temperatura2016[temperatura2016['Valore']>0], right=stazioni[stazioni['tipologia']==\"Temperatura\"], how=\"inner\",\n",
    "                   left_on='IdSensore', right_on='idsensore')\n",
    "temperatura2016.sort_values(by=['Data'])\n",
    "#temperatura2016=temperatura2016[temperatura2016['Valore']>0]\n",
    "temperatura2016['Valore']=temperatura2016['Valore']/144\n",
    "grouped2016 = temperatura2016.groupby([\"Data\"]).mean()"
   ]
  },
  {
   "cell_type": "code",
   "execution_count": 21,
   "id": "8259aa9d",
   "metadata": {},
   "outputs": [],
   "source": [
    "temperatura2015 = temperatura2015.reset_index()\n",
    "temperatura2015 = pd.merge(left=temperatura2015[temperatura2015['Valore']>0], right=stazioni[stazioni['tipologia']==\"Temperatura\"], how=\"inner\",\n",
    "                   left_on='IdSensore', right_on='idsensore')\n",
    "temperatura2015.sort_values(by=['Data'])\n",
    "#temperatura2015=temperatura2015[temperatura2015['Valore']>0]\n",
    "temperatura2015['Valore']=temperatura2015['Valore']/144\n",
    "grouped2015 = temperatura2015.groupby([\"Data\"]).mean()"
   ]
  },
  {
   "cell_type": "code",
   "execution_count": 22,
   "id": "81f9dd23",
   "metadata": {},
   "outputs": [],
   "source": [
    "temperatura2014 = temperatura2014.reset_index()\n",
    "temperatura2014 = pd.merge(left=temperatura2014[temperatura2014['Valore']>0], right=stazioni[stazioni['tipologia']==\"Temperatura\"], how=\"inner\",\n",
    "                   left_on='IdSensore', right_on='idsensore')\n",
    "temperatura2014.sort_values(by=['Data'])\n",
    "#temperatura2014=temperatura2014[temperatura2014['Valore']>0]\n",
    "temperatura2014['Valore']=temperatura2014['Valore']/144\n",
    "grouped2014 = temperatura2014.groupby([\"Data\"]).mean()"
   ]
  },
  {
   "cell_type": "code",
   "execution_count": 23,
   "id": "0905104e",
   "metadata": {},
   "outputs": [],
   "source": [
    "temperatura2013 = temperatura2013.reset_index()\n",
    "temperatura2013 = pd.merge(left=temperatura2013[temperatura2013['Valore']>0], right=stazioni[stazioni['tipologia']==\"Temperatura\"], how=\"inner\",\n",
    "                   left_on='IdSensore', right_on='idsensore')\n",
    "temperatura2013.sort_values(by=['Data'])\n",
    "#temperatura2013=temperatura2013[temperatura2013['Valore']>0]\n",
    "temperatura2013['Valore']=temperatura2013['Valore']/144\n",
    "grouped2013 = temperatura2013.groupby([\"Data\"]).mean()"
   ]
  },
  {
   "cell_type": "code",
   "execution_count": 24,
   "id": "8c0296b9",
   "metadata": {},
   "outputs": [],
   "source": [
    "temperatura2012 = temperatura2012.reset_index()\n",
    "temperatura2012 = pd.merge(left=temperatura2012[temperatura2012['Valore']>0], right=stazioni[stazioni['tipologia']==\"Temperatura\"], how=\"inner\",\n",
    "                   left_on='IdSensore', right_on='idsensore')\n",
    "temperatura2012.sort_values(by=['Data'])\n",
    "#temperatura2012=temperatura2012[temperatura2012['Valore']>0]\n",
    "temperatura2012['Valore']=temperatura2012['Valore']/144\n",
    "grouped2012 = temperatura2012.groupby([\"Data\"]).mean()"
   ]
  },
  {
   "cell_type": "code",
   "execution_count": 25,
   "id": "70e6f2d7",
   "metadata": {},
   "outputs": [],
   "source": [
    "grouped2021 = grouped2021.reset_index()\n",
    "grouped2020 = grouped2020.reset_index()\n",
    "grouped2019 = grouped2019.reset_index()\n",
    "grouped2018 = grouped2018.reset_index()\n",
    "grouped2017 = grouped2017.reset_index()\n",
    "grouped2016 = grouped2016.reset_index()\n",
    "grouped2015 = grouped2015.reset_index()\n",
    "grouped2014 = grouped2014.reset_index()\n",
    "grouped2013 = grouped2013.reset_index()\n",
    "grouped2012 = grouped2012.reset_index()"
   ]
  },
  {
   "cell_type": "code",
   "execution_count": 26,
   "id": "907dab90",
   "metadata": {},
   "outputs": [
    {
     "data": {
      "text/plain": [
       "4009"
      ]
     },
     "execution_count": 26,
     "metadata": {},
     "output_type": "execute_result"
    }
   ],
   "source": [
    "temperatura=pd.concat([grouped2021[['Data','Valore']], grouped2020[['Data','Valore']], grouped2019[['Data','Valore']], \n",
    "               grouped2018[['Data','Valore']], grouped2017[['Data','Valore']], grouped2016[['Data','Valore']],\n",
    "               grouped2015[['Data','Valore']], grouped2014[['Data','Valore']], grouped2013[['Data','Valore']],\n",
    "               grouped2012[['Data','Valore']]])\n",
    "len(temperatura)"
   ]
  },
  {
   "cell_type": "markdown",
   "id": "a5045d2f",
   "metadata": {},
   "source": [
    "Dati Meteo: vento"
   ]
  },
  {
   "cell_type": "code",
   "execution_count": 27,
   "id": "2658ce03",
   "metadata": {},
   "outputs": [],
   "source": [
    "vento2012 = pd.read_pickle('df_meteo_2012.h5')\n",
    "vento2013 = pd.read_pickle('df_meteo_2013.h5')\n",
    "vento2014 = pd.read_pickle('df_meteo_2014.h5')\n",
    "vento2015 = pd.read_pickle('df_meteo_2015.h5')\n",
    "vento2016 = pd.read_pickle('df_meteo_2016.h5')\n",
    "vento2017 = pd.read_pickle('df_meteo_2017.h5')\n",
    "vento2018 = pd.read_pickle('df_meteo_2018.h5')\n",
    "vento2019 = pd.read_pickle('df_meteo_2019.h5')\n",
    "vento2020 = pd.read_pickle('df_meteo_2020.h5')\n",
    "vento2021 = pd.read_pickle('df_meteo_2021.h5')\n",
    "stazioni = pd.read_pickle('stazioni.h5')"
   ]
  },
  {
   "cell_type": "code",
   "execution_count": 28,
   "id": "199f5c86",
   "metadata": {},
   "outputs": [],
   "source": [
    "vento2021 = vento2021.reset_index()\n",
    "vento2021 = pd.merge(left=vento2021[vento2021['Valore']>0], right=stazioni[stazioni['tipologia']==\"Velocità Vento\"], how=\"inner\",\n",
    "                   left_on='IdSensore', right_on='idsensore')\n",
    "vento2021['Data'] = pd.to_datetime(vento2021['Data'], format = \"%Y %m %d\")\n",
    "vento2021.sort_values(by=['Data'])\n",
    "#vento2021=vento2021[vento2021['Valore']>0]\n",
    "vento2021['Valore']=vento2021['Valore']/144\n",
    "grouped2021 = vento2021.groupby([\"Data\"]).mean()"
   ]
  },
  {
   "cell_type": "code",
   "execution_count": 29,
   "id": "4badc79e",
   "metadata": {},
   "outputs": [],
   "source": [
    "vento2020 = vento2020.reset_index()\n",
    "vento2020 = pd.merge(left=vento2020[vento2020['Valore']>0], right=stazioni[stazioni['tipologia']==\"Velocità Vento\"], how=\"inner\",\n",
    "                   left_on='IdSensore', right_on='idsensore')\n",
    "vento2020['Data'] = pd.to_datetime(vento2020['Data'], format = \"%Y %m %d\")\n",
    "vento2020.sort_values(by=['Data'])\n",
    "#vento2020=vento2020[vento2020['Valore']>0]\n",
    "vento2020['Valore']=vento2020['Valore']/144\n",
    "grouped2020 = vento2020.groupby([\"Data\"]).mean()"
   ]
  },
  {
   "cell_type": "code",
   "execution_count": 30,
   "id": "01384367",
   "metadata": {},
   "outputs": [],
   "source": [
    "vento2019 = vento2019.reset_index()\n",
    "vento2019 = pd.merge(left=vento2019[vento2019['Valore']>0], right=stazioni[stazioni['tipologia']==\"Velocità Vento\"], how=\"inner\",\n",
    "                   left_on='IdSensore', right_on='idsensore')\n",
    "vento2019['Data'] = pd.to_datetime(vento2019['Data'], format = \"%Y %m %d\")\n",
    "vento2019.sort_values(by=['Data'])\n",
    "#vento2019=vento2019[vento2019['Valore']>0]\n",
    "vento2019['Valore']=vento2019['Valore']/144\n",
    "grouped2019 = vento2019.groupby([\"Data\"]).mean()"
   ]
  },
  {
   "cell_type": "code",
   "execution_count": 31,
   "id": "ebaa1d95",
   "metadata": {},
   "outputs": [],
   "source": [
    "vento2018 = vento2018.reset_index()\n",
    "vento2018 = pd.merge(left=vento2018[vento2018['Valore']>0], right=stazioni[stazioni['tipologia']==\"Velocità Vento\"], how=\"inner\",\n",
    "                   left_on='IdSensore', right_on='idsensore')\n",
    "vento2018['Data'] = pd.to_datetime(vento2018['Data'], format = \"%Y %m %d\")\n",
    "vento2018.sort_values(by=['Data'])\n",
    "#vento2018=vento2018[vento2018['Valore']>0]\n",
    "vento2018['Valore']=vento2018['Valore']/144\n",
    "grouped2018 = vento2018.groupby([\"Data\"]).mean()"
   ]
  },
  {
   "cell_type": "code",
   "execution_count": 32,
   "id": "2c0087ea",
   "metadata": {},
   "outputs": [],
   "source": [
    "vento2017 = vento2017.reset_index()\n",
    "vento2017 = pd.merge(left=vento2017[vento2017['Valore']>0], right=stazioni[stazioni['tipologia']==\"Velocità Vento\"], how=\"inner\",\n",
    "                   left_on='IdSensore', right_on='idsensore')\n",
    "vento2017['Data'] = pd.to_datetime(vento2017['Data'], format = \"%Y %m %d\")\n",
    "vento2017.sort_values(by=['Data'])\n",
    "#vento2017=vento2017[vento2017['Valore']>0]\n",
    "vento2017['Valore']=vento2017['Valore']/144\n",
    "grouped2017 = vento2017.groupby([\"Data\"]).mean()"
   ]
  },
  {
   "cell_type": "code",
   "execution_count": 33,
   "id": "e51af4d8",
   "metadata": {},
   "outputs": [],
   "source": [
    "vento2016 = vento2016.reset_index()\n",
    "vento2016 = pd.merge(left=vento2016[vento2016['Valore']>0], right=stazioni[stazioni['tipologia']==\"Velocità Vento\"], how=\"inner\",\n",
    "                   left_on='IdSensore', right_on='idsensore')\n",
    "vento2016['Data'] = pd.to_datetime(vento2016['Data'], format = \"%Y %m %d\")\n",
    "vento2016.sort_values(by=['Data'])\n",
    "#vento2016=vento2016[vento2016['Valore']>0]\n",
    "vento2016['Valore']=vento2016['Valore']/144\n",
    "grouped2016 = vento2016.groupby([\"Data\"]).mean()"
   ]
  },
  {
   "cell_type": "code",
   "execution_count": 34,
   "id": "70b8a810",
   "metadata": {},
   "outputs": [],
   "source": [
    "vento2015 = vento2015.reset_index()\n",
    "vento2015 = pd.merge(left=vento2015[vento2015['Valore']>0], right=stazioni[stazioni['tipologia']==\"Velocità Vento\"], how=\"inner\",\n",
    "                   left_on='IdSensore', right_on='idsensore')\n",
    "vento2015['Data'] = pd.to_datetime(vento2015['Data'], format = \"%Y %m %d\")\n",
    "vento2015.sort_values(by=['Data'])\n",
    "#vento2015=vento2015[vento2015['Valore']>0]\n",
    "vento2015['Valore']=vento2015['Valore']/144\n",
    "grouped2015 = vento2015.groupby([\"Data\"]).mean()"
   ]
  },
  {
   "cell_type": "code",
   "execution_count": 35,
   "id": "cdc4eecf",
   "metadata": {},
   "outputs": [],
   "source": [
    "vento2014 = vento2014.reset_index()\n",
    "vento2014 = pd.merge(left=vento2014[vento2014['Valore']>0], right=stazioni[stazioni['tipologia']==\"Velocità Vento\"], how=\"inner\",\n",
    "                   left_on='IdSensore', right_on='idsensore')\n",
    "vento2014['Data'] = pd.to_datetime(vento2014['Data'], format = \"%Y %m %d\")\n",
    "vento2014.sort_values(by=['Data'])\n",
    "#vento2014=vento2014[vento2014['Valore']>0]\n",
    "vento2014['Valore']=vento2014['Valore']/144\n",
    "grouped2014 = vento2014.groupby([\"Data\"]).mean()"
   ]
  },
  {
   "cell_type": "code",
   "execution_count": 36,
   "id": "b7c98d17",
   "metadata": {},
   "outputs": [],
   "source": [
    "vento2013 = vento2013.reset_index()\n",
    "vento2013 = pd.merge(left=vento2013[vento2013['Valore']>0], right=stazioni[stazioni['tipologia']==\"Velocità Vento\"], how=\"inner\",\n",
    "                   left_on='IdSensore', right_on='idsensore')\n",
    "vento2013['Data'] = pd.to_datetime(vento2013['Data'], format = \"%Y %m %d\")\n",
    "vento2013.sort_values(by=['Data'])\n",
    "#vento2013=vento2013[vento2013['Valore']>0]\n",
    "vento2013['Valore']=vento2013['Valore']/144\n",
    "grouped2013 = vento2013.groupby([\"Data\"]).mean()"
   ]
  },
  {
   "cell_type": "code",
   "execution_count": 37,
   "id": "88d1355e",
   "metadata": {},
   "outputs": [],
   "source": [
    "vento2012 = vento2012.reset_index()\n",
    "vento2012 = pd.merge(left=vento2012[vento2012['Valore']>0], right=stazioni[stazioni['tipologia']==\"Velocità Vento\"], how=\"inner\",\n",
    "                   left_on='IdSensore', right_on='idsensore')\n",
    "vento2012['Data'] = pd.to_datetime(vento2012['Data'], format = \"%Y %m %d\")\n",
    "vento2012.sort_values(by=['Data'])\n",
    "#vento2012=vento2012[vento2012['Valore']>0]\n",
    "vento2012['Valore']=vento2012['Valore']/144\n",
    "grouped2012 = vento2012.groupby([\"Data\"]).mean()"
   ]
  },
  {
   "cell_type": "code",
   "execution_count": 38,
   "id": "c8471e62",
   "metadata": {},
   "outputs": [],
   "source": [
    "grouped2021 = grouped2021.reset_index()\n",
    "grouped2020 = grouped2020.reset_index()\n",
    "grouped2019 = grouped2019.reset_index()\n",
    "grouped2018 = grouped2018.reset_index()\n",
    "grouped2017 = grouped2017.reset_index()\n",
    "grouped2016 = grouped2016.reset_index()\n",
    "grouped2015 = grouped2015.reset_index()\n",
    "grouped2014 = grouped2014.reset_index()\n",
    "grouped2013 = grouped2013.reset_index()\n",
    "grouped2012 = grouped2012.reset_index()"
   ]
  },
  {
   "cell_type": "code",
   "execution_count": 39,
   "id": "9d738b64",
   "metadata": {},
   "outputs": [
    {
     "data": {
      "text/plain": [
       "4018"
      ]
     },
     "execution_count": 39,
     "metadata": {},
     "output_type": "execute_result"
    }
   ],
   "source": [
    "vento=pd.concat([grouped2021[['Data','Valore']], grouped2020[['Data','Valore']], grouped2019[['Data','Valore']], \n",
    "               grouped2018[['Data','Valore']], grouped2017[['Data','Valore']], grouped2016[['Data','Valore']],\n",
    "               grouped2015[['Data','Valore']], grouped2014[['Data','Valore']], grouped2013[['Data','Valore']],\n",
    "               grouped2012[['Data','Valore']]])\n",
    "len(vento)"
   ]
  },
  {
   "cell_type": "markdown",
   "id": "0519097d",
   "metadata": {},
   "source": [
    "dati inquinanti"
   ]
  },
  {
   "cell_type": "code",
   "execution_count": 49,
   "id": "c61e569e",
   "metadata": {},
   "outputs": [],
   "source": [
    "pm10 = pd.read_csv('serie_pm10.csv')\n",
    "pm10 = pm10[pm10['Data']>'2010-12-31']\n",
    "\n",
    "NO2 = pd.read_csv('serie_NO2.csv')\n",
    "NO2 = NO2[NO2['Data']>'2010-12-31']\n",
    "\n",
    "NO = pd.read_csv('serie_NO.csv')\n",
    "NO = NO[NO['Data']>'2010-12-31']\n",
    "\n",
    "O3 = pd.read_csv('serie_O3.csv')\n",
    "O3 = O3[O3['Data']>'2010-12-31']\n",
    "\n",
    "CO = pd.read_csv('serie_CO_2001_2021.csv')\n",
    "CO = CO[CO['Data']>'2010-12-31']\n",
    "\n",
    "pm2p5 = pd.read_csv('serie_pm2p5.csv')\n",
    "pm2p5 = pm2p5[pm2p5['Data']>'2010-12-31']"
   ]
  },
  {
   "cell_type": "markdown",
   "id": "78b491f2",
   "metadata": {},
   "source": [
    "Merge di tutto"
   ]
  },
  {
   "cell_type": "code",
   "execution_count": 63,
   "id": "88536295",
   "metadata": {},
   "outputs": [],
   "source": [
    "pm10['Data'] = pm10['Data'].astype('datetime64[ns]')\n",
    "NO2['Data'] = NO2['Data'].astype('datetime64[ns]')\n",
    "NO['Data'] = NO['Data'].astype('datetime64[ns]')\n",
    "CO['Data'] = CO['Data'].astype('datetime64[ns]')\n",
    "O3['Data'] = O3['Data'].astype('datetime64[ns]')\n",
    "pm2p5['Data'] = pm2p5['Data'].astype('datetime64[ns]')\n",
    "pioggia['Data'] = pioggia['Data'].astype('datetime64[ns]')\n",
    "temperatura['Data'] = temperatura['Data'].astype('datetime64[ns]')\n",
    "vento['Data'] = vento['Data'].astype('datetime64[ns]')"
   ]
  },
  {
   "cell_type": "code",
   "execution_count": 79,
   "id": "8b2da905",
   "metadata": {},
   "outputs": [
    {
     "data": {
      "text/html": [
       "<div>\n",
       "<style scoped>\n",
       "    .dataframe tbody tr th:only-of-type {\n",
       "        vertical-align: middle;\n",
       "    }\n",
       "\n",
       "    .dataframe tbody tr th {\n",
       "        vertical-align: top;\n",
       "    }\n",
       "\n",
       "    .dataframe thead th {\n",
       "        text-align: right;\n",
       "    }\n",
       "</style>\n",
       "<table border=\"1\" class=\"dataframe\">\n",
       "  <thead>\n",
       "    <tr style=\"text-align: right;\">\n",
       "      <th></th>\n",
       "      <th>Data</th>\n",
       "      <th>pm10</th>\n",
       "      <th>pioggia</th>\n",
       "      <th>temperatura</th>\n",
       "      <th>vento</th>\n",
       "      <th>NO2</th>\n",
       "      <th>NO</th>\n",
       "      <th>CO</th>\n",
       "      <th>O3</th>\n",
       "      <th>pm2p5</th>\n",
       "    </tr>\n",
       "  </thead>\n",
       "  <tbody>\n",
       "    <tr>\n",
       "      <th>0</th>\n",
       "      <td>2011-01-01</td>\n",
       "      <td>110.101449</td>\n",
       "      <td>0.402778</td>\n",
       "      <td>0.587884</td>\n",
       "      <td>2.090194</td>\n",
       "      <td>58.895316</td>\n",
       "      <td>148.060792</td>\n",
       "      <td>58.895316</td>\n",
       "      <td>9.823586</td>\n",
       "      <td>96.045455</td>\n",
       "    </tr>\n",
       "    <tr>\n",
       "      <th>1</th>\n",
       "      <td>2011-01-02</td>\n",
       "      <td>76.591549</td>\n",
       "      <td>0.238000</td>\n",
       "      <td>0.373400</td>\n",
       "      <td>3.001944</td>\n",
       "      <td>64.921775</td>\n",
       "      <td>199.351512</td>\n",
       "      <td>64.921775</td>\n",
       "      <td>10.212938</td>\n",
       "      <td>55.760000</td>\n",
       "    </tr>\n",
       "    <tr>\n",
       "      <th>2</th>\n",
       "      <td>2011-01-03</td>\n",
       "      <td>49.943662</td>\n",
       "      <td>0.212500</td>\n",
       "      <td>0.665049</td>\n",
       "      <td>2.112000</td>\n",
       "      <td>39.597048</td>\n",
       "      <td>65.509343</td>\n",
       "      <td>39.597048</td>\n",
       "      <td>32.680785</td>\n",
       "      <td>34.120000</td>\n",
       "    </tr>\n",
       "    <tr>\n",
       "      <th>3</th>\n",
       "      <td>2011-01-04</td>\n",
       "      <td>48.942029</td>\n",
       "      <td>0.216667</td>\n",
       "      <td>0.321896</td>\n",
       "      <td>1.110806</td>\n",
       "      <td>50.623988</td>\n",
       "      <td>87.482239</td>\n",
       "      <td>50.623988</td>\n",
       "      <td>44.895725</td>\n",
       "      <td>30.961538</td>\n",
       "    </tr>\n",
       "    <tr>\n",
       "      <th>4</th>\n",
       "      <td>2011-01-05</td>\n",
       "      <td>63.197183</td>\n",
       "      <td>0.250000</td>\n",
       "      <td>0.232639</td>\n",
       "      <td>0.986722</td>\n",
       "      <td>24.614003</td>\n",
       "      <td>33.312946</td>\n",
       "      <td>24.614003</td>\n",
       "      <td>65.688729</td>\n",
       "      <td>17.173913</td>\n",
       "    </tr>\n",
       "  </tbody>\n",
       "</table>\n",
       "</div>"
      ],
      "text/plain": [
       "        Data        pm10   pioggia  temperatura     vento        NO2  \\\n",
       "0 2011-01-01  110.101449  0.402778     0.587884  2.090194  58.895316   \n",
       "1 2011-01-02   76.591549  0.238000     0.373400  3.001944  64.921775   \n",
       "2 2011-01-03   49.943662  0.212500     0.665049  2.112000  39.597048   \n",
       "3 2011-01-04   48.942029  0.216667     0.321896  1.110806  50.623988   \n",
       "4 2011-01-05   63.197183  0.250000     0.232639  0.986722  24.614003   \n",
       "\n",
       "           NO         CO         O3      pm2p5  \n",
       "0  148.060792  58.895316   9.823586  96.045455  \n",
       "1  199.351512  64.921775  10.212938  55.760000  \n",
       "2   65.509343  39.597048  32.680785  34.120000  \n",
       "3   87.482239  50.623988  44.895725  30.961538  \n",
       "4   33.312946  24.614003  65.688729  17.173913  "
      ]
     },
     "execution_count": 79,
     "metadata": {},
     "output_type": "execute_result"
    }
   ],
   "source": [
    "appo = pm10.merge(pioggia, on='Data',suffixes=('_pm10', '_pioggia'))\n",
    "appo = appo.merge(temperatura, on='Data')\n",
    "appo = appo.merge(vento, on='Data',suffixes=('_temperatura','_vento'))\n",
    "appo = appo.merge(NO2[['Data','Valore']], on='Data')\n",
    "appo = appo.merge(NO[['Data','Valore']], on='Data',suffixes=('_NO2','_NO'))\n",
    "appo = appo.merge(CO[['Data','Valore']], on='Data')\n",
    "appo = appo.merge(O3[['Data','Valore']], on='Data',suffixes=('_CO','_O3'))\n",
    "merged = appo.merge(pm2p5[['Data','Valore']], on='Data')\n",
    "merged.columns=['Data','pm10','pioggia','temperatura','vento','NO2','NO','CO','O3','pm2p5']\n",
    "merged.head()"
   ]
  },
  {
   "cell_type": "code",
   "execution_count": 80,
   "id": "f13d1ae8",
   "metadata": {},
   "outputs": [],
   "source": [
    "merged.to_csv(('datimodelli.csv'))"
   ]
  },
  {
   "cell_type": "code",
   "execution_count": null,
   "id": "f930888f",
   "metadata": {},
   "outputs": [],
   "source": []
  }
 ],
 "metadata": {
  "kernelspec": {
   "display_name": "Python 3 (ipykernel)",
   "language": "python",
   "name": "python3"
  },
  "language_info": {
   "codemirror_mode": {
    "name": "ipython",
    "version": 3
   },
   "file_extension": ".py",
   "mimetype": "text/x-python",
   "name": "python",
   "nbconvert_exporter": "python",
   "pygments_lexer": "ipython3",
   "version": "3.9.7"
  }
 },
 "nbformat": 4,
 "nbformat_minor": 5
}

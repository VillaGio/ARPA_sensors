{
 "cells": [
  {
   "cell_type": "code",
   "execution_count": 44,
   "id": "074e33fe",
   "metadata": {},
   "outputs": [],
   "source": [
    "import pandas as pd\n",
    "from keras import layers, models, optimizers, losses, metrics \n",
    "\n",
    "import pandas as pd\n",
    "import numpy as np\n",
    "from keras.utils import np_utils\n",
    "import keras\n",
    "from keras.models  import Sequential\n",
    "from keras import layers\n",
    "from keras.optimizers import gradient_descent_v2 \n",
    "\n",
    "from sklearn.model_selection import train_test_split\n",
    "from sklearn import preprocessing\n",
    "from sklearn.preprocessing import LabelEncoder, OneHotEncoder\n",
    "import tensorflow_addons as tfa\n",
    "import tensorflow as tf"
   ]
  },
  {
   "cell_type": "code",
   "execution_count": 45,
   "id": "10d34b85",
   "metadata": {},
   "outputs": [
    {
     "data": {
      "text/plain": [
       "'2.9.1'"
      ]
     },
     "execution_count": 45,
     "metadata": {},
     "output_type": "execute_result"
    }
   ],
   "source": [
    "tf.version.VERSION"
   ]
  },
  {
   "cell_type": "code",
   "execution_count": 46,
   "id": "0d61e104",
   "metadata": {},
   "outputs": [
    {
     "data": {
      "text/html": [
       "<div>\n",
       "<style scoped>\n",
       "    .dataframe tbody tr th:only-of-type {\n",
       "        vertical-align: middle;\n",
       "    }\n",
       "\n",
       "    .dataframe tbody tr th {\n",
       "        vertical-align: top;\n",
       "    }\n",
       "\n",
       "    .dataframe thead th {\n",
       "        text-align: right;\n",
       "    }\n",
       "</style>\n",
       "<table border=\"1\" class=\"dataframe\">\n",
       "  <thead>\n",
       "    <tr style=\"text-align: right;\">\n",
       "      <th></th>\n",
       "      <th>pm10</th>\n",
       "      <th>pioggia</th>\n",
       "      <th>temperatura</th>\n",
       "      <th>vento</th>\n",
       "      <th>O3</th>\n",
       "      <th>pm2p5</th>\n",
       "    </tr>\n",
       "  </thead>\n",
       "  <tbody>\n",
       "    <tr>\n",
       "      <th>0</th>\n",
       "      <td>110.101449</td>\n",
       "      <td>0.402778</td>\n",
       "      <td>0.587884</td>\n",
       "      <td>2.090194</td>\n",
       "      <td>9.823586</td>\n",
       "      <td>96.045455</td>\n",
       "    </tr>\n",
       "    <tr>\n",
       "      <th>1</th>\n",
       "      <td>76.591549</td>\n",
       "      <td>0.238000</td>\n",
       "      <td>0.373400</td>\n",
       "      <td>3.001944</td>\n",
       "      <td>10.212938</td>\n",
       "      <td>55.760000</td>\n",
       "    </tr>\n",
       "    <tr>\n",
       "      <th>2</th>\n",
       "      <td>49.943662</td>\n",
       "      <td>0.212500</td>\n",
       "      <td>0.665049</td>\n",
       "      <td>2.112000</td>\n",
       "      <td>32.680785</td>\n",
       "      <td>34.120000</td>\n",
       "    </tr>\n",
       "    <tr>\n",
       "      <th>3</th>\n",
       "      <td>48.942029</td>\n",
       "      <td>0.216667</td>\n",
       "      <td>0.321896</td>\n",
       "      <td>1.110806</td>\n",
       "      <td>44.895725</td>\n",
       "      <td>30.961538</td>\n",
       "    </tr>\n",
       "    <tr>\n",
       "      <th>4</th>\n",
       "      <td>63.197183</td>\n",
       "      <td>0.250000</td>\n",
       "      <td>0.232639</td>\n",
       "      <td>0.986722</td>\n",
       "      <td>65.688729</td>\n",
       "      <td>17.173913</td>\n",
       "    </tr>\n",
       "  </tbody>\n",
       "</table>\n",
       "</div>"
      ],
      "text/plain": [
       "         pm10   pioggia  temperatura     vento         O3      pm2p5\n",
       "0  110.101449  0.402778     0.587884  2.090194   9.823586  96.045455\n",
       "1   76.591549  0.238000     0.373400  3.001944  10.212938  55.760000\n",
       "2   49.943662  0.212500     0.665049  2.112000  32.680785  34.120000\n",
       "3   48.942029  0.216667     0.321896  1.110806  44.895725  30.961538\n",
       "4   63.197183  0.250000     0.232639  0.986722  65.688729  17.173913"
      ]
     },
     "execution_count": 46,
     "metadata": {},
     "output_type": "execute_result"
    }
   ],
   "source": [
    "dati = pd.read_csv('datimodelli.csv')\n",
    "dati = dati[['pm10','pioggia','temperatura','vento','O3','pm2p5']]\n",
    "dati.head()"
   ]
  },
  {
   "cell_type": "code",
   "execution_count": 47,
   "id": "7a49cbae",
   "metadata": {},
   "outputs": [],
   "source": [
    "mean = dati.mean(axis=0)\n",
    "dati -= mean\n",
    "std = dati.std(axis=0)\n",
    "dati /= std"
   ]
  },
  {
   "cell_type": "code",
   "execution_count": 48,
   "id": "c8175e03",
   "metadata": {},
   "outputs": [],
   "source": [
    "df, cl = (dati[['pioggia','temperatura','vento','O3','pm2p5']], dati['pm10'])\n",
    "x_train, x_test, y_train, y_test = train_test_split(df, cl, test_size=0.3)"
   ]
  },
  {
   "cell_type": "code",
   "execution_count": 55,
   "id": "048209ad",
   "metadata": {},
   "outputs": [],
   "source": [
    "model = models.Sequential()\n",
    "model.add(layers.Dense(64, activation ='relu', input_shape = (x_train.shape[1],)))\n",
    "model.add(layers.Dense(64, activation ='relu'))\n",
    "model.add(layers.Dense(1))\n",
    "\n",
    "model.compile(optimizer = 'rmsprop', loss='mse', metrics=['mae'])"
   ]
  },
  {
   "cell_type": "code",
   "execution_count": 56,
   "id": "d8764f06",
   "metadata": {},
   "outputs": [
    {
     "name": "stdout",
     "output_type": "stream",
     "text": [
      "Epoch 1/30\n",
      "2711/2711 [==============================] - 4s 1ms/step - loss: 0.4782 - mae: 0.4115 - MAPE: 247.9230\n",
      "Epoch 2/30\n",
      "2711/2711 [==============================] - 3s 1ms/step - loss: 0.4097 - mae: 0.3859 - MAPE: 246.1584\n",
      "Epoch 3/30\n",
      "2711/2711 [==============================] - 3s 1ms/step - loss: 0.3792 - mae: 0.3786 - MAPE: 254.5262\n",
      "Epoch 4/30\n",
      "2711/2711 [==============================] - 3s 1ms/step - loss: 0.3481 - mae: 0.3673 - MAPE: 227.4918\n",
      "Epoch 5/30\n",
      "2711/2711 [==============================] - 3s 1ms/step - loss: 0.3388 - mae: 0.3639 - MAPE: 240.6393\n",
      "Epoch 6/30\n",
      "2711/2711 [==============================] - 3s 1ms/step - loss: 0.3395 - mae: 0.3670 - MAPE: 225.8082\n",
      "Epoch 7/30\n",
      "2711/2711 [==============================] - 3s 1ms/step - loss: 0.3384 - mae: 0.3623 - MAPE: 238.0686\n",
      "Epoch 8/30\n",
      "2711/2711 [==============================] - 3s 1ms/step - loss: 0.3343 - mae: 0.3586 - MAPE: 223.3028\n",
      "Epoch 9/30\n",
      "2711/2711 [==============================] - 3s 1ms/step - loss: 0.3304 - mae: 0.3595 - MAPE: 218.9069\n",
      "Epoch 10/30\n",
      "2711/2711 [==============================] - 3s 1ms/step - loss: 0.3337 - mae: 0.3577 - MAPE: 206.0750\n",
      "Epoch 11/30\n",
      "2711/2711 [==============================] - 3s 1ms/step - loss: 0.3261 - mae: 0.3525 - MAPE: 222.2422\n",
      "Epoch 12/30\n",
      "2711/2711 [==============================] - 3s 1ms/step - loss: 0.3229 - mae: 0.3499 - MAPE: 207.6945\n",
      "Epoch 13/30\n",
      "2711/2711 [==============================] - 4s 1ms/step - loss: 0.3263 - mae: 0.3504 - MAPE: 223.4119\n",
      "Epoch 14/30\n",
      "2711/2711 [==============================] - 3s 1ms/step - loss: 0.3185 - mae: 0.3484 - MAPE: 220.1009\n",
      "Epoch 15/30\n",
      "2711/2711 [==============================] - 4s 1ms/step - loss: 0.3137 - mae: 0.3463 - MAPE: 189.3125\n",
      "Epoch 16/30\n",
      "2711/2711 [==============================] - 4s 1ms/step - loss: 0.3195 - mae: 0.3478 - MAPE: 206.4526\n",
      "Epoch 17/30\n",
      "2711/2711 [==============================] - 3s 1ms/step - loss: 0.3148 - mae: 0.3447 - MAPE: 206.4055\n",
      "Epoch 18/30\n",
      "2711/2711 [==============================] - 4s 1ms/step - loss: 0.3083 - mae: 0.3416 - MAPE: 202.9159\n",
      "Epoch 19/30\n",
      "2711/2711 [==============================] - 3s 1ms/step - loss: 0.3107 - mae: 0.3411 - MAPE: 203.5793\n",
      "Epoch 20/30\n",
      "2711/2711 [==============================] - 3s 1ms/step - loss: 0.3217 - mae: 0.3414 - MAPE: 212.4204\n",
      "Epoch 21/30\n",
      "2711/2711 [==============================] - 3s 1ms/step - loss: 0.3145 - mae: 0.3426 - MAPE: 201.7525\n",
      "Epoch 22/30\n",
      "2711/2711 [==============================] - 3s 1ms/step - loss: 0.3209 - mae: 0.3439 - MAPE: 202.9348\n",
      "Epoch 23/30\n",
      "2711/2711 [==============================] - 4s 1ms/step - loss: 0.3154 - mae: 0.3425 - MAPE: 194.2490\n",
      "Epoch 24/30\n",
      "2711/2711 [==============================] - 4s 1ms/step - loss: 0.3191 - mae: 0.3427 - MAPE: 207.4777\n",
      "Epoch 25/30\n",
      "2711/2711 [==============================] - 3s 1ms/step - loss: 0.3128 - mae: 0.3408 - MAPE: 231.5669\n",
      "Epoch 26/30\n",
      "2711/2711 [==============================] - 4s 1ms/step - loss: 0.3153 - mae: 0.3407 - MAPE: 216.3647\n",
      "Epoch 27/30\n",
      "2711/2711 [==============================] - 3s 1ms/step - loss: 0.3149 - mae: 0.3358 - MAPE: 222.7461\n",
      "Epoch 28/30\n",
      "2711/2711 [==============================] - 4s 1ms/step - loss: 0.3229 - mae: 0.3426 - MAPE: 209.4215\n",
      "Epoch 29/30\n",
      "2711/2711 [==============================] - 4s 1ms/step - loss: 0.3144 - mae: 0.3383 - MAPE: 213.7977\n",
      "Epoch 30/30\n",
      "2711/2711 [==============================] - 4s 1ms/step - loss: 0.3160 - mae: 0.3399 - MAPE: 200.8147\n"
     ]
    },
    {
     "data": {
      "text/plain": [
       "<keras.callbacks.History at 0x1608d2c5b80>"
      ]
     },
     "execution_count": 56,
     "metadata": {},
     "output_type": "execute_result"
    }
   ],
   "source": [
    "model.fit(x_train, y_train, epochs = 30, batch_size = 1, verbose = 1)"
   ]
  },
  {
   "cell_type": "code",
   "execution_count": 57,
   "id": "57b1c05b",
   "metadata": {},
   "outputs": [
    {
     "name": "stdout",
     "output_type": "stream",
     "text": [
      "0.35924360156059265 0.3735334873199463 179.40992736816406\n"
     ]
    }
   ],
   "source": [
    "mse, mae = model.evaluate(x_test, y_test, verbose = 0)\n",
    "print(mse, mae)"
   ]
  },
  {
   "cell_type": "code",
   "execution_count": 64,
   "id": "65d1c0b9",
   "metadata": {},
   "outputs": [
    {
     "name": "stdout",
     "output_type": "stream",
     "text": [
      "37/37 [==============================] - 0s 1ms/step\n"
     ]
    },
    {
     "data": {
      "text/plain": [
       "[<matplotlib.lines.Line2D at 0x1609928d760>]"
      ]
     },
     "execution_count": 64,
     "metadata": {},
     "output_type": "execute_result"
    },
    {
     "data": {
      "image/png": "[encoded data removed]",
      "text/plain": [
       "<Figure size 432x288 with 1 Axes>"
      ]
     },
     "metadata": {
      "needs_background": "light"
     },
     "output_type": "display_data"
    }
   ],
   "source": [
    "import matplotlib.pyplot as plt\n",
    "plt.plot(model.predict(x_test),  label = \"Previsioni\", color='lawngreen')\n",
    "plt.plot(list(y_test), label = \"Valori Osservati\", color='turquoise')"
   ]
  },
  {
   "cell_type": "markdown",
   "id": "e02a2a21",
   "metadata": {},
   "source": [
    "Miglioriamo il modello mantenedo una densenet"
   ]
  },
  {
   "cell_type": "code",
   "execution_count": 79,
   "id": "6e615a12",
   "metadata": {},
   "outputs": [],
   "source": [
    "model = models.Sequential()\n",
    "model.add(layers.Dense(128, kernel_initializer='normal',input_dim = x_train.shape[1], activation='relu'))\n",
    "\n",
    "model.add(layers.Dense(256, kernel_initializer='normal',activation='relu'))\n",
    "model.add(layers.Dense(256, kernel_initializer='normal',activation='relu'))\n",
    "model.add(layers.Dense(256, kernel_initializer='normal',activation='relu'))\n",
    "\n",
    "model.add(layers.Dense(1, kernel_initializer='normal', activation='linear'))\n",
    "\n",
    "model.compile(optimizer = 'rmsprop', loss='mean_absolute_error', metrics=['mae'])"
   ]
  },
  {
   "cell_type": "code",
   "execution_count": 90,
   "id": "f85dcd15",
   "metadata": {},
   "outputs": [
    {
     "name": "stdout",
     "output_type": "stream",
     "text": [
      "Epoch 1/10\n",
      "2711/2711 [==============================] - 8s 3ms/step - loss: 0.3110 - mae: 0.3110\n",
      "Epoch 2/10\n",
      "2711/2711 [==============================] - 10s 4ms/step - loss: 0.3116 - mae: 0.3116\n",
      "Epoch 3/10\n",
      "2711/2711 [==============================] - 8s 3ms/step - loss: 0.3112 - mae: 0.3112\n",
      "Epoch 4/10\n",
      "2711/2711 [==============================] - 7s 3ms/step - loss: 0.3097 - mae: 0.3097\n",
      "Epoch 5/10\n",
      "2711/2711 [==============================] - 8s 3ms/step - loss: 0.3076 - mae: 0.3076\n",
      "Epoch 6/10\n",
      "2711/2711 [==============================] - 7s 3ms/step - loss: 0.3075 - mae: 0.3075\n",
      "Epoch 7/10\n",
      "2711/2711 [==============================] - 8s 3ms/step - loss: 0.3086 - mae: 0.3086\n",
      "Epoch 8/10\n",
      "2711/2711 [==============================] - 7s 3ms/step - loss: 0.3058 - mae: 0.3058\n",
      "Epoch 9/10\n",
      "2711/2711 [==============================] - 8s 3ms/step - loss: 0.3083 - mae: 0.3083\n",
      "Epoch 10/10\n",
      "2711/2711 [==============================] - 8s 3ms/step - loss: 0.3056 - mae: 0.3056\n"
     ]
    },
    {
     "data": {
      "text/plain": [
       "<keras.callbacks.History at 0x16093d949a0>"
      ]
     },
     "execution_count": 90,
     "metadata": {},
     "output_type": "execute_result"
    }
   ],
   "source": [
    "model.fit(x_train, y_train, epochs = 10, batch_size = 1, verbose = 1)"
   ]
  },
  {
   "cell_type": "code",
   "execution_count": 91,
   "id": "494f7e71",
   "metadata": {},
   "outputs": [
    {
     "name": "stdout",
     "output_type": "stream",
     "text": [
      "0.334747314453125\n"
     ]
    }
   ],
   "source": [
    "mae, mae = model.evaluate(x_test, y_test, verbose = 0)\n",
    "print(mae)"
   ]
  },
  {
   "cell_type": "code",
   "execution_count": 96,
   "id": "5da2ac5b",
   "metadata": {},
   "outputs": [
    {
     "name": "stdout",
     "output_type": "stream",
     "text": [
      "37/37 [==============================] - 0s 2ms/step\n"
     ]
    },
    {
     "data": {
      "text/plain": [
       "[<matplotlib.lines.Line2D at 0x16094069c10>]"
      ]
     },
     "execution_count": 96,
     "metadata": {},
     "output_type": "execute_result"
    },
    {
     "data": {
      "image/png": "[encoded data removed]",
      "text/plain": [
       "<Figure size 432x288 with 1 Axes>"
      ]
     },
     "metadata": {
      "needs_background": "light"
     },
     "output_type": "display_data"
    }
   ],
   "source": [
    "import matplotlib.pyplot as plt\n",
    "plt.plot(model.predict(x_test),  label = \"Previsioni\", color='lawngreen')\n",
    "plt.plot(list(y_test), label = \"Valori Osservati\", color='turquoise')"
   ]
  },
  {
   "cell_type": "markdown",
   "id": "704b446c",
   "metadata": {},
   "source": [
    "XGBoost"
   ]
  },
  {
   "cell_type": "code",
   "execution_count": 97,
   "id": "5a25393f",
   "metadata": {},
   "outputs": [
    {
     "name": "stdout",
     "output_type": "stream",
     "text": [
      "XGBoost validation MAE =  0.3735833079307122\n"
     ]
    }
   ],
   "source": [
    "from xgboost import XGBRegressor\n",
    "from sklearn.metrics import mean_absolute_error\n",
    "XGBModel = XGBRegressor()\n",
    "XGBModel.fit(x_train,y_train, verbose=False)\n",
    "\n",
    "# Get the mean absolute error on the validation data :\n",
    "XGBpredictions = XGBModel.predict(x_test)\n",
    "MAE = mean_absolute_error(y_test , XGBpredictions)\n",
    "print('XGBoost validation MAE = ',MAE)"
   ]
  },
  {
   "cell_type": "code",
   "execution_count": 101,
   "id": "17faf47e",
   "metadata": {},
   "outputs": [
    {
     "data": {
      "text/plain": [
       "[<matplotlib.lines.Line2D at 0x160940c5be0>]"
      ]
     },
     "execution_count": 101,
     "metadata": {},
     "output_type": "execute_result"
    },
    {
     "data": {
      "image/png": "[encoded data removed]",
      "text/plain": [
       "<Figure size 432x288 with 1 Axes>"
      ]
     },
     "metadata": {
      "needs_background": "light"
     },
     "output_type": "display_data"
    }
   ],
   "source": [
    "import matplotlib.pyplot as plt\n",
    "plt.plot(list(XGBpredictions),  label = \"Previsioni\", color='lawngreen')\n",
    "plt.plot(list(y_test), label = \"Valori Osservati\", color='turquoise')"
   ]
  },
  {
   "cell_type": "markdown",
   "id": "a6dd1585",
   "metadata": {},
   "source": [
    "Dimostriamo il fallimento delle CNN"
   ]
  },
  {
   "cell_type": "code",
   "execution_count": 108,
   "id": "cee1332d",
   "metadata": {},
   "outputs": [],
   "source": [
    "model3 = Sequential()\n",
    "\n",
    "model3.add(layers.Conv1D(64, kernel_size=3, activation = 'relu', input_shape = x_train.shape))\n",
    "model3.add(layers.MaxPooling1D(pool_size=2))\n",
    "model3.add(layers.Conv1D(128, kernel_size=3, activation = 'relu', padding = 'same'))\n",
    "model3.add(layers.MaxPooling1D(pool_size=2))\n",
    "model3.add(layers.Dropout(rate = 0.5))\n",
    "model3.add(layers.Flatten())\n",
    "model3.add(layers.Dense(128, activation = 'relu'))\n",
    "model3.add(layers.Dropout(rate = 0.5))\n",
    "model.add(layers.Dense(1, kernel_initializer='normal', activation='softmax'))\n",
    "\n",
    "model.compile(optimizer = 'rmsprop', loss='mean_absolute_error', metrics=['mae'])"
   ]
  },
  {
   "cell_type": "code",
   "execution_count": 109,
   "id": "50ffa2c0",
   "metadata": {},
   "outputs": [
    {
     "name": "stdout",
     "output_type": "stream",
     "text": [
      "Epoch 1/30\n",
      "2711/2711 [==============================] - 12s 4ms/step - loss: 1.2838 - mae: 1.2838\n",
      "Epoch 2/30\n",
      "2711/2711 [==============================] - 10s 4ms/step - loss: 1.2838 - mae: 1.2838\n",
      "Epoch 3/30\n",
      "2711/2711 [==============================] - 10s 4ms/step - loss: 1.2838 - mae: 1.2838\n",
      "Epoch 4/30\n",
      "2711/2711 [==============================] - 10s 4ms/step - loss: 1.2838 - mae: 1.2838\n",
      "Epoch 5/30\n",
      "2711/2711 [==============================] - 10s 4ms/step - loss: 1.2838 - mae: 1.2838\n",
      "Epoch 6/30\n",
      "2711/2711 [==============================] - 10s 4ms/step - loss: 1.2838 - mae: 1.2838\n",
      "Epoch 7/30\n",
      "2711/2711 [==============================] - 11s 4ms/step - loss: 1.2838 - mae: 1.2838\n",
      "Epoch 8/30\n",
      "2711/2711 [==============================] - 10s 4ms/step - loss: 1.2838 - mae: 1.2838\n",
      "Epoch 9/30\n",
      "2711/2711 [==============================] - 10s 4ms/step - loss: 1.2838 - mae: 1.2838\n",
      "Epoch 10/30\n",
      "2711/2711 [==============================] - 10s 4ms/step - loss: 1.2838 - mae: 1.2838\n",
      "Epoch 11/30\n",
      "2711/2711 [==============================] - 11s 4ms/step - loss: 1.2838 - mae: 1.2838\n",
      "Epoch 12/30\n",
      "2711/2711 [==============================] - 10s 4ms/step - loss: 1.2838 - mae: 1.2838\n",
      "Epoch 13/30\n",
      "2711/2711 [==============================] - 10s 4ms/step - loss: 1.2838 - mae: 1.2838\n",
      "Epoch 14/30\n",
      "2711/2711 [==============================] - 10s 4ms/step - loss: 1.2838 - mae: 1.2838\n",
      "Epoch 15/30\n",
      "2711/2711 [==============================] - 10s 4ms/step - loss: 1.2838 - mae: 1.2838\n",
      "Epoch 16/30\n",
      "2711/2711 [==============================] - 10s 4ms/step - loss: 1.2838 - mae: 1.2838\n",
      "Epoch 17/30\n",
      "2711/2711 [==============================] - 10s 4ms/step - loss: 1.2838 - mae: 1.2838\n",
      "Epoch 18/30\n",
      "2711/2711 [==============================] - 10s 4ms/step - loss: 1.2838 - mae: 1.2838\n",
      "Epoch 19/30\n",
      "2711/2711 [==============================] - 10s 4ms/step - loss: 1.2838 - mae: 1.2838\n",
      "Epoch 20/30\n",
      "2711/2711 [==============================] - 10s 4ms/step - loss: 1.2838 - mae: 1.2838\n",
      "Epoch 21/30\n",
      "2711/2711 [==============================] - 10s 4ms/step - loss: 1.2838 - mae: 1.2838\n",
      "Epoch 22/30\n",
      "2711/2711 [==============================] - 10s 4ms/step - loss: 1.2838 - mae: 1.2838\n",
      "Epoch 23/30\n",
      "2711/2711 [==============================] - 10s 4ms/step - loss: 1.2838 - mae: 1.2838\n",
      "Epoch 24/30\n",
      "2711/2711 [==============================] - 10s 4ms/step - loss: 1.2838 - mae: 1.2838\n",
      "Epoch 25/30\n",
      "2711/2711 [==============================] - 10s 4ms/step - loss: 1.2838 - mae: 1.2838\n",
      "Epoch 26/30\n",
      "2711/2711 [==============================] - 10s 4ms/step - loss: 1.2838 - mae: 1.2838\n",
      "Epoch 27/30\n",
      "2711/2711 [==============================] - 11s 4ms/step - loss: 1.2838 - mae: 1.2838\n",
      "Epoch 28/30\n",
      "2711/2711 [==============================] - 11s 4ms/step - loss: 1.2838 - mae: 1.2838\n",
      "Epoch 29/30\n",
      "2711/2711 [==============================] - 10s 4ms/step - loss: 1.2838 - mae: 1.2838\n",
      "Epoch 30/30\n",
      "2711/2711 [==============================] - 11s 4ms/step - loss: 1.2838 - mae: 1.2838\n"
     ]
    },
    {
     "data": {
      "text/plain": [
       "<keras.callbacks.History at 0x1609431a700>"
      ]
     },
     "execution_count": 109,
     "metadata": {},
     "output_type": "execute_result"
    }
   ],
   "source": [
    "model.fit(x_train, y_train, epochs = 30, batch_size = 1, verbose = 1)"
   ]
  },
  {
   "cell_type": "code",
   "execution_count": 111,
   "id": "3e2db323",
   "metadata": {},
   "outputs": [
    {
     "name": "stdout",
     "output_type": "stream",
     "text": [
      "1.237671971321106\n"
     ]
    }
   ],
   "source": [
    "mae, mae = model.evaluate(x_test, y_test, verbose = 0)\n",
    "print(mae)"
   ]
  },
  {
   "cell_type": "code",
   "execution_count": 113,
   "id": "2c56f4b0",
   "metadata": {},
   "outputs": [
    {
     "name": "stdout",
     "output_type": "stream",
     "text": [
      "37/37 [==============================] - 0s 2ms/step\n"
     ]
    },
    {
     "data": {
      "text/plain": [
       "[<matplotlib.lines.Line2D at 0x160c235c5e0>]"
      ]
     },
     "execution_count": 113,
     "metadata": {},
     "output_type": "execute_result"
    },
    {
     "data": {
      "image/png": "[encoded data removed]",
      "text/plain": [
       "<Figure size 432x288 with 1 Axes>"
      ]
     },
     "metadata": {
      "needs_background": "light"
     },
     "output_type": "display_data"
    }
   ],
   "source": [
    "import matplotlib.pyplot as plt\n",
    "plt.plot(model.predict(x_test),  label = \"Previsioni\", color='lawngreen')\n",
    "plt.plot(list(y_test), label = \"Valori Osservati\", color='turquoise')"
   ]
  },
  {
   "cell_type": "markdown",
   "id": "ed2b3ae9",
   "metadata": {},
   "source": [
    "Modello supercomplesso"
   ]
  },
  {
   "cell_type": "code",
   "execution_count": 114,
   "id": "bb48397d",
   "metadata": {},
   "outputs": [],
   "source": [
    "model = models.Sequential()\n",
    "model.add(layers.Dense(128, kernel_initializer='normal',input_dim = x_train.shape[1], activation='relu'))\n",
    "\n",
    "model.add(layers.Dense(8192, kernel_initializer='normal',activation='relu'))\n",
    "model.add(layers.Dense(4096, kernel_initializer='normal',activation='relu'))\n",
    "model.add(layers.Dense(2048, kernel_initializer='normal',activation='relu'))\n",
    "model.add(layers.Dense(1024, kernel_initializer='normal',activation='relu'))\n",
    "model.add(layers.Dense(512, kernel_initializer='normal',activation='relu'))\n",
    "model.add(layers.Dense(256, kernel_initializer='normal',activation='relu'))\n",
    "\n",
    "model.add(layers.Dense(1, kernel_initializer='normal', activation='linear'))\n",
    "\n",
    "model.compile(optimizer = 'rmsprop', loss='mean_absolute_error', metrics=['mae'])"
   ]
  },
  {
   "cell_type": "code",
   "execution_count": 115,
   "id": "c14321c2",
   "metadata": {},
   "outputs": [
    {
     "name": "stdout",
     "output_type": "stream",
     "text": [
      "Epoch 1/5\n",
      "2711/2711 [==============================] - 1250s 460ms/step - loss: 0.5844 - mae: 0.5844\n",
      "Epoch 2/5\n",
      "2711/2711 [==============================] - 1234s 455ms/step - loss: 0.4265 - mae: 0.4265\n",
      "Epoch 3/5\n",
      "2711/2711 [==============================] - 1123s 414ms/step - loss: 0.4095 - mae: 0.4095\n",
      "Epoch 4/5\n",
      "2711/2711 [==============================] - 1086s 401ms/step - loss: 0.3991 - mae: 0.3991\n",
      "Epoch 5/5\n",
      "2711/2711 [==============================] - 1090s 402ms/step - loss: 0.3859 - mae: 0.3859\n"
     ]
    },
    {
     "data": {
      "text/plain": [
       "<keras.callbacks.History at 0x160c23ad5e0>"
      ]
     },
     "execution_count": 115,
     "metadata": {},
     "output_type": "execute_result"
    }
   ],
   "source": [
    "model.fit(x_train, y_train, epochs = 5, batch_size = 1, verbose = 1)"
   ]
  },
  {
   "cell_type": "code",
   "execution_count": 116,
   "id": "100a434d",
   "metadata": {},
   "outputs": [
    {
     "name": "stdout",
     "output_type": "stream",
     "text": [
      "0.39160627126693726\n"
     ]
    }
   ],
   "source": [
    "mae, mae = model.evaluate(x_test, y_test, verbose = 0)\n",
    "print(mae)"
   ]
  },
  {
   "cell_type": "markdown",
   "id": "f8ee2ab8",
   "metadata": {},
   "source": [
    "0.39160627126693726"
   ]
  },
  {
   "cell_type": "code",
   "execution_count": 117,
   "id": "f9134dbd",
   "metadata": {},
   "outputs": [
    {
     "data": {
      "text/plain": [
       "[<matplotlib.lines.Line2D at 0x160c24739d0>]"
      ]
     },
     "execution_count": 117,
     "metadata": {},
     "output_type": "execute_result"
    },
    {
     "data": {
      "image/png": "[encoded data removed]",
      "text/plain": [
       "<Figure size 432x288 with 1 Axes>"
      ]
     },
     "metadata": {
      "needs_background": "light"
     },
     "output_type": "display_data"
    }
   ],
   "source": [
    "import matplotlib.pyplot as plt\n",
    "plt.plot(list(XGBpredictions),  label = \"Previsioni\", color='lawngreen')\n",
    "plt.plot(list(y_test), label = \"Valori Osservati\", color='turquoise')"
   ]
  },
  {
   "cell_type": "code",
   "execution_count": null,
   "id": "5af17723",
   "metadata": {},
   "outputs": [],
   "source": []
  }
 ],
 "metadata": {
  "kernelspec": {
   "display_name": "Python 3 (ipykernel)",
   "language": "python",
   "name": "python3"
  },
  "language_info": {
   "codemirror_mode": {
    "name": "ipython",
    "version": 3
   },
   "file_extension": ".py",
   "mimetype": "text/x-python",
   "name": "python",
   "nbconvert_exporter": "python",
   "pygments_lexer": "ipython3",
   "version": "3.9.7"
  }
 },
 "nbformat": 4,
 "nbformat_minor": 5
}

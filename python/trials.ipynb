{
 "cells": [
  {
   "cell_type": "code",
   "execution_count": 1,
   "metadata": {},
   "outputs": [],
   "source": [
    "from pickle_functions import *\n",
    "from integrity_functions import *\n",
    "from postgres_functions import *\n",
    "from update_functions import *"
   ]
  },
  {
   "cell_type": "code",
   "execution_count": 2,
   "metadata": {},
   "outputs": [
    {
     "data": {
      "text/html": [
       "<div>\n",
       "<style scoped>\n",
       "    .dataframe tbody tr th:only-of-type {\n",
       "        vertical-align: middle;\n",
       "    }\n",
       "\n",
       "    .dataframe tbody tr th {\n",
       "        vertical-align: top;\n",
       "    }\n",
       "\n",
       "    .dataframe thead th {\n",
       "        text-align: right;\n",
       "    }\n",
       "</style>\n",
       "<table border=\"1\" class=\"dataframe\">\n",
       "  <thead>\n",
       "    <tr style=\"text-align: right;\">\n",
       "      <th></th>\n",
       "      <th>idsensore</th>\n",
       "      <th>dataora</th>\n",
       "      <th>valore</th>\n",
       "      <th>stato</th>\n",
       "      <th>idoperatore</th>\n",
       "    </tr>\n",
       "  </thead>\n",
       "  <tbody>\n",
       "    <tr>\n",
       "      <th>0</th>\n",
       "      <td>5504</td>\n",
       "      <td>2022-01-01</td>\n",
       "      <td>49.7</td>\n",
       "      <td>VA</td>\n",
       "      <td>1</td>\n",
       "    </tr>\n",
       "    <tr>\n",
       "      <th>1</th>\n",
       "      <td>5507</td>\n",
       "      <td>2022-01-01</td>\n",
       "      <td>60.2</td>\n",
       "      <td>VA</td>\n",
       "      <td>1</td>\n",
       "    </tr>\n",
       "    <tr>\n",
       "      <th>2</th>\n",
       "      <td>5517</td>\n",
       "      <td>2022-01-01</td>\n",
       "      <td>45.0</td>\n",
       "      <td>VA</td>\n",
       "      <td>1</td>\n",
       "    </tr>\n",
       "    <tr>\n",
       "      <th>3</th>\n",
       "      <td>5520</td>\n",
       "      <td>2022-01-01</td>\n",
       "      <td>31.4</td>\n",
       "      <td>VA</td>\n",
       "      <td>1</td>\n",
       "    </tr>\n",
       "    <tr>\n",
       "      <th>4</th>\n",
       "      <td>5531</td>\n",
       "      <td>2022-01-01</td>\n",
       "      <td>48.1</td>\n",
       "      <td>VA</td>\n",
       "      <td>1</td>\n",
       "    </tr>\n",
       "  </tbody>\n",
       "</table>\n",
       "</div>"
      ],
      "text/plain": [
       "   idsensore    dataora  valore stato  idoperatore\n",
       "0       5504 2022-01-01    49.7    VA            1\n",
       "1       5507 2022-01-01    60.2    VA            1\n",
       "2       5517 2022-01-01    45.0    VA            1\n",
       "3       5520 2022-01-01    31.4    VA            1\n",
       "4       5531 2022-01-01    48.1    VA            1"
      ]
     },
     "execution_count": 2,
     "metadata": {},
     "output_type": "execute_result"
    }
   ],
   "source": [
    "apiDf = fromJsonApiToDf('2022-05-29T12:00:00')\n",
    "apiDf = getSortedJsonDf(apiDf)\n",
    "apiDf.head(5)\n",
    "#apiDf.shape # (1110141, 5)"
   ]
  },
  {
   "cell_type": "code",
   "execution_count": 3,
   "metadata": {},
   "outputs": [
    {
     "data": {
      "text/plain": [
       "(1099151, 5)"
      ]
     },
     "execution_count": 3,
     "metadata": {},
     "output_type": "execute_result"
    }
   ],
   "source": [
    "apiDf.shape # (1110141, 5) #(1099151, 5)"
   ]
  },
  {
   "cell_type": "code",
   "execution_count": 21,
   "metadata": {},
   "outputs": [
    {
     "data": {
      "text/html": [
       "<div>\n",
       "<style scoped>\n",
       "    .dataframe tbody tr th:only-of-type {\n",
       "        vertical-align: middle;\n",
       "    }\n",
       "\n",
       "    .dataframe tbody tr th {\n",
       "        vertical-align: top;\n",
       "    }\n",
       "\n",
       "    .dataframe thead th {\n",
       "        text-align: right;\n",
       "    }\n",
       "</style>\n",
       "<table border=\"1\" class=\"dataframe\">\n",
       "  <thead>\n",
       "    <tr style=\"text-align: right;\">\n",
       "      <th></th>\n",
       "      <th>idsensore</th>\n",
       "      <th>dataora</th>\n",
       "      <th>valore</th>\n",
       "      <th>stato</th>\n",
       "      <th>idoperatore</th>\n",
       "    </tr>\n",
       "  </thead>\n",
       "  <tbody>\n",
       "    <tr>\n",
       "      <th>0</th>\n",
       "      <td>5504</td>\n",
       "      <td>2022-01-01 01:00:00</td>\n",
       "      <td>67.1</td>\n",
       "      <td>VA</td>\n",
       "      <td>1</td>\n",
       "    </tr>\n",
       "    <tr>\n",
       "      <th>1</th>\n",
       "      <td>5504</td>\n",
       "      <td>2022-01-01 01:00:00</td>\n",
       "      <td>48.0</td>\n",
       "      <td>VA</td>\n",
       "      <td>1</td>\n",
       "    </tr>\n",
       "    <tr>\n",
       "      <th>2</th>\n",
       "      <td>5507</td>\n",
       "      <td>2022-01-01 01:00:00</td>\n",
       "      <td>56.0</td>\n",
       "      <td>VA</td>\n",
       "      <td>1</td>\n",
       "    </tr>\n",
       "    <tr>\n",
       "      <th>3</th>\n",
       "      <td>5507</td>\n",
       "      <td>2022-01-01 01:00:00</td>\n",
       "      <td>61.9</td>\n",
       "      <td>VA</td>\n",
       "      <td>1</td>\n",
       "    </tr>\n",
       "    <tr>\n",
       "      <th>4</th>\n",
       "      <td>5517</td>\n",
       "      <td>2022-01-01 01:00:00</td>\n",
       "      <td>37.4</td>\n",
       "      <td>VA</td>\n",
       "      <td>1</td>\n",
       "    </tr>\n",
       "  </tbody>\n",
       "</table>\n",
       "</div>"
      ],
      "text/plain": [
       "   idsensore             dataora  valore stato  idoperatore\n",
       "0       5504 2022-01-01 01:00:00    67.1    VA            1\n",
       "1       5504 2022-01-01 01:00:00    48.0    VA            1\n",
       "2       5507 2022-01-01 01:00:00    56.0    VA            1\n",
       "3       5507 2022-01-01 01:00:00    61.9    VA            1\n",
       "4       5517 2022-01-01 01:00:00    37.4    VA            1"
      ]
     },
     "execution_count": 21,
     "metadata": {},
     "output_type": "execute_result"
    }
   ],
   "source": [
    "dbDf = getSortedDbTable(2022)\n",
    "dbDf.head(5)\n",
    "#dbDf.shape # (1080809, 5)\n",
    "            # (1098712, 6)"
   ]
  },
  {
   "cell_type": "code",
   "execution_count": 22,
   "metadata": {},
   "outputs": [
    {
     "data": {
      "text/plain": [
       "(1099151, 6)"
      ]
     },
     "execution_count": 22,
     "metadata": {},
     "output_type": "execute_result"
    }
   ],
   "source": [
    "apiDf[\"keep\"] = apiDf[\"dataora\"]<= pd.Timestamp(\"2022-05-29 12:00:00\")\n",
    "\n",
    "apiDf = apiDf[apiDf[\"keep\"] == True]\n",
    "apiDf.shape # # (1099151, 6)"
   ]
  },
  {
   "cell_type": "code",
   "execution_count": 27,
   "metadata": {},
   "outputs": [
    {
     "data": {
      "text/html": [
       "<div>\n",
       "<style scoped>\n",
       "    .dataframe tbody tr th:only-of-type {\n",
       "        vertical-align: middle;\n",
       "    }\n",
       "\n",
       "    .dataframe tbody tr th {\n",
       "        vertical-align: top;\n",
       "    }\n",
       "\n",
       "    .dataframe thead th {\n",
       "        text-align: right;\n",
       "    }\n",
       "</style>\n",
       "<table border=\"1\" class=\"dataframe\">\n",
       "  <thead>\n",
       "    <tr style=\"text-align: right;\">\n",
       "      <th></th>\n",
       "      <th>idsensore</th>\n",
       "      <th>dataora</th>\n",
       "      <th>valore</th>\n",
       "      <th>stato</th>\n",
       "      <th>idoperatore</th>\n",
       "      <th>keep</th>\n",
       "      <th>Exist</th>\n",
       "      <th>update</th>\n",
       "    </tr>\n",
       "  </thead>\n",
       "  <tbody>\n",
       "    <tr>\n",
       "      <th>0</th>\n",
       "      <td>5504</td>\n",
       "      <td>2022-01-01</td>\n",
       "      <td>49.7</td>\n",
       "      <td>VA</td>\n",
       "      <td>1</td>\n",
       "      <td>True</td>\n",
       "      <td>left_only</td>\n",
       "      <td>False</td>\n",
       "    </tr>\n",
       "    <tr>\n",
       "      <th>1</th>\n",
       "      <td>5507</td>\n",
       "      <td>2022-01-01</td>\n",
       "      <td>60.2</td>\n",
       "      <td>VA</td>\n",
       "      <td>1</td>\n",
       "      <td>True</td>\n",
       "      <td>left_only</td>\n",
       "      <td>False</td>\n",
       "    </tr>\n",
       "    <tr>\n",
       "      <th>2</th>\n",
       "      <td>5517</td>\n",
       "      <td>2022-01-01</td>\n",
       "      <td>45.0</td>\n",
       "      <td>VA</td>\n",
       "      <td>1</td>\n",
       "      <td>True</td>\n",
       "      <td>left_only</td>\n",
       "      <td>False</td>\n",
       "    </tr>\n",
       "    <tr>\n",
       "      <th>3</th>\n",
       "      <td>5520</td>\n",
       "      <td>2022-01-01</td>\n",
       "      <td>31.4</td>\n",
       "      <td>VA</td>\n",
       "      <td>1</td>\n",
       "      <td>True</td>\n",
       "      <td>left_only</td>\n",
       "      <td>False</td>\n",
       "    </tr>\n",
       "    <tr>\n",
       "      <th>4</th>\n",
       "      <td>5531</td>\n",
       "      <td>2022-01-01</td>\n",
       "      <td>48.1</td>\n",
       "      <td>VA</td>\n",
       "      <td>1</td>\n",
       "      <td>True</td>\n",
       "      <td>left_only</td>\n",
       "      <td>False</td>\n",
       "    </tr>\n",
       "    <tr>\n",
       "      <th>5</th>\n",
       "      <td>5532</td>\n",
       "      <td>2022-01-01</td>\n",
       "      <td>63.4</td>\n",
       "      <td>VA</td>\n",
       "      <td>1</td>\n",
       "      <td>True</td>\n",
       "      <td>left_only</td>\n",
       "      <td>False</td>\n",
       "    </tr>\n",
       "    <tr>\n",
       "      <th>6</th>\n",
       "      <td>5534</td>\n",
       "      <td>2022-01-01</td>\n",
       "      <td>38.9</td>\n",
       "      <td>VA</td>\n",
       "      <td>1</td>\n",
       "      <td>True</td>\n",
       "      <td>left_only</td>\n",
       "      <td>False</td>\n",
       "    </tr>\n",
       "    <tr>\n",
       "      <th>7</th>\n",
       "      <td>5542</td>\n",
       "      <td>2022-01-01</td>\n",
       "      <td>33.2</td>\n",
       "      <td>VA</td>\n",
       "      <td>1</td>\n",
       "      <td>True</td>\n",
       "      <td>left_only</td>\n",
       "      <td>False</td>\n",
       "    </tr>\n",
       "    <tr>\n",
       "      <th>8</th>\n",
       "      <td>5545</td>\n",
       "      <td>2022-01-01</td>\n",
       "      <td>36.5</td>\n",
       "      <td>VA</td>\n",
       "      <td>1</td>\n",
       "      <td>True</td>\n",
       "      <td>left_only</td>\n",
       "      <td>False</td>\n",
       "    </tr>\n",
       "    <tr>\n",
       "      <th>9</th>\n",
       "      <td>5547</td>\n",
       "      <td>2022-01-01</td>\n",
       "      <td>60.8</td>\n",
       "      <td>VA</td>\n",
       "      <td>1</td>\n",
       "      <td>True</td>\n",
       "      <td>left_only</td>\n",
       "      <td>False</td>\n",
       "    </tr>\n",
       "  </tbody>\n",
       "</table>\n",
       "</div>"
      ],
      "text/plain": [
       "   idsensore    dataora  valore stato  idoperatore  keep      Exist  update\n",
       "0       5504 2022-01-01    49.7    VA            1  True  left_only   False\n",
       "1       5507 2022-01-01    60.2    VA            1  True  left_only   False\n",
       "2       5517 2022-01-01    45.0    VA            1  True  left_only   False\n",
       "3       5520 2022-01-01    31.4    VA            1  True  left_only   False\n",
       "4       5531 2022-01-01    48.1    VA            1  True  left_only   False\n",
       "5       5532 2022-01-01    63.4    VA            1  True  left_only   False\n",
       "6       5534 2022-01-01    38.9    VA            1  True  left_only   False\n",
       "7       5542 2022-01-01    33.2    VA            1  True  left_only   False\n",
       "8       5545 2022-01-01    36.5    VA            1  True  left_only   False\n",
       "9       5547 2022-01-01    60.8    VA            1  True  left_only   False"
      ]
     },
     "execution_count": 27,
     "metadata": {},
     "output_type": "execute_result"
    }
   ],
   "source": [
    "df = pd.merge(apiDf,dbDf, on=['idsensore','dataora', 'valore', 'stato'], how='left', indicator='Exist')\n",
    "df['update'] = np.where(df.Exist == 'both', False, True)\n",
    "df.head(10)"
   ]
  },
  {
   "cell_type": "code",
   "execution_count": 25,
   "metadata": {},
   "outputs": [
    {
     "data": {
      "text/plain": [
       "(568637, 9)"
      ]
     },
     "execution_count": 25,
     "metadata": {},
     "output_type": "execute_result"
    }
   ],
   "source": [
    "df = df[df[\"update\"]==True]\n",
    "df.shape # (568198, 11) # (568637, 9)"
   ]
  },
  {
   "cell_type": "code",
   "execution_count": 26,
   "metadata": {},
   "outputs": [],
   "source": [
    "from datetime import date\n",
    "\n",
    "countDifferences(df).to_csv(\"../dati_sensori_1968_2020/test_update/test_{!s}.csv\".format(str(date.today())))\n"
   ]
  }
 ],
 "metadata": {
  "interpreter": {
   "hash": "34ab73eb2a201c4b750598ec4bd41f14c725bb809bc0c8207569acb80dee3ff5"
  },
  "kernelspec": {
   "display_name": "Python 3.9.7 ('base')",
   "language": "python",
   "name": "python3"
  },
  "language_info": {
   "codemirror_mode": {
    "name": "ipython",
    "version": 3
   },
   "file_extension": ".py",
   "mimetype": "text/x-python",
   "name": "python",
   "nbconvert_exporter": "python",
   "pygments_lexer": "ipython3",
   "version": "3.9.7"
  },
  "orig_nbformat": 4
 },
 "nbformat": 4,
 "nbformat_minor": 2
}

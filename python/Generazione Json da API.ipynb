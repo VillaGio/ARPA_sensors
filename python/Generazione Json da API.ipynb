{
 "cells": [
  {
   "cell_type": "code",
   "execution_count": null,
   "id": "15f23dfe",
   "metadata": {},
   "outputs": [],
   "source": [
    "import urllib.request\n",
    "import json\n",
    "import pandas as pd\n",
    "def newfromJsonToDf(date):\n",
    "    url=\"https://www.dati.lombardia.it/resource/nicp-bhqi.json?$limit=1300000&$where=data<='%sT12:00:00'\" % date #lte = < , gte = >\n",
    "\n",
    "    with urllib.request.urlopen(url) as response:\n",
    "        record_list = json.loads(response.read().decode())\n",
    "\n",
    "    df = pd.json_normalize(record_list)\n",
    "    df.rename(columns={\"data\":\"dataora\"}, inplace = True)\n",
    "    df = df.reindex(columns=[\"idsensore\",\"dataora\", \"valore\", \"stato\", \"idoperatore\"])\n",
    "    df = df.astype({\"idsensore\": int, \"valore\": float, \"idoperatore\": int, \"stato\": str})\n",
    "    df[\"dataora\"] = pd.to_datetime(df[\"dataora\"], format=\"%Y/%m/%d %H:%M:%S\")\n",
    "    with open('%s_data.json' %date, 'w') as outfile: json.dump(record_list, outfile)\n",
    "    return df"
   ]
  },
  {
   "cell_type": "code",
   "execution_count": null,
   "id": "e49204d5",
   "metadata": {},
   "outputs": [],
   "source": [
    "from datetime import date\n",
    "today = date.today()\n",
    "df_prova = newfromJsonToDf(str(today))"
   ]
  },
  {
   "cell_type": "code",
   "execution_count": null,
   "id": "1842ac02",
   "metadata": {},
   "outputs": [],
   "source": [
    "df_prova.tail()"
   ]
  },
  {
   "cell_type": "markdown",
   "id": "396c8e21",
   "metadata": {},
   "source": [
    "Una cella di prova in caso di dubbio"
   ]
  },
  {
   "cell_type": "code",
   "execution_count": null,
   "id": "43e7c741",
   "metadata": {},
   "outputs": [],
   "source": [
    "from datetime import date\n",
    "today = date.today()\n",
    "date = str(today)\n",
    "url=\"https://www.dati.lombardia.it/resource/nicp-bhqi.json?$limit=13&$where=data<='%sT12:00:00'\" % date #lte = < , gte = >\n",
    "with urllib.request.urlopen(url) as response:\n",
    "    record_list = json.loads(response.read().decode())\n",
    "#with open('%s_data.json' %date, 'w') as outfile: json.dump(record_list, outfile)"
   ]
  }
 ],
 "metadata": {
  "kernelspec": {
   "display_name": "Python 3 (ipykernel)",
   "language": "python",
   "name": "python3"
  },
  "language_info": {
   "codemirror_mode": {
    "name": "ipython",
    "version": 3
   },
   "file_extension": ".py",
   "mimetype": "text/x-python",
   "name": "python",
   "nbconvert_exporter": "python",
   "pygments_lexer": "ipython3",
   "version": "3.9.7"
  }
 },
 "nbformat": 4,
 "nbformat_minor": 5
}

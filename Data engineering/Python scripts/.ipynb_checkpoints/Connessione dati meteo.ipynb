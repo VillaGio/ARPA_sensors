{
 "cells": [
  {
   "cell_type": "code",
   "execution_count": 1,
   "id": "ee5d28a2",
   "metadata": {},
   "outputs": [],
   "source": [
    "import psycopg2\n",
    "import pandas as pd"
   ]
  },
  {
   "cell_type": "code",
   "execution_count": 2,
   "id": "91a192b3",
   "metadata": {},
   "outputs": [
    {
     "name": "stdout",
     "output_type": "stream",
     "text": [
      "PostgreSQL server information\n",
      "{'user': 'woneli', 'channel_binding': 'prefer', 'dbname': 'postgres01', 'host': '188.165.216.169', 'port': '5432', 'options': '', 'sslmode': 'prefer', 'sslcompression': '0', 'sslsni': '1', 'ssl_min_protocol_version': 'TLSv1.2', 'gssencmode': 'disable', 'krbsrvname': 'postgres', 'target_session_attrs': 'any'} \n",
      "\n",
      "You are connected to -  None \n",
      "\n"
     ]
    }
   ],
   "source": [
    "from psycopg2 import Error\n",
    "\n",
    "try:\n",
    "    # Connect to an existing database\n",
    "    connection = psycopg2.connect(user=\"woneli\",\n",
    "                                  password=\"woneli\",\n",
    "                                  host=\"188.165.216.169\",\n",
    "                                  port=\"5432\",\n",
    "                                  database=\"postgres01\")\n",
    "\n",
    "    # Create a cursor to perform database operations\n",
    "    cursor = connection.cursor()\n",
    "    # Print PostgreSQL details\n",
    "    print(\"PostgreSQL server information\")\n",
    "    print(connection.get_dsn_parameters(), \"\\n\")\n",
    "    # Executing a SQL query\n",
    "    cursor.execute(\"SELECT idsensore, dataora, valore FROM weather_data_2021;\")\n",
    "    risulato = cursor.fetchall()\n",
    "    # Fetch result\n",
    "    record = cursor.fetchone()\n",
    "    print(\"You are connected to - \", record, \"\\n\")\n",
    "\n",
    "except (Exception, Error) as error:\n",
    "    print(\"Error while connecting to PostgreSQL\", error)"
   ]
  },
  {
   "cell_type": "code",
   "execution_count": 3,
   "id": "0753c8ee",
   "metadata": {},
   "outputs": [
    {
     "data": {
      "text/plain": [
       "list"
      ]
     },
     "execution_count": 3,
     "metadata": {},
     "output_type": "execute_result"
    }
   ],
   "source": [
    "type(risulato)"
   ]
  },
  {
   "cell_type": "code",
   "execution_count": 4,
   "id": "f7f21f48",
   "metadata": {},
   "outputs": [
    {
     "data": {
      "text/plain": [
       "(5857, datetime.datetime(2021, 1, 1, 0, 0), 0.0)"
      ]
     },
     "execution_count": 4,
     "metadata": {},
     "output_type": "execute_result"
    }
   ],
   "source": [
    "risulato[0]"
   ]
  },
  {
   "cell_type": "code",
   "execution_count": 5,
   "id": "d7d5d007",
   "metadata": {},
   "outputs": [
    {
     "data": {
      "text/plain": [
       "59929021"
      ]
     },
     "execution_count": 5,
     "metadata": {},
     "output_type": "execute_result"
    }
   ],
   "source": [
    "len(risulato)"
   ]
  },
  {
   "cell_type": "code",
   "execution_count": 6,
   "id": "155caaaa",
   "metadata": {},
   "outputs": [],
   "source": [
    "df_2021 = pd.DataFrame(risulato)"
   ]
  },
  {
   "cell_type": "code",
   "execution_count": 7,
   "id": "bde76ad2",
   "metadata": {},
   "outputs": [
    {
     "data": {
      "text/html": [
       "<div>\n",
       "<style scoped>\n",
       "    .dataframe tbody tr th:only-of-type {\n",
       "        vertical-align: middle;\n",
       "    }\n",
       "\n",
       "    .dataframe tbody tr th {\n",
       "        vertical-align: top;\n",
       "    }\n",
       "\n",
       "    .dataframe thead th {\n",
       "        text-align: right;\n",
       "    }\n",
       "</style>\n",
       "<table border=\"1\" class=\"dataframe\">\n",
       "  <thead>\n",
       "    <tr style=\"text-align: right;\">\n",
       "      <th></th>\n",
       "      <th>IdSensore</th>\n",
       "      <th>Data</th>\n",
       "      <th>Valore</th>\n",
       "    </tr>\n",
       "  </thead>\n",
       "  <tbody>\n",
       "    <tr>\n",
       "      <th>0</th>\n",
       "      <td>5857</td>\n",
       "      <td>2021-01-01</td>\n",
       "      <td>0.0</td>\n",
       "    </tr>\n",
       "    <tr>\n",
       "      <th>1</th>\n",
       "      <td>5864</td>\n",
       "      <td>2021-01-01</td>\n",
       "      <td>2.0</td>\n",
       "    </tr>\n",
       "    <tr>\n",
       "      <th>2</th>\n",
       "      <td>6158</td>\n",
       "      <td>2021-01-01</td>\n",
       "      <td>84.8</td>\n",
       "    </tr>\n",
       "    <tr>\n",
       "      <th>3</th>\n",
       "      <td>6431</td>\n",
       "      <td>2021-01-01</td>\n",
       "      <td>0.0</td>\n",
       "    </tr>\n",
       "    <tr>\n",
       "      <th>4</th>\n",
       "      <td>10585</td>\n",
       "      <td>2021-01-01</td>\n",
       "      <td>0.0</td>\n",
       "    </tr>\n",
       "  </tbody>\n",
       "</table>\n",
       "</div>"
      ],
      "text/plain": [
       "   IdSensore       Data  Valore\n",
       "0       5857 2021-01-01     0.0\n",
       "1       5864 2021-01-01     2.0\n",
       "2       6158 2021-01-01    84.8\n",
       "3       6431 2021-01-01     0.0\n",
       "4      10585 2021-01-01     0.0"
      ]
     },
     "execution_count": 7,
     "metadata": {},
     "output_type": "execute_result"
    }
   ],
   "source": [
    "df_2021.columns = ['IdSensore','Data','Valore']\n",
    "df_2021.head()"
   ]
  },
  {
   "cell_type": "code",
   "execution_count": 8,
   "id": "4f847ff4",
   "metadata": {},
   "outputs": [
    {
     "data": {
      "text/plain": [
       "(59929021, 3)"
      ]
     },
     "execution_count": 8,
     "metadata": {},
     "output_type": "execute_result"
    }
   ],
   "source": [
    "df_2021.shape"
   ]
  },
  {
   "cell_type": "code",
   "execution_count": 9,
   "id": "5d571a62",
   "metadata": {},
   "outputs": [],
   "source": [
    "df_2021.to_pickle('df_meteo_2021.h5') "
   ]
  },
  {
   "cell_type": "code",
   "execution_count": null,
   "id": "4eb630eb",
   "metadata": {},
   "outputs": [],
   "source": []
  },
  {
   "cell_type": "code",
   "execution_count": 2,
   "id": "fc40cd77",
   "metadata": {},
   "outputs": [
    {
     "name": "stdout",
     "output_type": "stream",
     "text": [
      "PostgreSQL server information\n",
      "{'user': 'woneli', 'channel_binding': 'prefer', 'dbname': 'postgres01', 'host': '188.165.216.169', 'port': '5432', 'options': '', 'sslmode': 'prefer', 'sslcompression': '0', 'sslsni': '1', 'ssl_min_protocol_version': 'TLSv1.2', 'gssencmode': 'disable', 'krbsrvname': 'postgres', 'target_session_attrs': 'any'} \n",
      "\n",
      "You are connected to -  None \n",
      "\n"
     ]
    }
   ],
   "source": [
    "from psycopg2 import Error\n",
    "\n",
    "try:\n",
    "    # Connect to an existing database\n",
    "    connection = psycopg2.connect(user=\"woneli\",\n",
    "                                  password=\"woneli\",\n",
    "                                  host=\"188.165.216.169\",\n",
    "                                  port=\"5432\",\n",
    "                                  database=\"postgres01\")\n",
    "\n",
    "    # Create a cursor to perform database operations\n",
    "    cursor = connection.cursor()\n",
    "    # Print PostgreSQL details\n",
    "    print(\"PostgreSQL server information\")\n",
    "    print(connection.get_dsn_parameters(), \"\\n\")\n",
    "    # Executing a SQL query\n",
    "    cursor.execute(\"SELECT idsensore, dataora, valore FROM weather_data_2020;\")\n",
    "    risulato = cursor.fetchall()\n",
    "    # Fetch result\n",
    "    record = cursor.fetchone()\n",
    "    print(\"You are connected to - \", record, \"\\n\")\n",
    "\n",
    "except (Exception, Error) as error:\n",
    "    print(\"Error while connecting to PostgreSQL\", error)"
   ]
  },
  {
   "cell_type": "code",
   "execution_count": 3,
   "id": "810a4c8c",
   "metadata": {},
   "outputs": [
    {
     "data": {
      "text/plain": [
       "61503271"
      ]
     },
     "execution_count": 3,
     "metadata": {},
     "output_type": "execute_result"
    }
   ],
   "source": [
    "len(risulato)"
   ]
  },
  {
   "cell_type": "code",
   "execution_count": 4,
   "id": "e94f22f1",
   "metadata": {},
   "outputs": [],
   "source": [
    "df_2020 = pd.DataFrame(risulato)"
   ]
  },
  {
   "cell_type": "code",
   "execution_count": 5,
   "id": "d12eb939",
   "metadata": {},
   "outputs": [
    {
     "data": {
      "text/html": [
       "<div>\n",
       "<style scoped>\n",
       "    .dataframe tbody tr th:only-of-type {\n",
       "        vertical-align: middle;\n",
       "    }\n",
       "\n",
       "    .dataframe tbody tr th {\n",
       "        vertical-align: top;\n",
       "    }\n",
       "\n",
       "    .dataframe thead th {\n",
       "        text-align: right;\n",
       "    }\n",
       "</style>\n",
       "<table border=\"1\" class=\"dataframe\">\n",
       "  <thead>\n",
       "    <tr style=\"text-align: right;\">\n",
       "      <th></th>\n",
       "      <th>IdSensore</th>\n",
       "      <th>Data</th>\n",
       "      <th>Valore</th>\n",
       "    </tr>\n",
       "  </thead>\n",
       "  <tbody>\n",
       "    <tr>\n",
       "      <th>0</th>\n",
       "      <td>9</td>\n",
       "      <td>2020-01-01</td>\n",
       "      <td>0.0</td>\n",
       "    </tr>\n",
       "    <tr>\n",
       "      <th>1</th>\n",
       "      <td>46</td>\n",
       "      <td>2020-01-01</td>\n",
       "      <td>0.0</td>\n",
       "    </tr>\n",
       "    <tr>\n",
       "      <th>2</th>\n",
       "      <td>115</td>\n",
       "      <td>2020-01-01</td>\n",
       "      <td>2.9</td>\n",
       "    </tr>\n",
       "    <tr>\n",
       "      <th>3</th>\n",
       "      <td>116</td>\n",
       "      <td>2020-01-01</td>\n",
       "      <td>0.0</td>\n",
       "    </tr>\n",
       "    <tr>\n",
       "      <th>4</th>\n",
       "      <td>117</td>\n",
       "      <td>2020-01-01</td>\n",
       "      <td>214.0</td>\n",
       "    </tr>\n",
       "  </tbody>\n",
       "</table>\n",
       "</div>"
      ],
      "text/plain": [
       "   IdSensore       Data  Valore\n",
       "0          9 2020-01-01     0.0\n",
       "1         46 2020-01-01     0.0\n",
       "2        115 2020-01-01     2.9\n",
       "3        116 2020-01-01     0.0\n",
       "4        117 2020-01-01   214.0"
      ]
     },
     "execution_count": 5,
     "metadata": {},
     "output_type": "execute_result"
    }
   ],
   "source": [
    "df_2020.columns = ['IdSensore','Data','Valore']\n",
    "df_2020.head()"
   ]
  },
  {
   "cell_type": "code",
   "execution_count": 6,
   "id": "b406f275",
   "metadata": {},
   "outputs": [],
   "source": [
    "df_2020.to_pickle('df_meteo_2020.h5') "
   ]
  },
  {
   "cell_type": "code",
   "execution_count": null,
   "id": "dbfc49c6",
   "metadata": {},
   "outputs": [],
   "source": []
  },
  {
   "cell_type": "code",
   "execution_count": 2,
   "id": "d992f57c",
   "metadata": {},
   "outputs": [
    {
     "name": "stdout",
     "output_type": "stream",
     "text": [
      "PostgreSQL server information\n",
      "{'user': 'woneli', 'channel_binding': 'prefer', 'dbname': 'postgres01', 'host': '188.165.216.169', 'port': '5432', 'options': '', 'sslmode': 'prefer', 'sslcompression': '0', 'sslsni': '1', 'ssl_min_protocol_version': 'TLSv1.2', 'gssencmode': 'disable', 'krbsrvname': 'postgres', 'target_session_attrs': 'any'} \n",
      "\n",
      "You are connected to -  None \n",
      "\n"
     ]
    }
   ],
   "source": [
    "from psycopg2 import Error\n",
    "\n",
    "try:\n",
    "    # Connect to an existing database\n",
    "    connection = psycopg2.connect(user=\"woneli\",\n",
    "                                  password=\"woneli\",\n",
    "                                  host=\"188.165.216.169\",\n",
    "                                  port=\"5432\",\n",
    "                                  database=\"postgres01\")\n",
    "\n",
    "    # Create a cursor to perform database operations\n",
    "    cursor = connection.cursor()\n",
    "    # Print PostgreSQL details\n",
    "    print(\"PostgreSQL server information\")\n",
    "    print(connection.get_dsn_parameters(), \"\\n\")\n",
    "    # Executing a SQL query\n",
    "    cursor.execute(\"SELECT idsensore, dataora, valore FROM weather_data_2019;\")\n",
    "    risulato = cursor.fetchall()\n",
    "    # Fetch result\n",
    "    record = cursor.fetchone()\n",
    "    print(\"You are connected to - \", record, \"\\n\")\n",
    "\n",
    "except (Exception, Error) as error:\n",
    "    print(\"Error while connecting to PostgreSQL\", error)"
   ]
  },
  {
   "cell_type": "code",
   "execution_count": 3,
   "id": "8a5f9aad",
   "metadata": {},
   "outputs": [
    {
     "data": {
      "text/plain": [
       "60126509"
      ]
     },
     "execution_count": 3,
     "metadata": {},
     "output_type": "execute_result"
    }
   ],
   "source": [
    "len(risulato)"
   ]
  },
  {
   "cell_type": "code",
   "execution_count": 4,
   "id": "4013bea3",
   "metadata": {},
   "outputs": [],
   "source": [
    "df_2019 = pd.DataFrame(risulato)"
   ]
  },
  {
   "cell_type": "code",
   "execution_count": 5,
   "id": "8bfe5204",
   "metadata": {},
   "outputs": [
    {
     "data": {
      "text/html": [
       "<div>\n",
       "<style scoped>\n",
       "    .dataframe tbody tr th:only-of-type {\n",
       "        vertical-align: middle;\n",
       "    }\n",
       "\n",
       "    .dataframe tbody tr th {\n",
       "        vertical-align: top;\n",
       "    }\n",
       "\n",
       "    .dataframe thead th {\n",
       "        text-align: right;\n",
       "    }\n",
       "</style>\n",
       "<table border=\"1\" class=\"dataframe\">\n",
       "  <thead>\n",
       "    <tr style=\"text-align: right;\">\n",
       "      <th></th>\n",
       "      <th>IdSensore</th>\n",
       "      <th>Data</th>\n",
       "      <th>Valore</th>\n",
       "    </tr>\n",
       "  </thead>\n",
       "  <tbody>\n",
       "    <tr>\n",
       "      <th>0</th>\n",
       "      <td>8021</td>\n",
       "      <td>2019-03-13 04:00:00</td>\n",
       "      <td>0.0</td>\n",
       "    </tr>\n",
       "    <tr>\n",
       "      <th>1</th>\n",
       "      <td>8023</td>\n",
       "      <td>2019-03-13 04:00:00</td>\n",
       "      <td>-5.8</td>\n",
       "    </tr>\n",
       "    <tr>\n",
       "      <th>2</th>\n",
       "      <td>8024</td>\n",
       "      <td>2019-03-13 04:00:00</td>\n",
       "      <td>49.0</td>\n",
       "    </tr>\n",
       "    <tr>\n",
       "      <th>3</th>\n",
       "      <td>8025</td>\n",
       "      <td>2019-03-13 04:00:00</td>\n",
       "      <td>0.0</td>\n",
       "    </tr>\n",
       "    <tr>\n",
       "      <th>4</th>\n",
       "      <td>8027</td>\n",
       "      <td>2019-03-13 04:00:00</td>\n",
       "      <td>-5.7</td>\n",
       "    </tr>\n",
       "  </tbody>\n",
       "</table>\n",
       "</div>"
      ],
      "text/plain": [
       "   IdSensore                Data  Valore\n",
       "0       8021 2019-03-13 04:00:00     0.0\n",
       "1       8023 2019-03-13 04:00:00    -5.8\n",
       "2       8024 2019-03-13 04:00:00    49.0\n",
       "3       8025 2019-03-13 04:00:00     0.0\n",
       "4       8027 2019-03-13 04:00:00    -5.7"
      ]
     },
     "execution_count": 5,
     "metadata": {},
     "output_type": "execute_result"
    }
   ],
   "source": [
    "df_2019.columns = ['IdSensore','Data','Valore']\n",
    "df_2019.head()"
   ]
  },
  {
   "cell_type": "code",
   "execution_count": null,
   "id": "a85d259e",
   "metadata": {},
   "outputs": [],
   "source": [
    "df_2019.to_pickle('df_meteo_2019.h5') "
   ]
  },
  {
   "cell_type": "code",
   "execution_count": null,
   "id": "9c3abc67",
   "metadata": {},
   "outputs": [],
   "source": []
  },
  {
   "cell_type": "code",
   "execution_count": 2,
   "id": "416bc57e",
   "metadata": {},
   "outputs": [
    {
     "name": "stdout",
     "output_type": "stream",
     "text": [
      "PostgreSQL server information\n",
      "{'user': 'woneli', 'channel_binding': 'prefer', 'dbname': 'postgres01', 'host': '188.165.216.169', 'port': '5432', 'options': '', 'sslmode': 'prefer', 'sslcompression': '0', 'sslsni': '1', 'ssl_min_protocol_version': 'TLSv1.2', 'gssencmode': 'disable', 'krbsrvname': 'postgres', 'target_session_attrs': 'any'} \n",
      "\n",
      "You are connected to -  None \n",
      "\n"
     ]
    }
   ],
   "source": [
    "from psycopg2 import Error\n",
    "\n",
    "try:\n",
    "    # Connect to an existing database\n",
    "    connection = psycopg2.connect(user=\"woneli\",\n",
    "                                  password=\"woneli\",\n",
    "                                  host=\"188.165.216.169\",\n",
    "                                  port=\"5432\",\n",
    "                                  database=\"postgres01\")\n",
    "\n",
    "    # Create a cursor to perform database operations\n",
    "    cursor = connection.cursor()\n",
    "    # Print PostgreSQL details\n",
    "    print(\"PostgreSQL server information\")\n",
    "    print(connection.get_dsn_parameters(), \"\\n\")\n",
    "    # Executing a SQL query\n",
    "    cursor.execute(\"SELECT idsensore, dataora, valore FROM weather_data_2018;\")\n",
    "    risulato = cursor.fetchall()\n",
    "    # Fetch result\n",
    "    record = cursor.fetchone()\n",
    "    print(\"You are connected to - \", record, \"\\n\")\n",
    "\n",
    "except (Exception, Error) as error:\n",
    "    print(\"Error while connecting to PostgreSQL\", error)"
   ]
  },
  {
   "cell_type": "code",
   "execution_count": 3,
   "id": "c7df6ef4",
   "metadata": {},
   "outputs": [
    {
     "data": {
      "text/plain": [
       "59920830"
      ]
     },
     "execution_count": 3,
     "metadata": {},
     "output_type": "execute_result"
    }
   ],
   "source": [
    "len(risulato)"
   ]
  },
  {
   "cell_type": "code",
   "execution_count": null,
   "id": "6e44a4e0",
   "metadata": {},
   "outputs": [],
   "source": [
    "df_2018 = pd.DataFrame(risulato)"
   ]
  },
  {
   "cell_type": "code",
   "execution_count": null,
   "id": "9940e0bb",
   "metadata": {},
   "outputs": [],
   "source": [
    "df_2018.columns = ['IdSensore','Data','Valore']\n",
    "df_2018.head()"
   ]
  },
  {
   "cell_type": "code",
   "execution_count": null,
   "id": "b786ccdd",
   "metadata": {},
   "outputs": [],
   "source": [
    "df_2018.to_pickle('df_meteo_2018.h5') "
   ]
  },
  {
   "cell_type": "code",
   "execution_count": null,
   "id": "86017ac1",
   "metadata": {},
   "outputs": [],
   "source": []
  },
  {
   "cell_type": "code",
   "execution_count": 2,
   "id": "3324b60f",
   "metadata": {},
   "outputs": [
    {
     "name": "stdout",
     "output_type": "stream",
     "text": [
      "PostgreSQL server information\n",
      "{'user': 'woneli', 'channel_binding': 'prefer', 'dbname': 'postgres01', 'host': '188.165.216.169', 'port': '5432', 'options': '', 'sslmode': 'prefer', 'sslcompression': '0', 'sslsni': '1', 'ssl_min_protocol_version': 'TLSv1.2', 'gssencmode': 'disable', 'krbsrvname': 'postgres', 'target_session_attrs': 'any'} \n",
      "\n",
      "You are connected to -  None \n",
      "\n"
     ]
    }
   ],
   "source": [
    "from psycopg2 import Error\n",
    "\n",
    "try:\n",
    "    # Connect to an existing database\n",
    "    connection = psycopg2.connect(user=\"woneli\",\n",
    "                                  password=\"woneli\",\n",
    "                                  host=\"188.165.216.169\",\n",
    "                                  port=\"5432\",\n",
    "                                  database=\"postgres01\")\n",
    "\n",
    "    # Create a cursor to perform database operations\n",
    "    cursor = connection.cursor()\n",
    "    # Print PostgreSQL details\n",
    "    print(\"PostgreSQL server information\")\n",
    "    print(connection.get_dsn_parameters(), \"\\n\")\n",
    "    # Executing a SQL query\n",
    "    cursor.execute(\"SELECT idsensore, dataora, valore FROM weather_data_2017;\")\n",
    "    risulato = cursor.fetchall()\n",
    "    # Fetch result\n",
    "    record = cursor.fetchone()\n",
    "    print(\"You are connected to - \", record, \"\\n\")\n",
    "\n",
    "except (Exception, Error) as error:\n",
    "    print(\"Error while connecting to PostgreSQL\", error)"
   ]
  },
  {
   "cell_type": "code",
   "execution_count": 3,
   "id": "766196a0",
   "metadata": {},
   "outputs": [
    {
     "data": {
      "text/plain": [
       "56682538"
      ]
     },
     "execution_count": 3,
     "metadata": {},
     "output_type": "execute_result"
    }
   ],
   "source": [
    "len(risulato)"
   ]
  },
  {
   "cell_type": "code",
   "execution_count": 4,
   "id": "43467ae9",
   "metadata": {},
   "outputs": [],
   "source": [
    "df_2017 = pd.DataFrame(risulato)"
   ]
  },
  {
   "cell_type": "code",
   "execution_count": 5,
   "id": "43b31d4b",
   "metadata": {},
   "outputs": [
    {
     "data": {
      "text/html": [
       "<div>\n",
       "<style scoped>\n",
       "    .dataframe tbody tr th:only-of-type {\n",
       "        vertical-align: middle;\n",
       "    }\n",
       "\n",
       "    .dataframe tbody tr th {\n",
       "        vertical-align: top;\n",
       "    }\n",
       "\n",
       "    .dataframe thead th {\n",
       "        text-align: right;\n",
       "    }\n",
       "</style>\n",
       "<table border=\"1\" class=\"dataframe\">\n",
       "  <thead>\n",
       "    <tr style=\"text-align: right;\">\n",
       "      <th></th>\n",
       "      <th>IdSensore</th>\n",
       "      <th>Data</th>\n",
       "      <th>Valore</th>\n",
       "    </tr>\n",
       "  </thead>\n",
       "  <tbody>\n",
       "    <tr>\n",
       "      <th>0</th>\n",
       "      <td>10376</td>\n",
       "      <td>2017-01-01</td>\n",
       "      <td>0.0</td>\n",
       "    </tr>\n",
       "    <tr>\n",
       "      <th>1</th>\n",
       "      <td>10377</td>\n",
       "      <td>2017-01-01</td>\n",
       "      <td>1.4</td>\n",
       "    </tr>\n",
       "    <tr>\n",
       "      <th>2</th>\n",
       "      <td>10381</td>\n",
       "      <td>2017-01-01</td>\n",
       "      <td>81.6</td>\n",
       "    </tr>\n",
       "    <tr>\n",
       "      <th>3</th>\n",
       "      <td>10382</td>\n",
       "      <td>2017-01-01</td>\n",
       "      <td>3.2</td>\n",
       "    </tr>\n",
       "    <tr>\n",
       "      <th>4</th>\n",
       "      <td>10443</td>\n",
       "      <td>2017-01-01</td>\n",
       "      <td>0.0</td>\n",
       "    </tr>\n",
       "  </tbody>\n",
       "</table>\n",
       "</div>"
      ],
      "text/plain": [
       "   IdSensore       Data  Valore\n",
       "0      10376 2017-01-01     0.0\n",
       "1      10377 2017-01-01     1.4\n",
       "2      10381 2017-01-01    81.6\n",
       "3      10382 2017-01-01     3.2\n",
       "4      10443 2017-01-01     0.0"
      ]
     },
     "execution_count": 5,
     "metadata": {},
     "output_type": "execute_result"
    }
   ],
   "source": [
    "df_2017.columns = ['IdSensore','Data','Valore']\n",
    "df_2017.head()"
   ]
  },
  {
   "cell_type": "code",
   "execution_count": 6,
   "id": "390944a9",
   "metadata": {},
   "outputs": [],
   "source": [
    "df_2017.to_pickle('df_meteo_2017.h5') "
   ]
  },
  {
   "cell_type": "code",
   "execution_count": null,
   "id": "f3a26c48",
   "metadata": {},
   "outputs": [],
   "source": []
  },
  {
   "cell_type": "code",
   "execution_count": 2,
   "id": "3ac6aa8f",
   "metadata": {},
   "outputs": [
    {
     "name": "stdout",
     "output_type": "stream",
     "text": [
      "PostgreSQL server information\n",
      "{'user': 'woneli', 'channel_binding': 'prefer', 'dbname': 'postgres01', 'host': '188.165.216.169', 'port': '5432', 'options': '', 'sslmode': 'prefer', 'sslcompression': '0', 'sslsni': '1', 'ssl_min_protocol_version': 'TLSv1.2', 'gssencmode': 'disable', 'krbsrvname': 'postgres', 'target_session_attrs': 'any'} \n",
      "\n",
      "You are connected to -  None \n",
      "\n"
     ]
    }
   ],
   "source": [
    "from psycopg2 import Error\n",
    "\n",
    "try:\n",
    "    # Connect to an existing database\n",
    "    connection = psycopg2.connect(user=\"woneli\",\n",
    "                                  password=\"woneli\",\n",
    "                                  host=\"188.165.216.169\",\n",
    "                                  port=\"5432\",\n",
    "                                  database=\"postgres01\")\n",
    "\n",
    "    # Create a cursor to perform database operations\n",
    "    cursor = connection.cursor()\n",
    "    # Print PostgreSQL details\n",
    "    print(\"PostgreSQL server information\")\n",
    "    print(connection.get_dsn_parameters(), \"\\n\")\n",
    "    # Executing a SQL query\n",
    "    cursor.execute(\"SELECT idsensore, dataora, valore FROM weather_data_2016;\")\n",
    "    risulato = cursor.fetchall()\n",
    "    # Fetch result\n",
    "    record = cursor.fetchone()\n",
    "    print(\"You are connected to - \", record, \"\\n\")\n",
    "\n",
    "except (Exception, Error) as error:\n",
    "    print(\"Error while connecting to PostgreSQL\", error)"
   ]
  },
  {
   "cell_type": "code",
   "execution_count": 3,
   "id": "f73d6e4a",
   "metadata": {},
   "outputs": [
    {
     "data": {
      "text/plain": [
       "55107307"
      ]
     },
     "execution_count": 3,
     "metadata": {},
     "output_type": "execute_result"
    }
   ],
   "source": [
    "len(risulato)"
   ]
  },
  {
   "cell_type": "code",
   "execution_count": 4,
   "id": "1f93a29b",
   "metadata": {},
   "outputs": [],
   "source": [
    "df_2016 = pd.DataFrame(risulato)"
   ]
  },
  {
   "cell_type": "code",
   "execution_count": 5,
   "id": "480ac139",
   "metadata": {},
   "outputs": [
    {
     "data": {
      "text/html": [
       "<div>\n",
       "<style scoped>\n",
       "    .dataframe tbody tr th:only-of-type {\n",
       "        vertical-align: middle;\n",
       "    }\n",
       "\n",
       "    .dataframe tbody tr th {\n",
       "        vertical-align: top;\n",
       "    }\n",
       "\n",
       "    .dataframe thead th {\n",
       "        text-align: right;\n",
       "    }\n",
       "</style>\n",
       "<table border=\"1\" class=\"dataframe\">\n",
       "  <thead>\n",
       "    <tr style=\"text-align: right;\">\n",
       "      <th></th>\n",
       "      <th>IdSensore</th>\n",
       "      <th>Data</th>\n",
       "      <th>Valore</th>\n",
       "    </tr>\n",
       "  </thead>\n",
       "  <tbody>\n",
       "    <tr>\n",
       "      <th>0</th>\n",
       "      <td>10373</td>\n",
       "      <td>2016-01-01</td>\n",
       "      <td>0.0</td>\n",
       "    </tr>\n",
       "    <tr>\n",
       "      <th>1</th>\n",
       "      <td>10376</td>\n",
       "      <td>2016-01-01</td>\n",
       "      <td>0.0</td>\n",
       "    </tr>\n",
       "    <tr>\n",
       "      <th>2</th>\n",
       "      <td>10377</td>\n",
       "      <td>2016-01-01</td>\n",
       "      <td>2.3</td>\n",
       "    </tr>\n",
       "    <tr>\n",
       "      <th>3</th>\n",
       "      <td>10381</td>\n",
       "      <td>2016-01-01</td>\n",
       "      <td>94.8</td>\n",
       "    </tr>\n",
       "    <tr>\n",
       "      <th>4</th>\n",
       "      <td>10382</td>\n",
       "      <td>2016-01-01</td>\n",
       "      <td>1.6</td>\n",
       "    </tr>\n",
       "  </tbody>\n",
       "</table>\n",
       "</div>"
      ],
      "text/plain": [
       "   IdSensore       Data  Valore\n",
       "0      10373 2016-01-01     0.0\n",
       "1      10376 2016-01-01     0.0\n",
       "2      10377 2016-01-01     2.3\n",
       "3      10381 2016-01-01    94.8\n",
       "4      10382 2016-01-01     1.6"
      ]
     },
     "execution_count": 5,
     "metadata": {},
     "output_type": "execute_result"
    }
   ],
   "source": [
    "df_2016.columns = ['IdSensore','Data','Valore']\n",
    "df_2016.head()"
   ]
  },
  {
   "cell_type": "code",
   "execution_count": 6,
   "id": "83bfe3dd",
   "metadata": {},
   "outputs": [],
   "source": [
    "df_2016.to_pickle('df_meteo_2016.h5') "
   ]
  },
  {
   "cell_type": "code",
   "execution_count": null,
   "id": "49abef2e",
   "metadata": {},
   "outputs": [],
   "source": []
  },
  {
   "cell_type": "code",
   "execution_count": 2,
   "id": "d4807cee",
   "metadata": {},
   "outputs": [
    {
     "name": "stdout",
     "output_type": "stream",
     "text": [
      "PostgreSQL server information\n",
      "{'user': 'woneli', 'channel_binding': 'prefer', 'dbname': 'postgres01', 'host': '188.165.216.169', 'port': '5432', 'options': '', 'sslmode': 'prefer', 'sslcompression': '0', 'sslsni': '1', 'ssl_min_protocol_version': 'TLSv1.2', 'gssencmode': 'disable', 'krbsrvname': 'postgres', 'target_session_attrs': 'any'} \n",
      "\n",
      "You are connected to -  None \n",
      "\n"
     ]
    }
   ],
   "source": [
    "from psycopg2 import Error\n",
    "\n",
    "try:\n",
    "    # Connect to an existing database\n",
    "    connection = psycopg2.connect(user=\"woneli\",\n",
    "                                  password=\"woneli\",\n",
    "                                  host=\"188.165.216.169\",\n",
    "                                  port=\"5432\",\n",
    "                                  database=\"postgres01\")\n",
    "\n",
    "    # Create a cursor to perform database operations\n",
    "    cursor = connection.cursor()\n",
    "    # Print PostgreSQL details\n",
    "    print(\"PostgreSQL server information\")\n",
    "    print(connection.get_dsn_parameters(), \"\\n\")\n",
    "    # Executing a SQL query\n",
    "    cursor.execute(\"SELECT idsensore, dataora, valore FROM weather_data_2015;\")\n",
    "    risulato = cursor.fetchall()\n",
    "    # Fetch result\n",
    "    record = cursor.fetchone()\n",
    "    print(\"You are connected to - \", record, \"\\n\")\n",
    "\n",
    "except (Exception, Error) as error:\n",
    "    print(\"Error while connecting to PostgreSQL\", error)"
   ]
  },
  {
   "cell_type": "code",
   "execution_count": 3,
   "id": "0a419095",
   "metadata": {},
   "outputs": [
    {
     "data": {
      "text/plain": [
       "57877143"
      ]
     },
     "execution_count": 3,
     "metadata": {},
     "output_type": "execute_result"
    }
   ],
   "source": [
    "len(risulato)"
   ]
  },
  {
   "cell_type": "code",
   "execution_count": 4,
   "id": "af054113",
   "metadata": {},
   "outputs": [],
   "source": [
    "df_2015 = pd.DataFrame(risulato)"
   ]
  },
  {
   "cell_type": "code",
   "execution_count": 5,
   "id": "05d2fdb3",
   "metadata": {},
   "outputs": [
    {
     "data": {
      "text/html": [
       "<div>\n",
       "<style scoped>\n",
       "    .dataframe tbody tr th:only-of-type {\n",
       "        vertical-align: middle;\n",
       "    }\n",
       "\n",
       "    .dataframe tbody tr th {\n",
       "        vertical-align: top;\n",
       "    }\n",
       "\n",
       "    .dataframe thead th {\n",
       "        text-align: right;\n",
       "    }\n",
       "</style>\n",
       "<table border=\"1\" class=\"dataframe\">\n",
       "  <thead>\n",
       "    <tr style=\"text-align: right;\">\n",
       "      <th></th>\n",
       "      <th>IdSensore</th>\n",
       "      <th>Data</th>\n",
       "      <th>Valore</th>\n",
       "    </tr>\n",
       "  </thead>\n",
       "  <tbody>\n",
       "    <tr>\n",
       "      <th>0</th>\n",
       "      <td>30523</td>\n",
       "      <td>2015-12-31 23:55:00</td>\n",
       "      <td>15.0</td>\n",
       "    </tr>\n",
       "    <tr>\n",
       "      <th>1</th>\n",
       "      <td>10373</td>\n",
       "      <td>2015-12-31 23:50:00</td>\n",
       "      <td>0.0</td>\n",
       "    </tr>\n",
       "    <tr>\n",
       "      <th>2</th>\n",
       "      <td>10376</td>\n",
       "      <td>2015-12-31 23:50:00</td>\n",
       "      <td>0.0</td>\n",
       "    </tr>\n",
       "    <tr>\n",
       "      <th>3</th>\n",
       "      <td>10377</td>\n",
       "      <td>2015-12-31 23:50:00</td>\n",
       "      <td>2.3</td>\n",
       "    </tr>\n",
       "    <tr>\n",
       "      <th>4</th>\n",
       "      <td>10381</td>\n",
       "      <td>2015-12-31 23:50:00</td>\n",
       "      <td>94.9</td>\n",
       "    </tr>\n",
       "  </tbody>\n",
       "</table>\n",
       "</div>"
      ],
      "text/plain": [
       "   IdSensore                Data  Valore\n",
       "0      30523 2015-12-31 23:55:00    15.0\n",
       "1      10373 2015-12-31 23:50:00     0.0\n",
       "2      10376 2015-12-31 23:50:00     0.0\n",
       "3      10377 2015-12-31 23:50:00     2.3\n",
       "4      10381 2015-12-31 23:50:00    94.9"
      ]
     },
     "execution_count": 5,
     "metadata": {},
     "output_type": "execute_result"
    }
   ],
   "source": [
    "df_2015.columns = ['IdSensore','Data','Valore']\n",
    "df_2015.head()"
   ]
  },
  {
   "cell_type": "code",
   "execution_count": 6,
   "id": "7e3daaa1",
   "metadata": {},
   "outputs": [],
   "source": [
    "df_2015.to_pickle('df_meteo_20\n",
    "                  15.h5') "
   ]
  },
  {
   "cell_type": "code",
   "execution_count": null,
   "id": "2cf09c37",
   "metadata": {},
   "outputs": [],
   "source": []
  },
  {
   "cell_type": "code",
   "execution_count": 2,
   "id": "a96a5e1d",
   "metadata": {},
   "outputs": [
    {
     "name": "stdout",
     "output_type": "stream",
     "text": [
      "PostgreSQL server information\n",
      "{'user': 'woneli', 'channel_binding': 'prefer', 'dbname': 'postgres01', 'host': '188.165.216.169', 'port': '5432', 'options': '', 'sslmode': 'prefer', 'sslcompression': '0', 'sslsni': '1', 'ssl_min_protocol_version': 'TLSv1.2', 'gssencmode': 'disable', 'krbsrvname': 'postgres', 'target_session_attrs': 'any'} \n",
      "\n",
      "You are connected to -  None \n",
      "\n"
     ]
    }
   ],
   "source": [
    "from psycopg2 import Error\n",
    "\n",
    "try:\n",
    "    # Connect to an existing database\n",
    "    connection = psycopg2.connect(user=\"woneli\",\n",
    "                                  password=\"woneli\",\n",
    "                                  host=\"188.165.216.169\",\n",
    "                                  port=\"5432\",\n",
    "                                  database=\"postgres01\")\n",
    "\n",
    "    # Create a cursor to perform database operations\n",
    "    cursor = connection.cursor()\n",
    "    # Print PostgreSQL details\n",
    "    print(\"PostgreSQL server information\")\n",
    "    print(connection.get_dsn_parameters(), \"\\n\")\n",
    "    # Executing a SQL query\n",
    "    cursor.execute(\"SELECT idsensore, dataora, valore FROM weather_data_2014;\")\n",
    "    risulato = cursor.fetchall()\n",
    "    # Fetch result\n",
    "    record = cursor.fetchone()\n",
    "    print(\"You are connected to - \", record, \"\\n\")\n",
    "\n",
    "except (Exception, Error) as error:\n",
    "    print(\"Error while connecting to PostgreSQL\", error)"
   ]
  },
  {
   "cell_type": "code",
   "execution_count": 3,
   "id": "d0967e16",
   "metadata": {},
   "outputs": [
    {
     "data": {
      "text/plain": [
       "49195352"
      ]
     },
     "execution_count": 3,
     "metadata": {},
     "output_type": "execute_result"
    }
   ],
   "source": [
    "len(risulato)"
   ]
  },
  {
   "cell_type": "code",
   "execution_count": 4,
   "id": "26fad3e3",
   "metadata": {},
   "outputs": [],
   "source": [
    "df_2014 = pd.DataFrame(risulato)"
   ]
  },
  {
   "cell_type": "code",
   "execution_count": 5,
   "id": "050b9768",
   "metadata": {},
   "outputs": [
    {
     "data": {
      "text/html": [
       "<div>\n",
       "<style scoped>\n",
       "    .dataframe tbody tr th:only-of-type {\n",
       "        vertical-align: middle;\n",
       "    }\n",
       "\n",
       "    .dataframe tbody tr th {\n",
       "        vertical-align: top;\n",
       "    }\n",
       "\n",
       "    .dataframe thead th {\n",
       "        text-align: right;\n",
       "    }\n",
       "</style>\n",
       "<table border=\"1\" class=\"dataframe\">\n",
       "  <thead>\n",
       "    <tr style=\"text-align: right;\">\n",
       "      <th></th>\n",
       "      <th>IdSensore</th>\n",
       "      <th>Data</th>\n",
       "      <th>Valore</th>\n",
       "    </tr>\n",
       "  </thead>\n",
       "  <tbody>\n",
       "    <tr>\n",
       "      <th>0</th>\n",
       "      <td>30523</td>\n",
       "      <td>2014-12-31 23:55:00</td>\n",
       "      <td>21.0</td>\n",
       "    </tr>\n",
       "    <tr>\n",
       "      <th>1</th>\n",
       "      <td>10373</td>\n",
       "      <td>2014-12-31 23:50:00</td>\n",
       "      <td>0.0</td>\n",
       "    </tr>\n",
       "    <tr>\n",
       "      <th>2</th>\n",
       "      <td>10376</td>\n",
       "      <td>2014-12-31 23:50:00</td>\n",
       "      <td>0.0</td>\n",
       "    </tr>\n",
       "    <tr>\n",
       "      <th>3</th>\n",
       "      <td>10377</td>\n",
       "      <td>2014-12-31 23:50:00</td>\n",
       "      <td>-1.6</td>\n",
       "    </tr>\n",
       "    <tr>\n",
       "      <th>4</th>\n",
       "      <td>10381</td>\n",
       "      <td>2014-12-31 23:50:00</td>\n",
       "      <td>93.2</td>\n",
       "    </tr>\n",
       "  </tbody>\n",
       "</table>\n",
       "</div>"
      ],
      "text/plain": [
       "   IdSensore                Data  Valore\n",
       "0      30523 2014-12-31 23:55:00    21.0\n",
       "1      10373 2014-12-31 23:50:00     0.0\n",
       "2      10376 2014-12-31 23:50:00     0.0\n",
       "3      10377 2014-12-31 23:50:00    -1.6\n",
       "4      10381 2014-12-31 23:50:00    93.2"
      ]
     },
     "execution_count": 5,
     "metadata": {},
     "output_type": "execute_result"
    }
   ],
   "source": [
    "df_2014.columns = ['IdSensore','Data','Valore']\n",
    "df_2014.head()"
   ]
  },
  {
   "cell_type": "code",
   "execution_count": 6,
   "id": "47e8660c",
   "metadata": {},
   "outputs": [],
   "source": [
    "df_2014.to_pickle('df_meteo_2014.h5') "
   ]
  },
  {
   "cell_type": "code",
   "execution_count": null,
   "id": "153f7136",
   "metadata": {},
   "outputs": [],
   "source": []
  },
  {
   "cell_type": "code",
   "execution_count": 2,
   "id": "01ce15a5",
   "metadata": {},
   "outputs": [
    {
     "name": "stdout",
     "output_type": "stream",
     "text": [
      "PostgreSQL server information\n",
      "{'user': 'woneli', 'channel_binding': 'prefer', 'dbname': 'postgres01', 'host': '188.165.216.169', 'port': '5432', 'options': '', 'sslmode': 'prefer', 'sslcompression': '0', 'sslsni': '1', 'ssl_min_protocol_version': 'TLSv1.2', 'gssencmode': 'disable', 'krbsrvname': 'postgres', 'target_session_attrs': 'any'} \n",
      "\n",
      "You are connected to -  None \n",
      "\n"
     ]
    }
   ],
   "source": [
    "from psycopg2 import Error\n",
    "\n",
    "try:\n",
    "    # Connect to an existing database\n",
    "    connection = psycopg2.connect(user=\"woneli\",\n",
    "                                  password=\"woneli\",\n",
    "                                  host=\"188.165.216.169\",\n",
    "                                  port=\"5432\",\n",
    "                                  database=\"postgres01\")\n",
    "\n",
    "    # Create a cursor to perform database operations\n",
    "    cursor = connection.cursor()\n",
    "    # Print PostgreSQL details\n",
    "    print(\"PostgreSQL server information\")\n",
    "    print(connection.get_dsn_parameters(), \"\\n\")\n",
    "    # Executing a SQL query\n",
    "    cursor.execute(\"SELECT idsensore, dataora, valore FROM weather_data_2013;\")\n",
    "    risulato = cursor.fetchall()\n",
    "    # Fetch result\n",
    "    record = cursor.fetchone()\n",
    "    print(\"You are connected to - \", record, \"\\n\")\n",
    "\n",
    "except (Exception, Error) as error:\n",
    "    print(\"Error while connecting to PostgreSQL\", error)"
   ]
  },
  {
   "cell_type": "code",
   "execution_count": 3,
   "id": "9551c3ab",
   "metadata": {},
   "outputs": [
    {
     "data": {
      "text/plain": [
       "42497020"
      ]
     },
     "execution_count": 3,
     "metadata": {},
     "output_type": "execute_result"
    }
   ],
   "source": [
    "len(risulato)"
   ]
  },
  {
   "cell_type": "code",
   "execution_count": 4,
   "id": "cda8d22e",
   "metadata": {},
   "outputs": [],
   "source": [
    "df_2013 = pd.DataFrame(risulato)"
   ]
  },
  {
   "cell_type": "code",
   "execution_count": 5,
   "id": "f71aa9d5",
   "metadata": {},
   "outputs": [
    {
     "data": {
      "text/html": [
       "<div>\n",
       "<style scoped>\n",
       "    .dataframe tbody tr th:only-of-type {\n",
       "        vertical-align: middle;\n",
       "    }\n",
       "\n",
       "    .dataframe tbody tr th {\n",
       "        vertical-align: top;\n",
       "    }\n",
       "\n",
       "    .dataframe thead th {\n",
       "        text-align: right;\n",
       "    }\n",
       "</style>\n",
       "<table border=\"1\" class=\"dataframe\">\n",
       "  <thead>\n",
       "    <tr style=\"text-align: right;\">\n",
       "      <th></th>\n",
       "      <th>IdSensore</th>\n",
       "      <th>Data</th>\n",
       "      <th>Valore</th>\n",
       "    </tr>\n",
       "  </thead>\n",
       "  <tbody>\n",
       "    <tr>\n",
       "      <th>0</th>\n",
       "      <td>10570</td>\n",
       "      <td>2013-12-31 23:50:00</td>\n",
       "      <td>-4.7</td>\n",
       "    </tr>\n",
       "    <tr>\n",
       "      <th>1</th>\n",
       "      <td>10571</td>\n",
       "      <td>2013-12-31 23:50:00</td>\n",
       "      <td>76.0</td>\n",
       "    </tr>\n",
       "    <tr>\n",
       "      <th>2</th>\n",
       "      <td>10574</td>\n",
       "      <td>2013-12-31 23:50:00</td>\n",
       "      <td>0.0</td>\n",
       "    </tr>\n",
       "    <tr>\n",
       "      <th>3</th>\n",
       "      <td>10575</td>\n",
       "      <td>2013-12-31 23:50:00</td>\n",
       "      <td>0.0</td>\n",
       "    </tr>\n",
       "    <tr>\n",
       "      <th>4</th>\n",
       "      <td>11007</td>\n",
       "      <td>2013-12-31 23:50:00</td>\n",
       "      <td>-3.3</td>\n",
       "    </tr>\n",
       "  </tbody>\n",
       "</table>\n",
       "</div>"
      ],
      "text/plain": [
       "   IdSensore                Data  Valore\n",
       "0      10570 2013-12-31 23:50:00    -4.7\n",
       "1      10571 2013-12-31 23:50:00    76.0\n",
       "2      10574 2013-12-31 23:50:00     0.0\n",
       "3      10575 2013-12-31 23:50:00     0.0\n",
       "4      11007 2013-12-31 23:50:00    -3.3"
      ]
     },
     "execution_count": 5,
     "metadata": {},
     "output_type": "execute_result"
    }
   ],
   "source": [
    "df_2013.columns = ['IdSensore','Data','Valore']\n",
    "df_2013.head()"
   ]
  },
  {
   "cell_type": "code",
   "execution_count": 6,
   "id": "8d4f1a81",
   "metadata": {},
   "outputs": [],
   "source": [
    "df_2013.to_pickle('df_meteo_2013.h5') "
   ]
  },
  {
   "cell_type": "code",
   "execution_count": null,
   "id": "d09af233",
   "metadata": {},
   "outputs": [],
   "source": []
  },
  {
   "cell_type": "code",
   "execution_count": 2,
   "id": "f8eb5118",
   "metadata": {},
   "outputs": [
    {
     "name": "stdout",
     "output_type": "stream",
     "text": [
      "PostgreSQL server information\n",
      "{'user': 'woneli', 'channel_binding': 'prefer', 'dbname': 'postgres01', 'host': '188.165.216.169', 'port': '5432', 'options': '', 'sslmode': 'prefer', 'sslcompression': '0', 'sslsni': '1', 'ssl_min_protocol_version': 'TLSv1.2', 'gssencmode': 'disable', 'krbsrvname': 'postgres', 'target_session_attrs': 'any'} \n",
      "\n",
      "You are connected to -  None \n",
      "\n"
     ]
    }
   ],
   "source": [
    "from psycopg2 import Error\n",
    "\n",
    "try:\n",
    "    # Connect to an existing database\n",
    "    connection = psycopg2.connect(user=\"woneli\",\n",
    "                                  password=\"woneli\",\n",
    "                                  host=\"188.165.216.169\",\n",
    "                                  port=\"5432\",\n",
    "                                  database=\"postgres01\")\n",
    "\n",
    "    # Create a cursor to perform database operations\n",
    "    cursor = connection.cursor()\n",
    "    # Print PostgreSQL details\n",
    "    print(\"PostgreSQL server information\")\n",
    "    print(connection.get_dsn_parameters(), \"\\n\")\n",
    "    # Executing a SQL query\n",
    "    cursor.execute(\"SELECT idsensore, dataora, valore FROM weather_data_2012;\")\n",
    "    risulato = cursor.fetchall()\n",
    "    # Fetch result\n",
    "    record = cursor.fetchone()\n",
    "    print(\"You are connected to - \", record, \"\\n\")\n",
    "\n",
    "except (Exception, Error) as error:\n",
    "    print(\"Error while connecting to PostgreSQL\", error)"
   ]
  },
  {
   "cell_type": "code",
   "execution_count": 3,
   "id": "897b9a65",
   "metadata": {},
   "outputs": [
    {
     "data": {
      "text/plain": [
       "58229793"
      ]
     },
     "execution_count": 3,
     "metadata": {},
     "output_type": "execute_result"
    }
   ],
   "source": [
    "len(risulato)"
   ]
  },
  {
   "cell_type": "code",
   "execution_count": 4,
   "id": "944f090e",
   "metadata": {},
   "outputs": [],
   "source": [
    "df_2012 = pd.DataFrame(risulato)"
   ]
  },
  {
   "cell_type": "code",
   "execution_count": 5,
   "id": "bc4e8327",
   "metadata": {},
   "outputs": [
    {
     "data": {
      "text/html": [
       "<div>\n",
       "<style scoped>\n",
       "    .dataframe tbody tr th:only-of-type {\n",
       "        vertical-align: middle;\n",
       "    }\n",
       "\n",
       "    .dataframe tbody tr th {\n",
       "        vertical-align: top;\n",
       "    }\n",
       "\n",
       "    .dataframe thead th {\n",
       "        text-align: right;\n",
       "    }\n",
       "</style>\n",
       "<table border=\"1\" class=\"dataframe\">\n",
       "  <thead>\n",
       "    <tr style=\"text-align: right;\">\n",
       "      <th></th>\n",
       "      <th>IdSensore</th>\n",
       "      <th>Data</th>\n",
       "      <th>Valore</th>\n",
       "    </tr>\n",
       "  </thead>\n",
       "  <tbody>\n",
       "    <tr>\n",
       "      <th>0</th>\n",
       "      <td>10571</td>\n",
       "      <td>2012-12-31 23:50:00</td>\n",
       "      <td>65.0</td>\n",
       "    </tr>\n",
       "    <tr>\n",
       "      <th>1</th>\n",
       "      <td>10574</td>\n",
       "      <td>2012-12-31 23:50:00</td>\n",
       "      <td>0.0</td>\n",
       "    </tr>\n",
       "    <tr>\n",
       "      <th>2</th>\n",
       "      <td>10575</td>\n",
       "      <td>2012-12-31 23:50:00</td>\n",
       "      <td>0.0</td>\n",
       "    </tr>\n",
       "    <tr>\n",
       "      <th>3</th>\n",
       "      <td>11007</td>\n",
       "      <td>2012-12-31 23:50:00</td>\n",
       "      <td>-1.4</td>\n",
       "    </tr>\n",
       "    <tr>\n",
       "      <th>4</th>\n",
       "      <td>11008</td>\n",
       "      <td>2012-12-31 23:50:00</td>\n",
       "      <td>68.0</td>\n",
       "    </tr>\n",
       "  </tbody>\n",
       "</table>\n",
       "</div>"
      ],
      "text/plain": [
       "   IdSensore                Data  Valore\n",
       "0      10571 2012-12-31 23:50:00    65.0\n",
       "1      10574 2012-12-31 23:50:00     0.0\n",
       "2      10575 2012-12-31 23:50:00     0.0\n",
       "3      11007 2012-12-31 23:50:00    -1.4\n",
       "4      11008 2012-12-31 23:50:00    68.0"
      ]
     },
     "execution_count": 5,
     "metadata": {},
     "output_type": "execute_result"
    }
   ],
   "source": [
    "df_2012.columns = ['IdSensore','Data','Valore']\n",
    "df_2012.head()"
   ]
  },
  {
   "cell_type": "code",
   "execution_count": 6,
   "id": "b0424347",
   "metadata": {},
   "outputs": [],
   "source": [
    "df_2012.to_pickle('df_meteo_2012.h5') "
   ]
  },
  {
   "cell_type": "code",
   "execution_count": null,
   "id": "2b17f5ae",
   "metadata": {},
   "outputs": [],
   "source": [
    "\n"
   ]
  },
  {
   "cell_type": "code",
   "execution_count": 3,
   "id": "c7360c70",
   "metadata": {},
   "outputs": [
    {
     "name": "stdout",
     "output_type": "stream",
     "text": [
      "PostgreSQL server information\n",
      "{'user': 'woneli', 'channel_binding': 'prefer', 'dbname': 'postgres01', 'host': '188.165.216.169', 'port': '5432', 'options': '', 'sslmode': 'prefer', 'sslcompression': '0', 'sslsni': '1', 'ssl_min_protocol_version': 'TLSv1.2', 'gssencmode': 'disable', 'krbsrvname': 'postgres', 'target_session_attrs': 'any'} \n",
      "\n",
      "You are connected to -  None \n",
      "\n"
     ]
    }
   ],
   "source": [
    "from psycopg2 import Error\n",
    "\n",
    "try:\n",
    "    # Connect to an existing database\n",
    "    connection = psycopg2.connect(user=\"woneli\",\n",
    "                                  password=\"woneli\",\n",
    "                                  host=\"188.165.216.169\",\n",
    "                                  port=\"5432\",\n",
    "                                  database=\"postgres01\")\n",
    "\n",
    "    # Create a cursor to perform database operations\n",
    "    cursor = connection.cursor()\n",
    "    # Print PostgreSQL details\n",
    "    print(\"PostgreSQL server information\")\n",
    "    print(connection.get_dsn_parameters(), \"\\n\")\n",
    "    # Executing a SQL query\n",
    "    cursor.execute(\"SELECT * FROM stations_weather;\")\n",
    "    risulato = cursor.fetchall()\n",
    "    # Fetch result\n",
    "    record = cursor.fetchone()\n",
    "    print(\"You are connected to - \", record, \"\\n\")\n",
    "\n",
    "except (Exception, Error) as error:\n",
    "    print(\"Error while connecting to PostgreSQL\", error)"
   ]
  },
  {
   "cell_type": "code",
   "execution_count": 4,
   "id": "3b643ba1",
   "metadata": {},
   "outputs": [
    {
     "data": {
      "text/plain": [
       "1262"
      ]
     },
     "execution_count": 4,
     "metadata": {},
     "output_type": "execute_result"
    }
   ],
   "source": [
    "len(risulato)"
   ]
  },
  {
   "cell_type": "code",
   "execution_count": 5,
   "id": "062e0790",
   "metadata": {},
   "outputs": [],
   "source": [
    "stazioni = pd.DataFrame(risulato)"
   ]
  },
  {
   "cell_type": "code",
   "execution_count": 6,
   "id": "431f8846",
   "metadata": {},
   "outputs": [
    {
     "data": {
      "text/html": [
       "<div>\n",
       "<style scoped>\n",
       "    .dataframe tbody tr th:only-of-type {\n",
       "        vertical-align: middle;\n",
       "    }\n",
       "\n",
       "    .dataframe tbody tr th {\n",
       "        vertical-align: top;\n",
       "    }\n",
       "\n",
       "    .dataframe thead th {\n",
       "        text-align: right;\n",
       "    }\n",
       "</style>\n",
       "<table border=\"1\" class=\"dataframe\">\n",
       "  <thead>\n",
       "    <tr style=\"text-align: right;\">\n",
       "      <th></th>\n",
       "      <th>idsensore</th>\n",
       "      <th>tipologia</th>\n",
       "      <th>unit_dimisura</th>\n",
       "      <th>idstazione</th>\n",
       "      <th>nomestazione</th>\n",
       "      <th>quota</th>\n",
       "      <th>provincia</th>\n",
       "      <th>storico</th>\n",
       "      <th>datastart</th>\n",
       "      <th>datastop</th>\n",
       "      <th>cgb_nord</th>\n",
       "      <th>cgb_est</th>\n",
       "      <th>lat</th>\n",
       "      <th>lng</th>\n",
       "      <th>coordinate</th>\n",
       "    </tr>\n",
       "  </thead>\n",
       "  <tbody>\n",
       "    <tr>\n",
       "      <th>0</th>\n",
       "      <td>101</td>\n",
       "      <td>Altezza Neve</td>\n",
       "      <td>cm</td>\n",
       "      <td>52</td>\n",
       "      <td>Grosio Diga Fusino</td>\n",
       "      <td>1220</td>\n",
       "      <td>SO</td>\n",
       "      <td>N</td>\n",
       "      <td>2001-12-01</td>\n",
       "      <td>9999-12-31 00:00:00</td>\n",
       "      <td>5131141</td>\n",
       "      <td>595908</td>\n",
       "      <td>46.327057</td>\n",
       "      <td>10.24597</td>\n",
       "      <td>(46.327057, 10.24597)</td>\n",
       "    </tr>\n",
       "    <tr>\n",
       "      <th>1</th>\n",
       "      <td>10373</td>\n",
       "      <td>Precipitazione</td>\n",
       "      <td>mm</td>\n",
       "      <td>687</td>\n",
       "      <td>Ferno v.Di Dio</td>\n",
       "      <td>215</td>\n",
       "      <td>VA</td>\n",
       "      <td>N</td>\n",
       "      <td>2007-08-13</td>\n",
       "      <td>9999-12-31 00:00:00</td>\n",
       "      <td>5051773</td>\n",
       "      <td>481053</td>\n",
       "      <td>45.619244</td>\n",
       "      <td>8.75697</td>\n",
       "      <td>(45.619244, 8.75697)</td>\n",
       "    </tr>\n",
       "    <tr>\n",
       "      <th>2</th>\n",
       "      <td>10376</td>\n",
       "      <td>Precipitazione</td>\n",
       "      <td>mm</td>\n",
       "      <td>706</td>\n",
       "      <td>Lecco v.Sora</td>\n",
       "      <td>272</td>\n",
       "      <td>LC</td>\n",
       "      <td>N</td>\n",
       "      <td>2008-07-22</td>\n",
       "      <td>9999-12-31 00:00:00</td>\n",
       "      <td>5078987</td>\n",
       "      <td>531045</td>\n",
       "      <td>45.863750</td>\n",
       "      <td>9.39995</td>\n",
       "      <td>(45.86375, 9.39995)</td>\n",
       "    </tr>\n",
       "    <tr>\n",
       "      <th>3</th>\n",
       "      <td>10377</td>\n",
       "      <td>Temperatura</td>\n",
       "      <td>°C</td>\n",
       "      <td>706</td>\n",
       "      <td>Lecco v.Sora</td>\n",
       "      <td>272</td>\n",
       "      <td>LC</td>\n",
       "      <td>N</td>\n",
       "      <td>2008-07-22</td>\n",
       "      <td>9999-12-31 00:00:00</td>\n",
       "      <td>5078987</td>\n",
       "      <td>531045</td>\n",
       "      <td>45.863750</td>\n",
       "      <td>9.39995</td>\n",
       "      <td>(45.86375, 9.39995)</td>\n",
       "    </tr>\n",
       "    <tr>\n",
       "      <th>4</th>\n",
       "      <td>10381</td>\n",
       "      <td>Umidità Relativa</td>\n",
       "      <td>%</td>\n",
       "      <td>706</td>\n",
       "      <td>Lecco v.Sora</td>\n",
       "      <td>272</td>\n",
       "      <td>LC</td>\n",
       "      <td>N</td>\n",
       "      <td>2008-07-22</td>\n",
       "      <td>9999-12-31 00:00:00</td>\n",
       "      <td>5078987</td>\n",
       "      <td>531045</td>\n",
       "      <td>45.863750</td>\n",
       "      <td>9.39995</td>\n",
       "      <td>(45.86375, 9.39995)</td>\n",
       "    </tr>\n",
       "  </tbody>\n",
       "</table>\n",
       "</div>"
      ],
      "text/plain": [
       "   idsensore         tipologia unit_dimisura  idstazione        nomestazione  \\\n",
       "0        101      Altezza Neve            cm          52  Grosio Diga Fusino   \n",
       "1      10373    Precipitazione            mm         687      Ferno v.Di Dio   \n",
       "2      10376    Precipitazione            mm         706        Lecco v.Sora   \n",
       "3      10377       Temperatura            °C         706        Lecco v.Sora   \n",
       "4      10381  Umidità Relativa             %         706        Lecco v.Sora   \n",
       "\n",
       "   quota provincia storico  datastart             datastop  cgb_nord  cgb_est  \\\n",
       "0   1220        SO       N 2001-12-01  9999-12-31 00:00:00   5131141   595908   \n",
       "1    215        VA       N 2007-08-13  9999-12-31 00:00:00   5051773   481053   \n",
       "2    272        LC       N 2008-07-22  9999-12-31 00:00:00   5078987   531045   \n",
       "3    272        LC       N 2008-07-22  9999-12-31 00:00:00   5078987   531045   \n",
       "4    272        LC       N 2008-07-22  9999-12-31 00:00:00   5078987   531045   \n",
       "\n",
       "         lat       lng             coordinate  \n",
       "0  46.327057  10.24597  (46.327057, 10.24597)  \n",
       "1  45.619244   8.75697   (45.619244, 8.75697)  \n",
       "2  45.863750   9.39995    (45.86375, 9.39995)  \n",
       "3  45.863750   9.39995    (45.86375, 9.39995)  \n",
       "4  45.863750   9.39995    (45.86375, 9.39995)  "
      ]
     },
     "execution_count": 6,
     "metadata": {},
     "output_type": "execute_result"
    }
   ],
   "source": [
    "stazioni.columns=['idsensore','tipologia','unit_dimisura','idstazione','nomestazione','quota','provincia','storico',\n",
    "                  'datastart','datastop','cgb_nord','cgb_est','lat','lng','coordinate']\n",
    "stazioni.head()"
   ]
  },
  {
   "cell_type": "code",
   "execution_count": 7,
   "id": "4dd9cfd9",
   "metadata": {},
   "outputs": [],
   "source": [
    "stazioni.to_pickle('stazioni.h5')\n",
    "stazioni.to_csv('stazioni_meteo.csv')"
   ]
  },
  {
   "cell_type": "code",
   "execution_count": null,
   "id": "6eef7fdd",
   "metadata": {},
   "outputs": [],
   "source": []
  }
 ],
 "metadata": {
  "kernelspec": {
   "display_name": "Python 3 (ipykernel)",
   "language": "python",
   "name": "python3"
  },
  "language_info": {
   "codemirror_mode": {
    "name": "ipython",
    "version": 3
   },
   "file_extension": ".py",
   "mimetype": "text/x-python",
   "name": "python",
   "nbconvert_exporter": "python",
   "pygments_lexer": "ipython3",
   "version": "3.9.7"
  }
 },
 "nbformat": 4,
 "nbformat_minor": 5
}

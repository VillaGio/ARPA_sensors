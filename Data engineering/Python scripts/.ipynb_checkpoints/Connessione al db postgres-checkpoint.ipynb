{
 "cells": [
  {
   "cell_type": "code",
   "execution_count": 3,
   "id": "b998b268",
   "metadata": {},
   "outputs": [],
   "source": [
    "import psycopg2\n",
    "import pandas as pd"
   ]
  },
  {
   "cell_type": "code",
   "execution_count": 2,
   "id": "1b68c34e",
   "metadata": {},
   "outputs": [
    {
     "name": "stdout",
     "output_type": "stream",
     "text": [
      "PostgreSQL server information\n",
      "{'user': 'woneli', 'channel_binding': 'prefer', 'dbname': 'postgres', 'host': '188.165.216.169', 'port': '5432', 'options': '', 'sslmode': 'prefer', 'sslcompression': '0', 'sslsni': '1', 'ssl_min_protocol_version': 'TLSv1.2', 'gssencmode': 'disable', 'krbsrvname': 'postgres', 'target_session_attrs': 'any'} \n",
      "\n",
      "You are connected to -  ('PostgreSQL 9.6.23 on x86_64-pc-linux-gnu, compiled by gcc (GCC) 4.4.7 20120313 (Red Hat 4.4.7-23), 64-bit',) \n",
      "\n",
      "PostgreSQL connection is closed\n"
     ]
    }
   ],
   "source": [
    "from psycopg2 import Error\n",
    "\n",
    "try:\n",
    "    # Connect to an existing database\n",
    "    connection = psycopg2.connect(user=\"woneli\",\n",
    "                                  password=\"woneli\",\n",
    "                                  host=\"188.165.216.169\",\n",
    "                                  port=\"5432\",\n",
    "                                  database=\"postgres\")\n",
    "\n",
    "    # Create a cursor to perform database operations\n",
    "    cursor = connection.cursor()\n",
    "    # Print PostgreSQL details\n",
    "    print(\"PostgreSQL server information\")\n",
    "    print(connection.get_dsn_parameters(), \"\\n\")\n",
    "    # Executing a SQL query\n",
    "    cursor.execute(\"SELECT version();\")\n",
    "    # Fetch result\n",
    "    record = cursor.fetchone()\n",
    "    print(\"You are connected to - \", record, \"\\n\")\n",
    "\n",
    "except (Exception, Error) as error:\n",
    "    print(\"Error while connecting to PostgreSQL\", error)\n",
    "finally:\n",
    "    if (connection):\n",
    "        cursor.close()\n",
    "        connection.close()\n",
    "        print(\"PostgreSQL connection is closed\")"
   ]
  },
  {
   "cell_type": "markdown",
   "id": "a0fd62ff",
   "metadata": {},
   "source": [
    "ci riusciamo a connettere evviva"
   ]
  },
  {
   "cell_type": "code",
   "execution_count": 3,
   "id": "ffca8fa0",
   "metadata": {},
   "outputs": [
    {
     "name": "stdout",
     "output_type": "stream",
     "text": [
      "PostgreSQL server information\n",
      "{'user': 'woneli', 'channel_binding': 'prefer', 'dbname': 'postgres', 'host': '188.165.216.169', 'port': '5432', 'options': '', 'sslmode': 'prefer', 'sslcompression': '0', 'sslsni': '1', 'ssl_min_protocol_version': 'TLSv1.2', 'gssencmode': 'disable', 'krbsrvname': 'postgres', 'target_session_attrs': 'any'} \n",
      "\n",
      "You are connected to -  None \n",
      "\n"
     ]
    }
   ],
   "source": [
    "from psycopg2 import Error\n",
    "\n",
    "try:\n",
    "    # Connect to an existing database\n",
    "    connection = psycopg2.connect(user=\"woneli\",\n",
    "                                  password=\"woneli\",\n",
    "                                  host=\"188.165.216.169\",\n",
    "                                  port=\"5432\",\n",
    "                                  database=\"postgres\")\n",
    "\n",
    "    # Create a cursor to perform database operations\n",
    "    cursor = connection.cursor()\n",
    "    # Print PostgreSQL details\n",
    "    print(\"PostgreSQL server information\")\n",
    "    print(connection.get_dsn_parameters(), \"\\n\")\n",
    "    # Executing a SQL query\n",
    "    cursor.execute(\"SELECT * FROM sens_data_2021;\")\n",
    "    risulato = cursor.fetchall()\n",
    "    # Fetch result\n",
    "    record = cursor.fetchone()\n",
    "    print(\"You are connected to - \", record, \"\\n\")\n",
    "\n",
    "except (Exception, Error) as error:\n",
    "    print(\"Error while connecting to PostgreSQL\", error)"
   ]
  },
  {
   "cell_type": "code",
   "execution_count": 5,
   "id": "e2813984",
   "metadata": {},
   "outputs": [
    {
     "data": {
      "text/plain": [
       "list"
      ]
     },
     "execution_count": 5,
     "metadata": {},
     "output_type": "execute_result"
    }
   ],
   "source": [
    "type(risulato)"
   ]
  },
  {
   "cell_type": "code",
   "execution_count": 6,
   "id": "e2c030c0",
   "metadata": {},
   "outputs": [
    {
     "data": {
      "text/plain": [
       "(5504, datetime.datetime(2021, 1, 1, 0, 0), -9999.0, 'NA', 1)"
      ]
     },
     "execution_count": 6,
     "metadata": {},
     "output_type": "execute_result"
    }
   ],
   "source": [
    "risulato[0]"
   ]
  },
  {
   "cell_type": "code",
   "execution_count": 8,
   "id": "9f948f78",
   "metadata": {},
   "outputs": [
    {
     "data": {
      "text/plain": [
       "2680340"
      ]
     },
     "execution_count": 8,
     "metadata": {},
     "output_type": "execute_result"
    }
   ],
   "source": [
    "len(risulato)"
   ]
  },
  {
   "cell_type": "code",
   "execution_count": 10,
   "id": "9ee3a148",
   "metadata": {},
   "outputs": [],
   "source": [
    "df_2021 = pd.DataFrame(risulato)"
   ]
  },
  {
   "cell_type": "code",
   "execution_count": 6,
   "id": "8e0f4d32",
   "metadata": {},
   "outputs": [
    {
     "data": {
      "text/html": [
       "<div>\n",
       "<style scoped>\n",
       "    .dataframe tbody tr th:only-of-type {\n",
       "        vertical-align: middle;\n",
       "    }\n",
       "\n",
       "    .dataframe tbody tr th {\n",
       "        vertical-align: top;\n",
       "    }\n",
       "\n",
       "    .dataframe thead th {\n",
       "        text-align: right;\n",
       "    }\n",
       "</style>\n",
       "<table border=\"1\" class=\"dataframe\">\n",
       "  <thead>\n",
       "    <tr style=\"text-align: right;\">\n",
       "      <th></th>\n",
       "      <th>IdSensore</th>\n",
       "      <th>Data</th>\n",
       "      <th>Valore</th>\n",
       "      <th>Stato</th>\n",
       "      <th>IdOperatore</th>\n",
       "    </tr>\n",
       "  </thead>\n",
       "  <tbody>\n",
       "    <tr>\n",
       "      <th>0</th>\n",
       "      <td>5504</td>\n",
       "      <td>2021-01-01</td>\n",
       "      <td>-9999.0</td>\n",
       "      <td>NA</td>\n",
       "      <td>1</td>\n",
       "    </tr>\n",
       "    <tr>\n",
       "      <th>1</th>\n",
       "      <td>5832</td>\n",
       "      <td>2021-01-01</td>\n",
       "      <td>-9999.0</td>\n",
       "      <td>NA</td>\n",
       "      <td>1</td>\n",
       "    </tr>\n",
       "    <tr>\n",
       "      <th>2</th>\n",
       "      <td>6328</td>\n",
       "      <td>2021-01-01</td>\n",
       "      <td>-9999.0</td>\n",
       "      <td>NA</td>\n",
       "      <td>1</td>\n",
       "    </tr>\n",
       "    <tr>\n",
       "      <th>3</th>\n",
       "      <td>5507</td>\n",
       "      <td>2021-01-01</td>\n",
       "      <td>85.5</td>\n",
       "      <td>VA</td>\n",
       "      <td>1</td>\n",
       "    </tr>\n",
       "    <tr>\n",
       "      <th>4</th>\n",
       "      <td>5517</td>\n",
       "      <td>2021-01-01</td>\n",
       "      <td>67.6</td>\n",
       "      <td>VA</td>\n",
       "      <td>1</td>\n",
       "    </tr>\n",
       "  </tbody>\n",
       "</table>\n",
       "</div>"
      ],
      "text/plain": [
       "   IdSensore       Data  Valore Stato  IdOperatore\n",
       "0       5504 2021-01-01 -9999.0    NA            1\n",
       "1       5832 2021-01-01 -9999.0    NA            1\n",
       "2       6328 2021-01-01 -9999.0    NA            1\n",
       "3       5507 2021-01-01    85.5    VA            1\n",
       "4       5517 2021-01-01    67.6    VA            1"
      ]
     },
     "execution_count": 6,
     "metadata": {},
     "output_type": "execute_result"
    }
   ],
   "source": [
    "df_2021.columns = ['IdSensore','Data','Valore','Stato','IdOperatore']\n",
    "df_2021.head()"
   ]
  },
  {
   "cell_type": "code",
   "execution_count": 17,
   "id": "d6ac2ff1",
   "metadata": {},
   "outputs": [
    {
     "data": {
      "text/plain": [
       "(2680340, 5)"
      ]
     },
     "execution_count": 17,
     "metadata": {},
     "output_type": "execute_result"
    }
   ],
   "source": [
    "df_2021.shape"
   ]
  },
  {
   "cell_type": "code",
   "execution_count": 24,
   "id": "51611dce",
   "metadata": {},
   "outputs": [],
   "source": [
    "df_2021.to_pickle('df_2021.h5') "
   ]
  },
  {
   "cell_type": "code",
   "execution_count": 2,
   "id": "804dbbcc",
   "metadata": {},
   "outputs": [],
   "source": [
    "df_2021 = pd.read_pickle('df_2021.h5')"
   ]
  },
  {
   "cell_type": "markdown",
   "id": "91adc1ce",
   "metadata": {},
   "source": [
    "Parrebbe andare, proviamo con quello più pesante"
   ]
  },
  {
   "cell_type": "code",
   "execution_count": 18,
   "id": "2fbd6bb8",
   "metadata": {},
   "outputs": [
    {
     "name": "stdout",
     "output_type": "stream",
     "text": [
      "PostgreSQL server information\n",
      "{'user': 'woneli', 'channel_binding': 'prefer', 'dbname': 'postgres', 'host': '188.165.216.169', 'port': '5432', 'options': '', 'sslmode': 'prefer', 'sslcompression': '0', 'sslsni': '1', 'ssl_min_protocol_version': 'TLSv1.2', 'gssencmode': 'disable', 'krbsrvname': 'postgres', 'target_session_attrs': 'any'} \n",
      "\n",
      "You are connected to -  None \n",
      "\n"
     ]
    }
   ],
   "source": [
    "from psycopg2 import Error\n",
    "\n",
    "try:\n",
    "    # Connect to an existing database\n",
    "    connection = psycopg2.connect(user=\"woneli\",\n",
    "                                  password=\"woneli\",\n",
    "                                  host=\"188.165.216.169\",\n",
    "                                  port=\"5432\",\n",
    "                                  database=\"postgres\")\n",
    "\n",
    "    # Create a cursor to perform database operations\n",
    "    cursor = connection.cursor()\n",
    "    # Print PostgreSQL details\n",
    "    print(\"PostgreSQL server information\")\n",
    "    print(connection.get_dsn_parameters(), \"\\n\")\n",
    "    # Executing a SQL query\n",
    "    cursor.execute(\"SELECT * FROM sens_data_2004;\")\n",
    "    risulato = cursor.fetchall()\n",
    "    # Fetch result\n",
    "    record = cursor.fetchone()\n",
    "    print(\"You are connected to - \", record, \"\\n\")\n",
    "\n",
    "except (Exception, Error) as error:\n",
    "    print(\"Error while connecting to PostgreSQL\", error)"
   ]
  },
  {
   "cell_type": "code",
   "execution_count": 19,
   "id": "a5e3f94a",
   "metadata": {},
   "outputs": [],
   "source": [
    "df_2004 = pd.DataFrame(risulato)"
   ]
  },
  {
   "cell_type": "code",
   "execution_count": 20,
   "id": "81e300f1",
   "metadata": {},
   "outputs": [
    {
     "data": {
      "text/html": [
       "<div>\n",
       "<style scoped>\n",
       "    .dataframe tbody tr th:only-of-type {\n",
       "        vertical-align: middle;\n",
       "    }\n",
       "\n",
       "    .dataframe tbody tr th {\n",
       "        vertical-align: top;\n",
       "    }\n",
       "\n",
       "    .dataframe thead th {\n",
       "        text-align: right;\n",
       "    }\n",
       "</style>\n",
       "<table border=\"1\" class=\"dataframe\">\n",
       "  <thead>\n",
       "    <tr style=\"text-align: right;\">\n",
       "      <th></th>\n",
       "      <th>IdSensore</th>\n",
       "      <th>Data</th>\n",
       "      <th>Valore</th>\n",
       "      <th>Stato</th>\n",
       "      <th>IdOperatore</th>\n",
       "    </tr>\n",
       "  </thead>\n",
       "  <tbody>\n",
       "    <tr>\n",
       "      <th>0</th>\n",
       "      <td>29041</td>\n",
       "      <td>2001-01-01</td>\n",
       "      <td>-9999.0</td>\n",
       "      <td>NA</td>\n",
       "      <td>1</td>\n",
       "    </tr>\n",
       "    <tr>\n",
       "      <th>1</th>\n",
       "      <td>10290</td>\n",
       "      <td>2001-01-01</td>\n",
       "      <td>20.0</td>\n",
       "      <td>VA</td>\n",
       "      <td>1</td>\n",
       "    </tr>\n",
       "    <tr>\n",
       "      <th>2</th>\n",
       "      <td>10299</td>\n",
       "      <td>2001-01-01</td>\n",
       "      <td>-9999.0</td>\n",
       "      <td>NA</td>\n",
       "      <td>1</td>\n",
       "    </tr>\n",
       "    <tr>\n",
       "      <th>3</th>\n",
       "      <td>10390</td>\n",
       "      <td>2001-01-01</td>\n",
       "      <td>-9999.0</td>\n",
       "      <td>NA</td>\n",
       "      <td>1</td>\n",
       "    </tr>\n",
       "    <tr>\n",
       "      <th>4</th>\n",
       "      <td>12029</td>\n",
       "      <td>2001-01-01</td>\n",
       "      <td>15.0</td>\n",
       "      <td>VA</td>\n",
       "      <td>1</td>\n",
       "    </tr>\n",
       "  </tbody>\n",
       "</table>\n",
       "</div>"
      ],
      "text/plain": [
       "   IdSensore       Data  Valore Stato  IdOperatore\n",
       "0      29041 2001-01-01 -9999.0    NA            1\n",
       "1      10290 2001-01-01    20.0    VA            1\n",
       "2      10299 2001-01-01 -9999.0    NA            1\n",
       "3      10390 2001-01-01 -9999.0    NA            1\n",
       "4      12029 2001-01-01    15.0    VA            1"
      ]
     },
     "execution_count": 20,
     "metadata": {},
     "output_type": "execute_result"
    }
   ],
   "source": [
    "df_2004.columns = ['IdSensore','Data','Valore','Stato','IdOperatore']\n",
    "df_2004.head()"
   ]
  },
  {
   "cell_type": "code",
   "execution_count": 21,
   "id": "359a48a5",
   "metadata": {},
   "outputs": [
    {
     "data": {
      "text/plain": [
       "(15113987, 5)"
      ]
     },
     "execution_count": 21,
     "metadata": {},
     "output_type": "execute_result"
    }
   ],
   "source": [
    "df_2004.shape"
   ]
  },
  {
   "cell_type": "code",
   "execution_count": 22,
   "id": "288c5b0d",
   "metadata": {},
   "outputs": [],
   "source": [
    "df_2004.to_pickle('df_2004.h5') "
   ]
  },
  {
   "cell_type": "code",
   "execution_count": 3,
   "id": "3df705a4",
   "metadata": {},
   "outputs": [],
   "source": [
    "df_2004 = pd.read_pickle('df_2004.h5')"
   ]
  },
  {
   "cell_type": "markdown",
   "id": "b3f0dd25",
   "metadata": {},
   "source": [
    "Pickle sembrerebbe funzionare, continuiamo con gli altri anni"
   ]
  },
  {
   "cell_type": "code",
   "execution_count": 5,
   "id": "314e160a",
   "metadata": {},
   "outputs": [
    {
     "name": "stdout",
     "output_type": "stream",
     "text": [
      "PostgreSQL server information\n",
      "{'user': 'woneli', 'channel_binding': 'prefer', 'dbname': 'postgres', 'host': '188.165.216.169', 'port': '5432', 'options': '', 'sslmode': 'prefer', 'sslcompression': '0', 'sslsni': '1', 'ssl_min_protocol_version': 'TLSv1.2', 'gssencmode': 'disable', 'krbsrvname': 'postgres', 'target_session_attrs': 'any'} \n",
      "\n",
      "You are connected to -  None \n",
      "\n"
     ]
    }
   ],
   "source": [
    "from psycopg2 import Error\n",
    "\n",
    "try:\n",
    "    # Connect to an existing database\n",
    "    connection = psycopg2.connect(user=\"woneli\",\n",
    "                                  password=\"woneli\",\n",
    "                                  host=\"188.165.216.169\",\n",
    "                                  port=\"5432\",\n",
    "                                  database=\"postgres\")\n",
    "\n",
    "    # Create a cursor to perform database operations\n",
    "    cursor = connection.cursor()\n",
    "    # Print PostgreSQL details\n",
    "    print(\"PostgreSQL server information\")\n",
    "    print(connection.get_dsn_parameters(), \"\\n\")\n",
    "    # Executing a SQL query\n",
    "    cursor.execute(\"SELECT * FROM sens_data_2020;\")\n",
    "    risulato = cursor.fetchall()\n",
    "    # Fetch result\n",
    "    record = cursor.fetchone()\n",
    "    print(\"You are connected to - \", record, \"\\n\")\n",
    "\n",
    "except (Exception, Error) as error:\n",
    "    print(\"Error while connecting to PostgreSQL\", error)"
   ]
  },
  {
   "cell_type": "code",
   "execution_count": 7,
   "id": "5185cb12",
   "metadata": {},
   "outputs": [],
   "source": [
    "df_2020 = pd.DataFrame(risulato)"
   ]
  },
  {
   "cell_type": "code",
   "execution_count": 8,
   "id": "bab50a5b",
   "metadata": {},
   "outputs": [
    {
     "data": {
      "text/html": [
       "<div>\n",
       "<style scoped>\n",
       "    .dataframe tbody tr th:only-of-type {\n",
       "        vertical-align: middle;\n",
       "    }\n",
       "\n",
       "    .dataframe tbody tr th {\n",
       "        vertical-align: top;\n",
       "    }\n",
       "\n",
       "    .dataframe thead th {\n",
       "        text-align: right;\n",
       "    }\n",
       "</style>\n",
       "<table border=\"1\" class=\"dataframe\">\n",
       "  <thead>\n",
       "    <tr style=\"text-align: right;\">\n",
       "      <th></th>\n",
       "      <th>IdSensore</th>\n",
       "      <th>Data</th>\n",
       "      <th>Valore</th>\n",
       "      <th>Stato</th>\n",
       "      <th>IdOperatore</th>\n",
       "    </tr>\n",
       "  </thead>\n",
       "  <tbody>\n",
       "    <tr>\n",
       "      <th>0</th>\n",
       "      <td>5652</td>\n",
       "      <td>2020-01-01</td>\n",
       "      <td>-9999.0</td>\n",
       "      <td>NA</td>\n",
       "      <td>1</td>\n",
       "    </tr>\n",
       "    <tr>\n",
       "      <th>1</th>\n",
       "      <td>5710</td>\n",
       "      <td>2020-01-01</td>\n",
       "      <td>-9999.0</td>\n",
       "      <td>NA</td>\n",
       "      <td>1</td>\n",
       "    </tr>\n",
       "    <tr>\n",
       "      <th>2</th>\n",
       "      <td>6411</td>\n",
       "      <td>2020-01-01</td>\n",
       "      <td>1.0</td>\n",
       "      <td>VA</td>\n",
       "      <td>1</td>\n",
       "    </tr>\n",
       "    <tr>\n",
       "      <th>3</th>\n",
       "      <td>5504</td>\n",
       "      <td>2020-01-01</td>\n",
       "      <td>125.0</td>\n",
       "      <td>VA</td>\n",
       "      <td>1</td>\n",
       "    </tr>\n",
       "    <tr>\n",
       "      <th>4</th>\n",
       "      <td>5507</td>\n",
       "      <td>2020-01-01</td>\n",
       "      <td>63.8</td>\n",
       "      <td>VA</td>\n",
       "      <td>1</td>\n",
       "    </tr>\n",
       "  </tbody>\n",
       "</table>\n",
       "</div>"
      ],
      "text/plain": [
       "   IdSensore       Data  Valore Stato  IdOperatore\n",
       "0       5652 2020-01-01 -9999.0    NA            1\n",
       "1       5710 2020-01-01 -9999.0    NA            1\n",
       "2       6411 2020-01-01     1.0    VA            1\n",
       "3       5504 2020-01-01   125.0    VA            1\n",
       "4       5507 2020-01-01    63.8    VA            1"
      ]
     },
     "execution_count": 8,
     "metadata": {},
     "output_type": "execute_result"
    }
   ],
   "source": [
    "df_2020.columns = ['IdSensore','Data','Valore','Stato','IdOperatore']\n",
    "df_2020.head()"
   ]
  },
  {
   "cell_type": "code",
   "execution_count": 20,
   "id": "d4e7e98c",
   "metadata": {},
   "outputs": [
    {
     "data": {
      "text/plain": [
       "(2620280, 5)"
      ]
     },
     "execution_count": 20,
     "metadata": {},
     "output_type": "execute_result"
    }
   ],
   "source": [
    "df_2020.shape"
   ]
  },
  {
   "cell_type": "code",
   "execution_count": 10,
   "id": "bd0b7a25",
   "metadata": {},
   "outputs": [],
   "source": [
    "df_2020.to_pickle('df_2020.h5') "
   ]
  },
  {
   "cell_type": "code",
   "execution_count": 11,
   "id": "9fef93bb",
   "metadata": {},
   "outputs": [],
   "source": [
    "df_2020 = pd.read_pickle('df_2020.h5')"
   ]
  },
  {
   "cell_type": "markdown",
   "id": "8b226877",
   "metadata": {},
   "source": [
    "2019"
   ]
  },
  {
   "cell_type": "code",
   "execution_count": 30,
   "id": "682808e4",
   "metadata": {},
   "outputs": [
    {
     "name": "stdout",
     "output_type": "stream",
     "text": [
      "PostgreSQL server information\n",
      "{'user': 'woneli', 'channel_binding': 'prefer', 'dbname': 'postgres', 'host': '188.165.216.169', 'port': '5432', 'options': '', 'sslmode': 'prefer', 'sslcompression': '0', 'sslsni': '1', 'ssl_min_protocol_version': 'TLSv1.2', 'gssencmode': 'disable', 'krbsrvname': 'postgres', 'target_session_attrs': 'any'} \n",
      "\n",
      "You are connected to -  None \n",
      "\n"
     ]
    }
   ],
   "source": [
    "from psycopg2 import Error\n",
    "\n",
    "try:\n",
    "    # Connect to an existing database\n",
    "    connection = psycopg2.connect(user=\"woneli\",\n",
    "                                  password=\"woneli\",\n",
    "                                  host=\"188.165.216.169\",\n",
    "                                  port=\"5432\",\n",
    "                                  database=\"postgres\")\n",
    "\n",
    "    # Create a cursor to perform database operations\n",
    "    cursor = connection.cursor()\n",
    "    # Print PostgreSQL details\n",
    "    print(\"PostgreSQL server information\")\n",
    "    print(connection.get_dsn_parameters(), \"\\n\")\n",
    "    # Executing a SQL query\n",
    "    cursor.execute(\"SELECT * FROM sens_data_2019;\")\n",
    "    risulato = cursor.fetchall()\n",
    "    # Fetch result\n",
    "    record = cursor.fetchone()\n",
    "    print(\"You are connected to - \", record, \"\\n\")\n",
    "\n",
    "except (Exception, Error) as error:\n",
    "    print(\"Error while connecting to PostgreSQL\", error)"
   ]
  },
  {
   "cell_type": "code",
   "execution_count": 31,
   "id": "ec9325d0",
   "metadata": {},
   "outputs": [],
   "source": [
    "df_2019 = pd.DataFrame(risulato)"
   ]
  },
  {
   "cell_type": "code",
   "execution_count": 32,
   "id": "89e80f24",
   "metadata": {},
   "outputs": [
    {
     "data": {
      "text/html": [
       "<div>\n",
       "<style scoped>\n",
       "    .dataframe tbody tr th:only-of-type {\n",
       "        vertical-align: middle;\n",
       "    }\n",
       "\n",
       "    .dataframe tbody tr th {\n",
       "        vertical-align: top;\n",
       "    }\n",
       "\n",
       "    .dataframe thead th {\n",
       "        text-align: right;\n",
       "    }\n",
       "</style>\n",
       "<table border=\"1\" class=\"dataframe\">\n",
       "  <thead>\n",
       "    <tr style=\"text-align: right;\">\n",
       "      <th></th>\n",
       "      <th>IdSensore</th>\n",
       "      <th>Data</th>\n",
       "      <th>Valore</th>\n",
       "      <th>Stato</th>\n",
       "      <th>IdOperatore</th>\n",
       "    </tr>\n",
       "  </thead>\n",
       "  <tbody>\n",
       "    <tr>\n",
       "      <th>0</th>\n",
       "      <td>10023</td>\n",
       "      <td>2019-01-01</td>\n",
       "      <td>-9999.0</td>\n",
       "      <td>NA</td>\n",
       "      <td>1</td>\n",
       "    </tr>\n",
       "    <tr>\n",
       "      <th>1</th>\n",
       "      <td>10025</td>\n",
       "      <td>2019-01-01</td>\n",
       "      <td>-9999.0</td>\n",
       "      <td>NA</td>\n",
       "      <td>1</td>\n",
       "    </tr>\n",
       "    <tr>\n",
       "      <th>2</th>\n",
       "      <td>11041</td>\n",
       "      <td>2019-01-01</td>\n",
       "      <td>-9999.0</td>\n",
       "      <td>NA</td>\n",
       "      <td>1</td>\n",
       "    </tr>\n",
       "    <tr>\n",
       "      <th>3</th>\n",
       "      <td>5504</td>\n",
       "      <td>2019-01-01</td>\n",
       "      <td>75.6</td>\n",
       "      <td>VA</td>\n",
       "      <td>1</td>\n",
       "    </tr>\n",
       "    <tr>\n",
       "      <th>4</th>\n",
       "      <td>5507</td>\n",
       "      <td>2019-01-01</td>\n",
       "      <td>61.0</td>\n",
       "      <td>VA</td>\n",
       "      <td>1</td>\n",
       "    </tr>\n",
       "  </tbody>\n",
       "</table>\n",
       "</div>"
      ],
      "text/plain": [
       "   IdSensore       Data  Valore Stato  IdOperatore\n",
       "0      10023 2019-01-01 -9999.0    NA            1\n",
       "1      10025 2019-01-01 -9999.0    NA            1\n",
       "2      11041 2019-01-01 -9999.0    NA            1\n",
       "3       5504 2019-01-01    75.6    VA            1\n",
       "4       5507 2019-01-01    61.0    VA            1"
      ]
     },
     "execution_count": 32,
     "metadata": {},
     "output_type": "execute_result"
    }
   ],
   "source": [
    "df_2019.columns = ['IdSensore','Data','Valore','Stato','IdOperatore']\n",
    "df_2019.head()"
   ]
  },
  {
   "cell_type": "code",
   "execution_count": 33,
   "id": "71bbf9b1",
   "metadata": {},
   "outputs": [
    {
     "data": {
      "text/plain": [
       "(2574002, 5)"
      ]
     },
     "execution_count": 33,
     "metadata": {},
     "output_type": "execute_result"
    }
   ],
   "source": [
    "df_2019.shape"
   ]
  },
  {
   "cell_type": "code",
   "execution_count": 34,
   "id": "c33a99f3",
   "metadata": {},
   "outputs": [],
   "source": [
    "df_2019.to_pickle('df_2019.h5') "
   ]
  },
  {
   "cell_type": "code",
   "execution_count": 35,
   "id": "1ddf12c5",
   "metadata": {},
   "outputs": [],
   "source": [
    "df_2019 = pd.read_pickle('df_2019.h5')"
   ]
  },
  {
   "cell_type": "code",
   "execution_count": 36,
   "id": "cbeefaa1",
   "metadata": {},
   "outputs": [
    {
     "data": {
      "text/html": [
       "<div>\n",
       "<style scoped>\n",
       "    .dataframe tbody tr th:only-of-type {\n",
       "        vertical-align: middle;\n",
       "    }\n",
       "\n",
       "    .dataframe tbody tr th {\n",
       "        vertical-align: top;\n",
       "    }\n",
       "\n",
       "    .dataframe thead th {\n",
       "        text-align: right;\n",
       "    }\n",
       "</style>\n",
       "<table border=\"1\" class=\"dataframe\">\n",
       "  <thead>\n",
       "    <tr style=\"text-align: right;\">\n",
       "      <th></th>\n",
       "      <th>IdSensore</th>\n",
       "      <th>Data</th>\n",
       "      <th>Valore</th>\n",
       "      <th>Stato</th>\n",
       "      <th>IdOperatore</th>\n",
       "    </tr>\n",
       "  </thead>\n",
       "  <tbody>\n",
       "    <tr>\n",
       "      <th>0</th>\n",
       "      <td>10023</td>\n",
       "      <td>2019-01-01</td>\n",
       "      <td>-9999.0</td>\n",
       "      <td>NA</td>\n",
       "      <td>1</td>\n",
       "    </tr>\n",
       "    <tr>\n",
       "      <th>1</th>\n",
       "      <td>10025</td>\n",
       "      <td>2019-01-01</td>\n",
       "      <td>-9999.0</td>\n",
       "      <td>NA</td>\n",
       "      <td>1</td>\n",
       "    </tr>\n",
       "    <tr>\n",
       "      <th>2</th>\n",
       "      <td>11041</td>\n",
       "      <td>2019-01-01</td>\n",
       "      <td>-9999.0</td>\n",
       "      <td>NA</td>\n",
       "      <td>1</td>\n",
       "    </tr>\n",
       "    <tr>\n",
       "      <th>3</th>\n",
       "      <td>5504</td>\n",
       "      <td>2019-01-01</td>\n",
       "      <td>75.6</td>\n",
       "      <td>VA</td>\n",
       "      <td>1</td>\n",
       "    </tr>\n",
       "    <tr>\n",
       "      <th>4</th>\n",
       "      <td>5507</td>\n",
       "      <td>2019-01-01</td>\n",
       "      <td>61.0</td>\n",
       "      <td>VA</td>\n",
       "      <td>1</td>\n",
       "    </tr>\n",
       "  </tbody>\n",
       "</table>\n",
       "</div>"
      ],
      "text/plain": [
       "   IdSensore       Data  Valore Stato  IdOperatore\n",
       "0      10023 2019-01-01 -9999.0    NA            1\n",
       "1      10025 2019-01-01 -9999.0    NA            1\n",
       "2      11041 2019-01-01 -9999.0    NA            1\n",
       "3       5504 2019-01-01    75.6    VA            1\n",
       "4       5507 2019-01-01    61.0    VA            1"
      ]
     },
     "execution_count": 36,
     "metadata": {},
     "output_type": "execute_result"
    }
   ],
   "source": [
    "df_2019.head()"
   ]
  },
  {
   "cell_type": "markdown",
   "id": "ec07d86e",
   "metadata": {},
   "source": [
    "2018"
   ]
  },
  {
   "cell_type": "code",
   "execution_count": 21,
   "id": "1d5d955e",
   "metadata": {},
   "outputs": [
    {
     "name": "stdout",
     "output_type": "stream",
     "text": [
      "PostgreSQL server information\n",
      "{'user': 'woneli', 'channel_binding': 'prefer', 'dbname': 'postgres', 'host': '188.165.216.169', 'port': '5432', 'options': '', 'sslmode': 'prefer', 'sslcompression': '0', 'sslsni': '1', 'ssl_min_protocol_version': 'TLSv1.2', 'gssencmode': 'disable', 'krbsrvname': 'postgres', 'target_session_attrs': 'any'} \n",
      "\n",
      "You are connected to -  None \n",
      "\n"
     ]
    }
   ],
   "source": [
    "from psycopg2 import Error\n",
    "\n",
    "try:\n",
    "    # Connect to an existing database\n",
    "    connection = psycopg2.connect(user=\"woneli\",\n",
    "                                  password=\"woneli\",\n",
    "                                  host=\"188.165.216.169\",\n",
    "                                  port=\"5432\",\n",
    "                                  database=\"postgres\")\n",
    "\n",
    "    # Create a cursor to perform database operations\n",
    "    cursor = connection.cursor()\n",
    "    # Print PostgreSQL details\n",
    "    print(\"PostgreSQL server information\")\n",
    "    print(connection.get_dsn_parameters(), \"\\n\")\n",
    "    # Executing a SQL query\n",
    "    cursor.execute(\"SELECT * FROM sens_data_2018;\")\n",
    "    risulato = cursor.fetchall()\n",
    "    # Fetch result\n",
    "    record = cursor.fetchone()\n",
    "    print(\"You are connected to - \", record, \"\\n\")\n",
    "\n",
    "except (Exception, Error) as error:\n",
    "    print(\"Error while connecting to PostgreSQL\", error)"
   ]
  },
  {
   "cell_type": "code",
   "execution_count": 23,
   "id": "1c3fcc72",
   "metadata": {},
   "outputs": [],
   "source": [
    "df_2018 = pd.DataFrame(risulato)"
   ]
  },
  {
   "cell_type": "code",
   "execution_count": 24,
   "id": "c1ba7e0b",
   "metadata": {},
   "outputs": [
    {
     "data": {
      "text/html": [
       "<div>\n",
       "<style scoped>\n",
       "    .dataframe tbody tr th:only-of-type {\n",
       "        vertical-align: middle;\n",
       "    }\n",
       "\n",
       "    .dataframe tbody tr th {\n",
       "        vertical-align: top;\n",
       "    }\n",
       "\n",
       "    .dataframe thead th {\n",
       "        text-align: right;\n",
       "    }\n",
       "</style>\n",
       "<table border=\"1\" class=\"dataframe\">\n",
       "  <thead>\n",
       "    <tr style=\"text-align: right;\">\n",
       "      <th></th>\n",
       "      <th>IdSensore</th>\n",
       "      <th>Data</th>\n",
       "      <th>Valore</th>\n",
       "      <th>Stato</th>\n",
       "      <th>IdOperatore</th>\n",
       "    </tr>\n",
       "  </thead>\n",
       "  <tbody>\n",
       "    <tr>\n",
       "      <th>0</th>\n",
       "      <td>5607</td>\n",
       "      <td>2018-01-01</td>\n",
       "      <td>-9999.0</td>\n",
       "      <td>NA</td>\n",
       "      <td>1</td>\n",
       "    </tr>\n",
       "    <tr>\n",
       "      <th>1</th>\n",
       "      <td>6280</td>\n",
       "      <td>2018-01-01</td>\n",
       "      <td>-9999.0</td>\n",
       "      <td>NA</td>\n",
       "      <td>1</td>\n",
       "    </tr>\n",
       "    <tr>\n",
       "      <th>2</th>\n",
       "      <td>9997</td>\n",
       "      <td>2018-01-01</td>\n",
       "      <td>-9999.0</td>\n",
       "      <td>NA</td>\n",
       "      <td>1</td>\n",
       "    </tr>\n",
       "    <tr>\n",
       "      <th>3</th>\n",
       "      <td>5504</td>\n",
       "      <td>2018-01-01</td>\n",
       "      <td>62.2</td>\n",
       "      <td>VA</td>\n",
       "      <td>1</td>\n",
       "    </tr>\n",
       "    <tr>\n",
       "      <th>4</th>\n",
       "      <td>5507</td>\n",
       "      <td>2018-01-01</td>\n",
       "      <td>36.0</td>\n",
       "      <td>VA</td>\n",
       "      <td>1</td>\n",
       "    </tr>\n",
       "  </tbody>\n",
       "</table>\n",
       "</div>"
      ],
      "text/plain": [
       "   IdSensore       Data  Valore Stato  IdOperatore\n",
       "0       5607 2018-01-01 -9999.0    NA            1\n",
       "1       6280 2018-01-01 -9999.0    NA            1\n",
       "2       9997 2018-01-01 -9999.0    NA            1\n",
       "3       5504 2018-01-01    62.2    VA            1\n",
       "4       5507 2018-01-01    36.0    VA            1"
      ]
     },
     "execution_count": 24,
     "metadata": {},
     "output_type": "execute_result"
    }
   ],
   "source": [
    "df_2018.columns = ['IdSensore','Data','Valore','Stato','IdOperatore']\n",
    "df_2018.head()"
   ]
  },
  {
   "cell_type": "code",
   "execution_count": 25,
   "id": "5176ab24",
   "metadata": {},
   "outputs": [
    {
     "data": {
      "text/plain": [
       "(2582803, 5)"
      ]
     },
     "execution_count": 25,
     "metadata": {},
     "output_type": "execute_result"
    }
   ],
   "source": [
    "df_2018.shape"
   ]
  },
  {
   "cell_type": "code",
   "execution_count": 27,
   "id": "a0364de2",
   "metadata": {},
   "outputs": [],
   "source": [
    "df_2018.to_pickle('df_2018.h5') "
   ]
  },
  {
   "cell_type": "code",
   "execution_count": 28,
   "id": "bda40568",
   "metadata": {},
   "outputs": [],
   "source": [
    "df_2018 = pd.read_pickle('df_2018.h5')"
   ]
  },
  {
   "cell_type": "code",
   "execution_count": 29,
   "id": "018b542a",
   "metadata": {},
   "outputs": [
    {
     "data": {
      "text/html": [
       "<div>\n",
       "<style scoped>\n",
       "    .dataframe tbody tr th:only-of-type {\n",
       "        vertical-align: middle;\n",
       "    }\n",
       "\n",
       "    .dataframe tbody tr th {\n",
       "        vertical-align: top;\n",
       "    }\n",
       "\n",
       "    .dataframe thead th {\n",
       "        text-align: right;\n",
       "    }\n",
       "</style>\n",
       "<table border=\"1\" class=\"dataframe\">\n",
       "  <thead>\n",
       "    <tr style=\"text-align: right;\">\n",
       "      <th></th>\n",
       "      <th>IdSensore</th>\n",
       "      <th>Data</th>\n",
       "      <th>Valore</th>\n",
       "      <th>Stato</th>\n",
       "      <th>IdOperatore</th>\n",
       "    </tr>\n",
       "  </thead>\n",
       "  <tbody>\n",
       "    <tr>\n",
       "      <th>0</th>\n",
       "      <td>5607</td>\n",
       "      <td>2018-01-01</td>\n",
       "      <td>-9999.0</td>\n",
       "      <td>NA</td>\n",
       "      <td>1</td>\n",
       "    </tr>\n",
       "    <tr>\n",
       "      <th>1</th>\n",
       "      <td>6280</td>\n",
       "      <td>2018-01-01</td>\n",
       "      <td>-9999.0</td>\n",
       "      <td>NA</td>\n",
       "      <td>1</td>\n",
       "    </tr>\n",
       "    <tr>\n",
       "      <th>2</th>\n",
       "      <td>9997</td>\n",
       "      <td>2018-01-01</td>\n",
       "      <td>-9999.0</td>\n",
       "      <td>NA</td>\n",
       "      <td>1</td>\n",
       "    </tr>\n",
       "    <tr>\n",
       "      <th>3</th>\n",
       "      <td>5504</td>\n",
       "      <td>2018-01-01</td>\n",
       "      <td>62.2</td>\n",
       "      <td>VA</td>\n",
       "      <td>1</td>\n",
       "    </tr>\n",
       "    <tr>\n",
       "      <th>4</th>\n",
       "      <td>5507</td>\n",
       "      <td>2018-01-01</td>\n",
       "      <td>36.0</td>\n",
       "      <td>VA</td>\n",
       "      <td>1</td>\n",
       "    </tr>\n",
       "  </tbody>\n",
       "</table>\n",
       "</div>"
      ],
      "text/plain": [
       "   IdSensore       Data  Valore Stato  IdOperatore\n",
       "0       5607 2018-01-01 -9999.0    NA            1\n",
       "1       6280 2018-01-01 -9999.0    NA            1\n",
       "2       9997 2018-01-01 -9999.0    NA            1\n",
       "3       5504 2018-01-01    62.2    VA            1\n",
       "4       5507 2018-01-01    36.0    VA            1"
      ]
     },
     "execution_count": 29,
     "metadata": {},
     "output_type": "execute_result"
    }
   ],
   "source": [
    "df_2018.head()"
   ]
  },
  {
   "cell_type": "markdown",
   "id": "c20824dc",
   "metadata": {},
   "source": [
    "2017"
   ]
  },
  {
   "cell_type": "code",
   "execution_count": 4,
   "id": "6b054906",
   "metadata": {},
   "outputs": [
    {
     "name": "stdout",
     "output_type": "stream",
     "text": [
      "PostgreSQL server information\n",
      "{'user': 'woneli', 'channel_binding': 'prefer', 'dbname': 'postgres', 'host': '188.165.216.169', 'port': '5432', 'options': '', 'sslmode': 'prefer', 'sslcompression': '0', 'sslsni': '1', 'ssl_min_protocol_version': 'TLSv1.2', 'gssencmode': 'disable', 'krbsrvname': 'postgres', 'target_session_attrs': 'any'} \n",
      "\n",
      "You are connected to -  None \n",
      "\n"
     ]
    }
   ],
   "source": [
    "from psycopg2 import Error\n",
    "\n",
    "try:\n",
    "    # Connect to an existing database\n",
    "    connection = psycopg2.connect(user=\"woneli\",\n",
    "                                  password=\"woneli\",\n",
    "                                  host=\"188.165.216.169\",\n",
    "                                  port=\"5432\",\n",
    "                                  database=\"postgres\")\n",
    "\n",
    "    # Create a cursor to perform database operations\n",
    "    cursor = connection.cursor()\n",
    "    # Print PostgreSQL details\n",
    "    print(\"PostgreSQL server information\")\n",
    "    print(connection.get_dsn_parameters(), \"\\n\")\n",
    "    # Executing a SQL query\n",
    "    cursor.execute(\"SELECT * FROM sens_data_2017;\")\n",
    "    risulato = cursor.fetchall()\n",
    "    # Fetch result\n",
    "    record = cursor.fetchone()\n",
    "    print(\"You are connected to - \", record, \"\\n\")\n",
    "\n",
    "except (Exception, Error) as error:\n",
    "    print(\"Error while connecting to PostgreSQL\", error)"
   ]
  },
  {
   "cell_type": "code",
   "execution_count": 5,
   "id": "8b692510",
   "metadata": {},
   "outputs": [],
   "source": [
    "df_2017 = pd.DataFrame(risulato)"
   ]
  },
  {
   "cell_type": "code",
   "execution_count": 6,
   "id": "f645af49",
   "metadata": {},
   "outputs": [
    {
     "data": {
      "text/html": [
       "<div>\n",
       "<style scoped>\n",
       "    .dataframe tbody tr th:only-of-type {\n",
       "        vertical-align: middle;\n",
       "    }\n",
       "\n",
       "    .dataframe tbody tr th {\n",
       "        vertical-align: top;\n",
       "    }\n",
       "\n",
       "    .dataframe thead th {\n",
       "        text-align: right;\n",
       "    }\n",
       "</style>\n",
       "<table border=\"1\" class=\"dataframe\">\n",
       "  <thead>\n",
       "    <tr style=\"text-align: right;\">\n",
       "      <th></th>\n",
       "      <th>IdSensore</th>\n",
       "      <th>Data</th>\n",
       "      <th>Valore</th>\n",
       "      <th>Stato</th>\n",
       "      <th>IdOperatore</th>\n",
       "    </tr>\n",
       "  </thead>\n",
       "  <tbody>\n",
       "    <tr>\n",
       "      <th>0</th>\n",
       "      <td>6803</td>\n",
       "      <td>2017-09-19 17:00:00</td>\n",
       "      <td>62.2</td>\n",
       "      <td>VA</td>\n",
       "      <td>1</td>\n",
       "    </tr>\n",
       "    <tr>\n",
       "      <th>1</th>\n",
       "      <td>6804</td>\n",
       "      <td>2017-09-19 17:00:00</td>\n",
       "      <td>21.1</td>\n",
       "      <td>VA</td>\n",
       "      <td>1</td>\n",
       "    </tr>\n",
       "    <tr>\n",
       "      <th>2</th>\n",
       "      <td>6813</td>\n",
       "      <td>2017-09-19 17:00:00</td>\n",
       "      <td>13.5</td>\n",
       "      <td>VA</td>\n",
       "      <td>1</td>\n",
       "    </tr>\n",
       "    <tr>\n",
       "      <th>3</th>\n",
       "      <td>6817</td>\n",
       "      <td>2017-09-19 17:00:00</td>\n",
       "      <td>15.0</td>\n",
       "      <td>VA</td>\n",
       "      <td>1</td>\n",
       "    </tr>\n",
       "    <tr>\n",
       "      <th>4</th>\n",
       "      <td>6818</td>\n",
       "      <td>2017-09-19 17:00:00</td>\n",
       "      <td>53.9</td>\n",
       "      <td>VA</td>\n",
       "      <td>1</td>\n",
       "    </tr>\n",
       "  </tbody>\n",
       "</table>\n",
       "</div>"
      ],
      "text/plain": [
       "   IdSensore                Data  Valore Stato  IdOperatore\n",
       "0       6803 2017-09-19 17:00:00    62.2    VA            1\n",
       "1       6804 2017-09-19 17:00:00    21.1    VA            1\n",
       "2       6813 2017-09-19 17:00:00    13.5    VA            1\n",
       "3       6817 2017-09-19 17:00:00    15.0    VA            1\n",
       "4       6818 2017-09-19 17:00:00    53.9    VA            1"
      ]
     },
     "execution_count": 6,
     "metadata": {},
     "output_type": "execute_result"
    }
   ],
   "source": [
    "df_2017.columns = ['IdSensore','Data','Valore','Stato','IdOperatore']\n",
    "df_2017.head()"
   ]
  },
  {
   "cell_type": "code",
   "execution_count": 7,
   "id": "33921187",
   "metadata": {},
   "outputs": [
    {
     "data": {
      "text/plain": [
       "(2597501, 5)"
      ]
     },
     "execution_count": 7,
     "metadata": {},
     "output_type": "execute_result"
    }
   ],
   "source": [
    "df_2017.shape"
   ]
  },
  {
   "cell_type": "code",
   "execution_count": 8,
   "id": "4fd09ed4",
   "metadata": {},
   "outputs": [],
   "source": [
    "df_2017.to_pickle('df_2017.h5') "
   ]
  },
  {
   "cell_type": "code",
   "execution_count": 9,
   "id": "b4800498",
   "metadata": {},
   "outputs": [],
   "source": [
    "df_2017 = pd.read_pickle('df_2017.h5')"
   ]
  },
  {
   "cell_type": "code",
   "execution_count": 10,
   "id": "ad9c0e62",
   "metadata": {},
   "outputs": [
    {
     "data": {
      "text/html": [
       "<div>\n",
       "<style scoped>\n",
       "    .dataframe tbody tr th:only-of-type {\n",
       "        vertical-align: middle;\n",
       "    }\n",
       "\n",
       "    .dataframe tbody tr th {\n",
       "        vertical-align: top;\n",
       "    }\n",
       "\n",
       "    .dataframe thead th {\n",
       "        text-align: right;\n",
       "    }\n",
       "</style>\n",
       "<table border=\"1\" class=\"dataframe\">\n",
       "  <thead>\n",
       "    <tr style=\"text-align: right;\">\n",
       "      <th></th>\n",
       "      <th>IdSensore</th>\n",
       "      <th>Data</th>\n",
       "      <th>Valore</th>\n",
       "      <th>Stato</th>\n",
       "      <th>IdOperatore</th>\n",
       "    </tr>\n",
       "  </thead>\n",
       "  <tbody>\n",
       "    <tr>\n",
       "      <th>0</th>\n",
       "      <td>6803</td>\n",
       "      <td>2017-09-19 17:00:00</td>\n",
       "      <td>62.2</td>\n",
       "      <td>VA</td>\n",
       "      <td>1</td>\n",
       "    </tr>\n",
       "    <tr>\n",
       "      <th>1</th>\n",
       "      <td>6804</td>\n",
       "      <td>2017-09-19 17:00:00</td>\n",
       "      <td>21.1</td>\n",
       "      <td>VA</td>\n",
       "      <td>1</td>\n",
       "    </tr>\n",
       "    <tr>\n",
       "      <th>2</th>\n",
       "      <td>6813</td>\n",
       "      <td>2017-09-19 17:00:00</td>\n",
       "      <td>13.5</td>\n",
       "      <td>VA</td>\n",
       "      <td>1</td>\n",
       "    </tr>\n",
       "    <tr>\n",
       "      <th>3</th>\n",
       "      <td>6817</td>\n",
       "      <td>2017-09-19 17:00:00</td>\n",
       "      <td>15.0</td>\n",
       "      <td>VA</td>\n",
       "      <td>1</td>\n",
       "    </tr>\n",
       "    <tr>\n",
       "      <th>4</th>\n",
       "      <td>6818</td>\n",
       "      <td>2017-09-19 17:00:00</td>\n",
       "      <td>53.9</td>\n",
       "      <td>VA</td>\n",
       "      <td>1</td>\n",
       "    </tr>\n",
       "  </tbody>\n",
       "</table>\n",
       "</div>"
      ],
      "text/plain": [
       "   IdSensore                Data  Valore Stato  IdOperatore\n",
       "0       6803 2017-09-19 17:00:00    62.2    VA            1\n",
       "1       6804 2017-09-19 17:00:00    21.1    VA            1\n",
       "2       6813 2017-09-19 17:00:00    13.5    VA            1\n",
       "3       6817 2017-09-19 17:00:00    15.0    VA            1\n",
       "4       6818 2017-09-19 17:00:00    53.9    VA            1"
      ]
     },
     "execution_count": 10,
     "metadata": {},
     "output_type": "execute_result"
    }
   ],
   "source": [
    "df_2017.head()"
   ]
  },
  {
   "cell_type": "markdown",
   "id": "affa71db",
   "metadata": {},
   "source": [
    "2016"
   ]
  },
  {
   "cell_type": "code",
   "execution_count": 11,
   "id": "d5ee0ad5",
   "metadata": {},
   "outputs": [
    {
     "name": "stdout",
     "output_type": "stream",
     "text": [
      "PostgreSQL server information\n",
      "{'user': 'woneli', 'channel_binding': 'prefer', 'dbname': 'postgres', 'host': '188.165.216.169', 'port': '5432', 'options': '', 'sslmode': 'prefer', 'sslcompression': '0', 'sslsni': '1', 'ssl_min_protocol_version': 'TLSv1.2', 'gssencmode': 'disable', 'krbsrvname': 'postgres', 'target_session_attrs': 'any'} \n",
      "\n",
      "You are connected to -  None \n",
      "\n"
     ]
    }
   ],
   "source": [
    "from psycopg2 import Error\n",
    "\n",
    "try:\n",
    "    # Connect to an existing database\n",
    "    connection = psycopg2.connect(user=\"woneli\",\n",
    "                                  password=\"woneli\",\n",
    "                                  host=\"188.165.216.169\",\n",
    "                                  port=\"5432\",\n",
    "                                  database=\"postgres\")\n",
    "\n",
    "    # Create a cursor to perform database operations\n",
    "    cursor = connection.cursor()\n",
    "    # Print PostgreSQL details\n",
    "    print(\"PostgreSQL server information\")\n",
    "    print(connection.get_dsn_parameters(), \"\\n\")\n",
    "    # Executing a SQL query\n",
    "    cursor.execute(\"SELECT * FROM sens_data_2016;\")\n",
    "    risulato = cursor.fetchall()\n",
    "    # Fetch result\n",
    "    record = cursor.fetchone()\n",
    "    print(\"You are connected to - \", record, \"\\n\")\n",
    "\n",
    "except (Exception, Error) as error:\n",
    "    print(\"Error while connecting to PostgreSQL\", error)"
   ]
  },
  {
   "cell_type": "code",
   "execution_count": 12,
   "id": "a6882ab8",
   "metadata": {},
   "outputs": [],
   "source": [
    "df_2016 = pd.DataFrame(risulato)"
   ]
  },
  {
   "cell_type": "code",
   "execution_count": 13,
   "id": "8e432c11",
   "metadata": {},
   "outputs": [
    {
     "data": {
      "text/html": [
       "<div>\n",
       "<style scoped>\n",
       "    .dataframe tbody tr th:only-of-type {\n",
       "        vertical-align: middle;\n",
       "    }\n",
       "\n",
       "    .dataframe tbody tr th {\n",
       "        vertical-align: top;\n",
       "    }\n",
       "\n",
       "    .dataframe thead th {\n",
       "        text-align: right;\n",
       "    }\n",
       "</style>\n",
       "<table border=\"1\" class=\"dataframe\">\n",
       "  <thead>\n",
       "    <tr style=\"text-align: right;\">\n",
       "      <th></th>\n",
       "      <th>IdSensore</th>\n",
       "      <th>Data</th>\n",
       "      <th>Valore</th>\n",
       "      <th>Stato</th>\n",
       "      <th>IdOperatore</th>\n",
       "    </tr>\n",
       "  </thead>\n",
       "  <tbody>\n",
       "    <tr>\n",
       "      <th>0</th>\n",
       "      <td>10001</td>\n",
       "      <td>2016-01-01</td>\n",
       "      <td>92.0</td>\n",
       "      <td>VA</td>\n",
       "      <td>1</td>\n",
       "    </tr>\n",
       "    <tr>\n",
       "      <th>1</th>\n",
       "      <td>10002</td>\n",
       "      <td>2016-01-01</td>\n",
       "      <td>1.8</td>\n",
       "      <td>VA</td>\n",
       "      <td>1</td>\n",
       "    </tr>\n",
       "    <tr>\n",
       "      <th>2</th>\n",
       "      <td>10004</td>\n",
       "      <td>2016-01-01</td>\n",
       "      <td>63.1</td>\n",
       "      <td>VA</td>\n",
       "      <td>1</td>\n",
       "    </tr>\n",
       "    <tr>\n",
       "      <th>3</th>\n",
       "      <td>10005</td>\n",
       "      <td>2016-01-01</td>\n",
       "      <td>36.0</td>\n",
       "      <td>VA</td>\n",
       "      <td>1</td>\n",
       "    </tr>\n",
       "    <tr>\n",
       "      <th>4</th>\n",
       "      <td>10006</td>\n",
       "      <td>2016-01-01</td>\n",
       "      <td>5.1</td>\n",
       "      <td>VA</td>\n",
       "      <td>1</td>\n",
       "    </tr>\n",
       "  </tbody>\n",
       "</table>\n",
       "</div>"
      ],
      "text/plain": [
       "   IdSensore       Data  Valore Stato  IdOperatore\n",
       "0      10001 2016-01-01    92.0    VA            1\n",
       "1      10002 2016-01-01     1.8    VA            1\n",
       "2      10004 2016-01-01    63.1    VA            1\n",
       "3      10005 2016-01-01    36.0    VA            1\n",
       "4      10006 2016-01-01     5.1    VA            1"
      ]
     },
     "execution_count": 13,
     "metadata": {},
     "output_type": "execute_result"
    }
   ],
   "source": [
    "df_2016.columns = ['IdSensore','Data','Valore','Stato','IdOperatore']\n",
    "df_2016.head()"
   ]
  },
  {
   "cell_type": "code",
   "execution_count": 14,
   "id": "959bc826",
   "metadata": {},
   "outputs": [
    {
     "data": {
      "text/plain": [
       "(4270696, 5)"
      ]
     },
     "execution_count": 14,
     "metadata": {},
     "output_type": "execute_result"
    }
   ],
   "source": [
    "df_2016.shape"
   ]
  },
  {
   "cell_type": "code",
   "execution_count": 15,
   "id": "807de92b",
   "metadata": {},
   "outputs": [],
   "source": [
    "df_2016.to_pickle('df_2016.h5') "
   ]
  },
  {
   "cell_type": "code",
   "execution_count": 16,
   "id": "852bcae1",
   "metadata": {},
   "outputs": [],
   "source": [
    "df_2016 = pd.read_pickle('df_2016.h5')"
   ]
  },
  {
   "cell_type": "code",
   "execution_count": 17,
   "id": "6a0a6769",
   "metadata": {},
   "outputs": [
    {
     "data": {
      "text/html": [
       "<div>\n",
       "<style scoped>\n",
       "    .dataframe tbody tr th:only-of-type {\n",
       "        vertical-align: middle;\n",
       "    }\n",
       "\n",
       "    .dataframe tbody tr th {\n",
       "        vertical-align: top;\n",
       "    }\n",
       "\n",
       "    .dataframe thead th {\n",
       "        text-align: right;\n",
       "    }\n",
       "</style>\n",
       "<table border=\"1\" class=\"dataframe\">\n",
       "  <thead>\n",
       "    <tr style=\"text-align: right;\">\n",
       "      <th></th>\n",
       "      <th>IdSensore</th>\n",
       "      <th>Data</th>\n",
       "      <th>Valore</th>\n",
       "      <th>Stato</th>\n",
       "      <th>IdOperatore</th>\n",
       "    </tr>\n",
       "  </thead>\n",
       "  <tbody>\n",
       "    <tr>\n",
       "      <th>0</th>\n",
       "      <td>10001</td>\n",
       "      <td>2016-01-01</td>\n",
       "      <td>92.0</td>\n",
       "      <td>VA</td>\n",
       "      <td>1</td>\n",
       "    </tr>\n",
       "    <tr>\n",
       "      <th>1</th>\n",
       "      <td>10002</td>\n",
       "      <td>2016-01-01</td>\n",
       "      <td>1.8</td>\n",
       "      <td>VA</td>\n",
       "      <td>1</td>\n",
       "    </tr>\n",
       "    <tr>\n",
       "      <th>2</th>\n",
       "      <td>10004</td>\n",
       "      <td>2016-01-01</td>\n",
       "      <td>63.1</td>\n",
       "      <td>VA</td>\n",
       "      <td>1</td>\n",
       "    </tr>\n",
       "    <tr>\n",
       "      <th>3</th>\n",
       "      <td>10005</td>\n",
       "      <td>2016-01-01</td>\n",
       "      <td>36.0</td>\n",
       "      <td>VA</td>\n",
       "      <td>1</td>\n",
       "    </tr>\n",
       "    <tr>\n",
       "      <th>4</th>\n",
       "      <td>10006</td>\n",
       "      <td>2016-01-01</td>\n",
       "      <td>5.1</td>\n",
       "      <td>VA</td>\n",
       "      <td>1</td>\n",
       "    </tr>\n",
       "  </tbody>\n",
       "</table>\n",
       "</div>"
      ],
      "text/plain": [
       "   IdSensore       Data  Valore Stato  IdOperatore\n",
       "0      10001 2016-01-01    92.0    VA            1\n",
       "1      10002 2016-01-01     1.8    VA            1\n",
       "2      10004 2016-01-01    63.1    VA            1\n",
       "3      10005 2016-01-01    36.0    VA            1\n",
       "4      10006 2016-01-01     5.1    VA            1"
      ]
     },
     "execution_count": 17,
     "metadata": {},
     "output_type": "execute_result"
    }
   ],
   "source": [
    "df_2016.head()"
   ]
  },
  {
   "cell_type": "markdown",
   "id": "ac61ba36",
   "metadata": {},
   "source": [
    "2015"
   ]
  },
  {
   "cell_type": "code",
   "execution_count": 18,
   "id": "eabcf4b8",
   "metadata": {},
   "outputs": [
    {
     "name": "stdout",
     "output_type": "stream",
     "text": [
      "PostgreSQL server information\n",
      "{'user': 'woneli', 'channel_binding': 'prefer', 'dbname': 'postgres', 'host': '188.165.216.169', 'port': '5432', 'options': '', 'sslmode': 'prefer', 'sslcompression': '0', 'sslsni': '1', 'ssl_min_protocol_version': 'TLSv1.2', 'gssencmode': 'disable', 'krbsrvname': 'postgres', 'target_session_attrs': 'any'} \n",
      "\n",
      "You are connected to -  None \n",
      "\n"
     ]
    }
   ],
   "source": [
    "from psycopg2 import Error\n",
    "\n",
    "try:\n",
    "    # Connect to an existing database\n",
    "    connection = psycopg2.connect(user=\"woneli\",\n",
    "                                  password=\"woneli\",\n",
    "                                  host=\"188.165.216.169\",\n",
    "                                  port=\"5432\",\n",
    "                                  database=\"postgres\")\n",
    "\n",
    "    # Create a cursor to perform database operations\n",
    "    cursor = connection.cursor()\n",
    "    # Print PostgreSQL details\n",
    "    print(\"PostgreSQL server information\")\n",
    "    print(connection.get_dsn_parameters(), \"\\n\")\n",
    "    # Executing a SQL query\n",
    "    cursor.execute(\"SELECT * FROM sens_data_2015;\")\n",
    "    risulato = cursor.fetchall()\n",
    "    # Fetch result\n",
    "    record = cursor.fetchone()\n",
    "    print(\"You are connected to - \", record, \"\\n\")\n",
    "\n",
    "except (Exception, Error) as error:\n",
    "    print(\"Error while connecting to PostgreSQL\", error)"
   ]
  },
  {
   "cell_type": "code",
   "execution_count": 19,
   "id": "a44ffc73",
   "metadata": {},
   "outputs": [],
   "source": [
    "df_2015 = pd.DataFrame(risulato)"
   ]
  },
  {
   "cell_type": "code",
   "execution_count": 20,
   "id": "888043e4",
   "metadata": {},
   "outputs": [
    {
     "data": {
      "text/html": [
       "<div>\n",
       "<style scoped>\n",
       "    .dataframe tbody tr th:only-of-type {\n",
       "        vertical-align: middle;\n",
       "    }\n",
       "\n",
       "    .dataframe tbody tr th {\n",
       "        vertical-align: top;\n",
       "    }\n",
       "\n",
       "    .dataframe thead th {\n",
       "        text-align: right;\n",
       "    }\n",
       "</style>\n",
       "<table border=\"1\" class=\"dataframe\">\n",
       "  <thead>\n",
       "    <tr style=\"text-align: right;\">\n",
       "      <th></th>\n",
       "      <th>IdSensore</th>\n",
       "      <th>Data</th>\n",
       "      <th>Valore</th>\n",
       "      <th>Stato</th>\n",
       "      <th>IdOperatore</th>\n",
       "    </tr>\n",
       "  </thead>\n",
       "  <tbody>\n",
       "    <tr>\n",
       "      <th>0</th>\n",
       "      <td>29041</td>\n",
       "      <td>2015-01-01</td>\n",
       "      <td>3.800</td>\n",
       "      <td>VA</td>\n",
       "      <td>1</td>\n",
       "    </tr>\n",
       "    <tr>\n",
       "      <th>1</th>\n",
       "      <td>12623</td>\n",
       "      <td>2015-01-01</td>\n",
       "      <td>8.710</td>\n",
       "      <td>VA</td>\n",
       "      <td>1</td>\n",
       "    </tr>\n",
       "    <tr>\n",
       "      <th>2</th>\n",
       "      <td>12641</td>\n",
       "      <td>2015-01-01</td>\n",
       "      <td>1.060</td>\n",
       "      <td>VA</td>\n",
       "      <td>1</td>\n",
       "    </tr>\n",
       "    <tr>\n",
       "      <th>3</th>\n",
       "      <td>12688</td>\n",
       "      <td>2015-01-01</td>\n",
       "      <td>1.849</td>\n",
       "      <td>VA</td>\n",
       "      <td>1</td>\n",
       "    </tr>\n",
       "    <tr>\n",
       "      <th>4</th>\n",
       "      <td>12690</td>\n",
       "      <td>2015-01-01</td>\n",
       "      <td>6.322</td>\n",
       "      <td>VA</td>\n",
       "      <td>1</td>\n",
       "    </tr>\n",
       "  </tbody>\n",
       "</table>\n",
       "</div>"
      ],
      "text/plain": [
       "   IdSensore       Data  Valore Stato  IdOperatore\n",
       "0      29041 2015-01-01   3.800    VA            1\n",
       "1      12623 2015-01-01   8.710    VA            1\n",
       "2      12641 2015-01-01   1.060    VA            1\n",
       "3      12688 2015-01-01   1.849    VA            1\n",
       "4      12690 2015-01-01   6.322    VA            1"
      ]
     },
     "execution_count": 20,
     "metadata": {},
     "output_type": "execute_result"
    }
   ],
   "source": [
    "df_2015.columns = ['IdSensore','Data','Valore','Stato','IdOperatore']\n",
    "df_2015.head()"
   ]
  },
  {
   "cell_type": "code",
   "execution_count": 21,
   "id": "4402abc1",
   "metadata": {},
   "outputs": [
    {
     "data": {
      "text/plain": [
       "(4270563, 5)"
      ]
     },
     "execution_count": 21,
     "metadata": {},
     "output_type": "execute_result"
    }
   ],
   "source": [
    "df_2015.shape"
   ]
  },
  {
   "cell_type": "code",
   "execution_count": 22,
   "id": "edb054bb",
   "metadata": {},
   "outputs": [],
   "source": [
    "df_2015.to_pickle('df_2015.h5') "
   ]
  },
  {
   "cell_type": "code",
   "execution_count": 23,
   "id": "46abaa31",
   "metadata": {},
   "outputs": [],
   "source": [
    "df_2015 = pd.read_pickle('df_2015.h5')"
   ]
  },
  {
   "cell_type": "code",
   "execution_count": 24,
   "id": "d3fbdbd8",
   "metadata": {},
   "outputs": [
    {
     "data": {
      "text/html": [
       "<div>\n",
       "<style scoped>\n",
       "    .dataframe tbody tr th:only-of-type {\n",
       "        vertical-align: middle;\n",
       "    }\n",
       "\n",
       "    .dataframe tbody tr th {\n",
       "        vertical-align: top;\n",
       "    }\n",
       "\n",
       "    .dataframe thead th {\n",
       "        text-align: right;\n",
       "    }\n",
       "</style>\n",
       "<table border=\"1\" class=\"dataframe\">\n",
       "  <thead>\n",
       "    <tr style=\"text-align: right;\">\n",
       "      <th></th>\n",
       "      <th>IdSensore</th>\n",
       "      <th>Data</th>\n",
       "      <th>Valore</th>\n",
       "      <th>Stato</th>\n",
       "      <th>IdOperatore</th>\n",
       "    </tr>\n",
       "  </thead>\n",
       "  <tbody>\n",
       "    <tr>\n",
       "      <th>0</th>\n",
       "      <td>29041</td>\n",
       "      <td>2015-01-01</td>\n",
       "      <td>3.800</td>\n",
       "      <td>VA</td>\n",
       "      <td>1</td>\n",
       "    </tr>\n",
       "    <tr>\n",
       "      <th>1</th>\n",
       "      <td>12623</td>\n",
       "      <td>2015-01-01</td>\n",
       "      <td>8.710</td>\n",
       "      <td>VA</td>\n",
       "      <td>1</td>\n",
       "    </tr>\n",
       "    <tr>\n",
       "      <th>2</th>\n",
       "      <td>12641</td>\n",
       "      <td>2015-01-01</td>\n",
       "      <td>1.060</td>\n",
       "      <td>VA</td>\n",
       "      <td>1</td>\n",
       "    </tr>\n",
       "    <tr>\n",
       "      <th>3</th>\n",
       "      <td>12688</td>\n",
       "      <td>2015-01-01</td>\n",
       "      <td>1.849</td>\n",
       "      <td>VA</td>\n",
       "      <td>1</td>\n",
       "    </tr>\n",
       "    <tr>\n",
       "      <th>4</th>\n",
       "      <td>12690</td>\n",
       "      <td>2015-01-01</td>\n",
       "      <td>6.322</td>\n",
       "      <td>VA</td>\n",
       "      <td>1</td>\n",
       "    </tr>\n",
       "  </tbody>\n",
       "</table>\n",
       "</div>"
      ],
      "text/plain": [
       "   IdSensore       Data  Valore Stato  IdOperatore\n",
       "0      29041 2015-01-01   3.800    VA            1\n",
       "1      12623 2015-01-01   8.710    VA            1\n",
       "2      12641 2015-01-01   1.060    VA            1\n",
       "3      12688 2015-01-01   1.849    VA            1\n",
       "4      12690 2015-01-01   6.322    VA            1"
      ]
     },
     "execution_count": 24,
     "metadata": {},
     "output_type": "execute_result"
    }
   ],
   "source": [
    "df_2015.head()"
   ]
  },
  {
   "cell_type": "markdown",
   "id": "138837da",
   "metadata": {},
   "source": [
    "2014"
   ]
  },
  {
   "cell_type": "code",
   "execution_count": null,
   "id": "f0b62ccc",
   "metadata": {},
   "outputs": [
    {
     "name": "stdout",
     "output_type": "stream",
     "text": [
      "PostgreSQL server information\n",
      "{'user': 'woneli', 'channel_binding': 'prefer', 'dbname': 'postgres', 'host': '188.165.216.169', 'port': '5432', 'options': '', 'sslmode': 'prefer', 'sslcompression': '0', 'sslsni': '1', 'ssl_min_protocol_version': 'TLSv1.2', 'gssencmode': 'disable', 'krbsrvname': 'postgres', 'target_session_attrs': 'any'} \n",
      "\n"
     ]
    }
   ],
   "source": [
    "from psycopg2 import Error\n",
    "\n",
    "try:\n",
    "    # Connect to an existing database\n",
    "    connection = psycopg2.connect(user=\"woneli\",\n",
    "                                  password=\"woneli\",\n",
    "                                  host=\"188.165.216.169\",\n",
    "                                  port=\"5432\",\n",
    "                                  database=\"postgres\")\n",
    "\n",
    "    # Create a cursor to perform database operations\n",
    "    cursor = connection.cursor()\n",
    "    # Print PostgreSQL details\n",
    "    print(\"PostgreSQL server information\")\n",
    "    print(connection.get_dsn_parameters(), \"\\n\")\n",
    "    # Executing a SQL query\n",
    "    cursor.execute(\"SELECT * FROM sens_data_2014;\")\n",
    "    risulato = cursor.fetchall()\n",
    "    # Fetch result\n",
    "    record = cursor.fetchone()\n",
    "    print(\"You are connected to - \", record, \"\\n\")\n",
    "\n",
    "except (Exception, Error) as error:\n",
    "    print(\"Error while connecting to PostgreSQL\", error)"
   ]
  },
  {
   "cell_type": "code",
   "execution_count": null,
   "id": "038645d8",
   "metadata": {},
   "outputs": [],
   "source": [
    "df_2014 = pd.DataFrame(risulato)"
   ]
  },
  {
   "cell_type": "code",
   "execution_count": null,
   "id": "e6dd3a81",
   "metadata": {},
   "outputs": [],
   "source": [
    "df_2014.columns = ['IdSensore','Data','Valore','Stato','IdOperatore']\n",
    "df_2014.head()"
   ]
  },
  {
   "cell_type": "code",
   "execution_count": null,
   "id": "8cc63723",
   "metadata": {},
   "outputs": [],
   "source": [
    "df_2014.shape"
   ]
  },
  {
   "cell_type": "code",
   "execution_count": null,
   "id": "7171245f",
   "metadata": {},
   "outputs": [],
   "source": [
    "df_2014.to_pickle('df_2014.h5') "
   ]
  },
  {
   "cell_type": "code",
   "execution_count": null,
   "id": "96ca9598",
   "metadata": {},
   "outputs": [],
   "source": [
    "df_2014 = pd.read_pickle('df_2014.h5')"
   ]
  },
  {
   "cell_type": "code",
   "execution_count": null,
   "id": "b1a1cfc8",
   "metadata": {},
   "outputs": [],
   "source": [
    "df_2014.head()"
   ]
  },
  {
   "cell_type": "markdown",
   "id": "b7db8d6a",
   "metadata": {},
   "source": [
    "2013"
   ]
  },
  {
   "cell_type": "code",
   "execution_count": null,
   "id": "db70ade7",
   "metadata": {},
   "outputs": [],
   "source": [
    "from psycopg2 import Error\n",
    "\n",
    "try:\n",
    "    # Connect to an existing database\n",
    "    connection = psycopg2.connect(user=\"woneli\",\n",
    "                                  password=\"woneli\",\n",
    "                                  host=\"188.165.216.169\",\n",
    "                                  port=\"5432\",\n",
    "                                  database=\"postgres\")\n",
    "\n",
    "    # Create a cursor to perform database operations\n",
    "    cursor = connection.cursor()\n",
    "    # Print PostgreSQL details\n",
    "    print(\"PostgreSQL server information\")\n",
    "    print(connection.get_dsn_parameters(), \"\\n\")\n",
    "    # Executing a SQL query\n",
    "    cursor.execute(\"SELECT * FROM sens_data_2013;\")\n",
    "    risulato = cursor.fetchall()\n",
    "    # Fetch result\n",
    "    record = cursor.fetchone()\n",
    "    print(\"You are connected to - \", record, \"\\n\")\n",
    "\n",
    "except (Exception, Error) as error:\n",
    "    print(\"Error while connecting to PostgreSQL\", error)"
   ]
  },
  {
   "cell_type": "code",
   "execution_count": null,
   "id": "087b8d07",
   "metadata": {},
   "outputs": [],
   "source": [
    "df_2013 = pd.DataFrame(risulato)"
   ]
  },
  {
   "cell_type": "code",
   "execution_count": null,
   "id": "cc652215",
   "metadata": {},
   "outputs": [],
   "source": [
    "df_2013.columns = ['IdSensore','Data','Valore','Stato','IdOperatore']\n",
    "df_2013.head()"
   ]
  },
  {
   "cell_type": "code",
   "execution_count": null,
   "id": "b4fc894e",
   "metadata": {},
   "outputs": [],
   "source": [
    "df_2013.shape"
   ]
  },
  {
   "cell_type": "code",
   "execution_count": null,
   "id": "8d0dc230",
   "metadata": {},
   "outputs": [],
   "source": [
    "df_2013.to_pickle('df_2013.h5') "
   ]
  },
  {
   "cell_type": "code",
   "execution_count": null,
   "id": "efdd208e",
   "metadata": {},
   "outputs": [],
   "source": [
    "df_2013 = pd.read_pickle('df_2013.h5')"
   ]
  },
  {
   "cell_type": "code",
   "execution_count": null,
   "id": "53cc3767",
   "metadata": {},
   "outputs": [],
   "source": [
    "df_2013.head()"
   ]
  },
  {
   "cell_type": "markdown",
   "id": "f06c11b7",
   "metadata": {},
   "source": [
    "2012"
   ]
  },
  {
   "cell_type": "code",
   "execution_count": null,
   "id": "2eeb95c2",
   "metadata": {},
   "outputs": [],
   "source": [
    "from psycopg2 import Error\n",
    "\n",
    "try:\n",
    "    # Connect to an existing database\n",
    "    connection = psycopg2.connect(user=\"woneli\",\n",
    "                                  password=\"woneli\",\n",
    "                                  host=\"188.165.216.169\",\n",
    "                                  port=\"5432\",\n",
    "                                  database=\"postgres\")\n",
    "\n",
    "    # Create a cursor to perform database operations\n",
    "    cursor = connection.cursor()\n",
    "    # Print PostgreSQL details\n",
    "    print(\"PostgreSQL server information\")\n",
    "    print(connection.get_dsn_parameters(), \"\\n\")\n",
    "    # Executing a SQL query\n",
    "    cursor.execute(\"SELECT * FROM sens_data_2012;\")\n",
    "    risulato = cursor.fetchall()\n",
    "    # Fetch result\n",
    "    record = cursor.fetchone()\n",
    "    print(\"You are connected to - \", record, \"\\n\")\n",
    "\n",
    "except (Exception, Error) as error:\n",
    "    print(\"Error while connecting to PostgreSQL\", error)"
   ]
  },
  {
   "cell_type": "code",
   "execution_count": null,
   "id": "c8afa67f",
   "metadata": {},
   "outputs": [],
   "source": [
    "df_2012 = pd.DataFrame(risulato)"
   ]
  },
  {
   "cell_type": "code",
   "execution_count": null,
   "id": "1b0e8501",
   "metadata": {},
   "outputs": [],
   "source": [
    "df_2012.columns = ['IdSensore','Data','Valore','Stato','IdOperatore']\n",
    "df_2012.head()"
   ]
  },
  {
   "cell_type": "code",
   "execution_count": null,
   "id": "58536ec8",
   "metadata": {},
   "outputs": [],
   "source": [
    "df_2012.shape"
   ]
  },
  {
   "cell_type": "code",
   "execution_count": null,
   "id": "1884ce84",
   "metadata": {},
   "outputs": [],
   "source": [
    "df_2012.to_pickle('df_2012.h5') "
   ]
  },
  {
   "cell_type": "code",
   "execution_count": null,
   "id": "da3db65f",
   "metadata": {},
   "outputs": [],
   "source": [
    "df_2012 = pd.read_pickle('df_2012.h5')"
   ]
  },
  {
   "cell_type": "code",
   "execution_count": null,
   "id": "3f925776",
   "metadata": {},
   "outputs": [],
   "source": [
    "df_2012.head()"
   ]
  },
  {
   "cell_type": "markdown",
   "id": "5091aa82",
   "metadata": {},
   "source": [
    "2011"
   ]
  },
  {
   "cell_type": "code",
   "execution_count": null,
   "id": "6c99fe57",
   "metadata": {},
   "outputs": [],
   "source": [
    "from psycopg2 import Error\n",
    "\n",
    "try:\n",
    "    # Connect to an existing database\n",
    "    connection = psycopg2.connect(user=\"woneli\",\n",
    "                                  password=\"woneli\",\n",
    "                                  host=\"188.165.216.169\",\n",
    "                                  port=\"5432\",\n",
    "                                  database=\"postgres\")\n",
    "\n",
    "    # Create a cursor to perform database operations\n",
    "    cursor = connection.cursor()\n",
    "    # Print PostgreSQL details\n",
    "    print(\"PostgreSQL server information\")\n",
    "    print(connection.get_dsn_parameters(), \"\\n\")\n",
    "    # Executing a SQL query\n",
    "    cursor.execute(\"SELECT * FROM sens_data_2011;\")\n",
    "    risulato = cursor.fetchall()\n",
    "    # Fetch result\n",
    "    record = cursor.fetchone()\n",
    "    print(\"You are connected to - \", record, \"\\n\")\n",
    "\n",
    "except (Exception, Error) as error:\n",
    "    print(\"Error while connecting to PostgreSQL\", error)"
   ]
  },
  {
   "cell_type": "code",
   "execution_count": null,
   "id": "b9a36e69",
   "metadata": {},
   "outputs": [],
   "source": [
    "df_2011 = pd.DataFrame(risulato)"
   ]
  },
  {
   "cell_type": "code",
   "execution_count": null,
   "id": "4cc87a60",
   "metadata": {},
   "outputs": [],
   "source": [
    "df_2011.columns = ['IdSensore','Data','Valore','Stato','IdOperatore']\n",
    "df_2011.head()"
   ]
  },
  {
   "cell_type": "code",
   "execution_count": null,
   "id": "89bdd0fd",
   "metadata": {},
   "outputs": [],
   "source": [
    "df_2011.shape"
   ]
  },
  {
   "cell_type": "code",
   "execution_count": null,
   "id": "03f976fa",
   "metadata": {},
   "outputs": [],
   "source": [
    "df_2011.to_pickle('df_2011.h5') "
   ]
  },
  {
   "cell_type": "code",
   "execution_count": null,
   "id": "d3421276",
   "metadata": {},
   "outputs": [],
   "source": [
    "df_2011 = pd.read_pickle('df_2011.h5')"
   ]
  },
  {
   "cell_type": "code",
   "execution_count": null,
   "id": "2c981d38",
   "metadata": {},
   "outputs": [],
   "source": [
    "df_2011.head()"
   ]
  },
  {
   "cell_type": "markdown",
   "id": "37332719",
   "metadata": {},
   "source": [
    "2010"
   ]
  },
  {
   "cell_type": "code",
   "execution_count": null,
   "id": "56fdb8c2",
   "metadata": {},
   "outputs": [],
   "source": [
    "from psycopg2 import Error\n",
    "\n",
    "try:\n",
    "    # Connect to an existing database\n",
    "    connection = psycopg2.connect(user=\"woneli\",\n",
    "                                  password=\"woneli\",\n",
    "                                  host=\"188.165.216.169\",\n",
    "                                  port=\"5432\",\n",
    "                                  database=\"postgres\")\n",
    "\n",
    "    # Create a cursor to perform database operations\n",
    "    cursor = connection.cursor()\n",
    "    # Print PostgreSQL details\n",
    "    print(\"PostgreSQL server information\")\n",
    "    print(connection.get_dsn_parameters(), \"\\n\")\n",
    "    # Executing a SQL query\n",
    "    cursor.execute(\"SELECT * FROM sens_data_2010;\")\n",
    "    risulato = cursor.fetchall()\n",
    "    # Fetch result\n",
    "    record = cursor.fetchone()\n",
    "    print(\"You are connected to - \", record, \"\\n\")\n",
    "\n",
    "except (Exception, Error) as error:\n",
    "    print(\"Error while connecting to PostgreSQL\", error)"
   ]
  },
  {
   "cell_type": "code",
   "execution_count": null,
   "id": "44423ba8",
   "metadata": {},
   "outputs": [],
   "source": [
    "df_2010 = pd.DataFrame(risulato)"
   ]
  },
  {
   "cell_type": "code",
   "execution_count": null,
   "id": "c32eb21d",
   "metadata": {},
   "outputs": [],
   "source": [
    "df_2010.columns = ['IdSensore','Data','Valore','Stato','IdOperatore']\n",
    "df_2010.head()"
   ]
  },
  {
   "cell_type": "code",
   "execution_count": null,
   "id": "d9489cf3",
   "metadata": {},
   "outputs": [],
   "source": [
    "df_2010.shape"
   ]
  },
  {
   "cell_type": "code",
   "execution_count": null,
   "id": "9f168245",
   "metadata": {},
   "outputs": [],
   "source": [
    "df_2010.to_pickle('df_2010.h5') "
   ]
  },
  {
   "cell_type": "code",
   "execution_count": null,
   "id": "07c615ee",
   "metadata": {},
   "outputs": [],
   "source": [
    "df_2010 = pd.read_pickle('df_2010.h5')"
   ]
  },
  {
   "cell_type": "code",
   "execution_count": null,
   "id": "962cb39b",
   "metadata": {},
   "outputs": [],
   "source": [
    "df_2010.head()"
   ]
  },
  {
   "cell_type": "markdown",
   "id": "a6425ce3",
   "metadata": {},
   "source": [
    "2007"
   ]
  },
  {
   "cell_type": "code",
   "execution_count": null,
   "id": "254cd337",
   "metadata": {},
   "outputs": [],
   "source": [
    "from psycopg2 import Error\n",
    "\n",
    "try:\n",
    "    # Connect to an existing database\n",
    "    connection = psycopg2.connect(user=\"woneli\",\n",
    "                                  password=\"woneli\",\n",
    "                                  host=\"188.165.216.169\",\n",
    "                                  port=\"5432\",\n",
    "                                  database=\"postgres\")\n",
    "\n",
    "    # Create a cursor to perform database operations\n",
    "    cursor = connection.cursor()\n",
    "    # Print PostgreSQL details\n",
    "    print(\"PostgreSQL server information\")\n",
    "    print(connection.get_dsn_parameters(), \"\\n\")\n",
    "    # Executing a SQL query\n",
    "    cursor.execute(\"SELECT * FROM sens_data_2007;\")\n",
    "    risulato = cursor.fetchall()\n",
    "    # Fetch result\n",
    "    record = cursor.fetchone()\n",
    "    print(\"You are connected to - \", record, \"\\n\")\n",
    "\n",
    "except (Exception, Error) as error:\n",
    "    print(\"Error while connecting to PostgreSQL\", error)"
   ]
  },
  {
   "cell_type": "code",
   "execution_count": null,
   "id": "059eda0e",
   "metadata": {},
   "outputs": [],
   "source": [
    "df_2007 = pd.DataFrame(risulato)"
   ]
  },
  {
   "cell_type": "code",
   "execution_count": null,
   "id": "a9f5e1c4",
   "metadata": {},
   "outputs": [],
   "source": [
    "df_2007.columns = ['IdSensore','Data','Valore','Stato','IdOperatore']\n",
    "df_2007.head()"
   ]
  },
  {
   "cell_type": "code",
   "execution_count": null,
   "id": "810b5cf9",
   "metadata": {},
   "outputs": [],
   "source": [
    "df_2007.shape"
   ]
  },
  {
   "cell_type": "code",
   "execution_count": null,
   "id": "403e869a",
   "metadata": {},
   "outputs": [],
   "source": [
    "df_2007.to_pickle('df_2007.h5') "
   ]
  },
  {
   "cell_type": "code",
   "execution_count": null,
   "id": "3a73265e",
   "metadata": {},
   "outputs": [],
   "source": [
    "df_2007 = pd.read_pickle('df_2007.h5')"
   ]
  },
  {
   "cell_type": "code",
   "execution_count": null,
   "id": "93d704d0",
   "metadata": {},
   "outputs": [],
   "source": [
    "df_2007.head()"
   ]
  },
  {
   "cell_type": "markdown",
   "id": "e1b2b6ba",
   "metadata": {},
   "source": [
    "2000"
   ]
  },
  {
   "cell_type": "code",
   "execution_count": null,
   "id": "24524603",
   "metadata": {},
   "outputs": [],
   "source": [
    "from psycopg2 import Error\n",
    "\n",
    "try:\n",
    "    # Connect to an existing database\n",
    "    connection = psycopg2.connect(user=\"woneli\",\n",
    "                                  password=\"woneli\",\n",
    "                                  host=\"188.165.216.169\",\n",
    "                                  port=\"5432\",\n",
    "                                  database=\"postgres\")\n",
    "\n",
    "    # Create a cursor to perform database operations\n",
    "    cursor = connection.cursor()\n",
    "    # Print PostgreSQL details\n",
    "    print(\"PostgreSQL server information\")\n",
    "    print(connection.get_dsn_parameters(), \"\\n\")\n",
    "    # Executing a SQL query\n",
    "    cursor.execute(\"SELECT * FROM sens_data_2000;\")\n",
    "    risulato = cursor.fetchall()\n",
    "    # Fetch result\n",
    "    record = cursor.fetchone()\n",
    "    print(\"You are connected to - \", record, \"\\n\")\n",
    "\n",
    "except (Exception, Error) as error:\n",
    "    print(\"Error while connecting to PostgreSQL\", error)"
   ]
  },
  {
   "cell_type": "code",
   "execution_count": null,
   "id": "404733f3",
   "metadata": {},
   "outputs": [],
   "source": [
    "df_2000 = pd.DataFrame(risulato)"
   ]
  },
  {
   "cell_type": "code",
   "execution_count": null,
   "id": "f52c248a",
   "metadata": {},
   "outputs": [],
   "source": [
    "df_2000.columns = ['IdSensore','Data','Valore','Stato','IdOperatore']\n",
    "df_2000.head()"
   ]
  },
  {
   "cell_type": "code",
   "execution_count": null,
   "id": "05375193",
   "metadata": {},
   "outputs": [],
   "source": [
    "df_2000.shape"
   ]
  },
  {
   "cell_type": "code",
   "execution_count": null,
   "id": "b7cd4179",
   "metadata": {},
   "outputs": [],
   "source": [
    "df_2000.to_pickle('df_2000.h5') "
   ]
  },
  {
   "cell_type": "code",
   "execution_count": null,
   "id": "456db67f",
   "metadata": {},
   "outputs": [],
   "source": [
    "df_2000 = pd.read_pickle('df_2000.h5')"
   ]
  },
  {
   "cell_type": "code",
   "execution_count": null,
   "id": "d71ca274",
   "metadata": {},
   "outputs": [],
   "source": [
    "df_2000.head()"
   ]
  },
  {
   "cell_type": "markdown",
   "id": "c67d72c2",
   "metadata": {},
   "source": [
    "1995"
   ]
  },
  {
   "cell_type": "code",
   "execution_count": null,
   "id": "ef239715",
   "metadata": {},
   "outputs": [],
   "source": [
    "from psycopg2 import Error\n",
    "\n",
    "try:\n",
    "    # Connect to an existing database\n",
    "    connection = psycopg2.connect(user=\"woneli\",\n",
    "                                  password=\"woneli\",\n",
    "                                  host=\"188.165.216.169\",\n",
    "                                  port=\"5432\",\n",
    "                                  database=\"postgres\")\n",
    "\n",
    "    # Create a cursor to perform database operations\n",
    "    cursor = connection.cursor()\n",
    "    # Print PostgreSQL details\n",
    "    print(\"PostgreSQL server information\")\n",
    "    print(connection.get_dsn_parameters(), \"\\n\")\n",
    "    # Executing a SQL query\n",
    "    cursor.execute(\"SELECT * FROM sens_data_1995;\")\n",
    "    risulato = cursor.fetchall()\n",
    "    # Fetch result\n",
    "    record = cursor.fetchone()\n",
    "    print(\"You are connected to - \", record, \"\\n\")\n",
    "\n",
    "except (Exception, Error) as error:\n",
    "    print(\"Error while connecting to PostgreSQL\", error)"
   ]
  },
  {
   "cell_type": "code",
   "execution_count": null,
   "id": "ac928f03",
   "metadata": {},
   "outputs": [],
   "source": [
    "df_1995 = pd.DataFrame(risulato)"
   ]
  },
  {
   "cell_type": "code",
   "execution_count": null,
   "id": "282b204b",
   "metadata": {},
   "outputs": [],
   "source": [
    "df_1995.columns = ['IdSensore','Data','Valore','Stato','IdOperatore']\n",
    "df_1995.head()"
   ]
  },
  {
   "cell_type": "code",
   "execution_count": null,
   "id": "f66c36c2",
   "metadata": {},
   "outputs": [],
   "source": [
    "df_1995.shape"
   ]
  },
  {
   "cell_type": "code",
   "execution_count": null,
   "id": "27a95ee3",
   "metadata": {},
   "outputs": [],
   "source": [
    "df_1995.to_pickle('df_1995.h5') "
   ]
  },
  {
   "cell_type": "code",
   "execution_count": null,
   "id": "4d94de4e",
   "metadata": {},
   "outputs": [],
   "source": [
    "df_1995 = pd.read_pickle('df_1995.h5')"
   ]
  },
  {
   "cell_type": "code",
   "execution_count": null,
   "id": "623aa37d",
   "metadata": {},
   "outputs": [],
   "source": [
    "df_1995.head()"
   ]
  },
  {
   "cell_type": "code",
   "execution_count": null,
   "id": "5027febc",
   "metadata": {},
   "outputs": [],
   "source": []
  },
  {
   "cell_type": "code",
   "execution_count": null,
   "id": "1ebb4bc2",
   "metadata": {},
   "outputs": [],
   "source": []
  }
 ],
 "metadata": {
  "kernelspec": {
   "display_name": "Python 3 (ipykernel)",
   "language": "python",
   "name": "python3"
  },
  "language_info": {
   "codemirror_mode": {
    "name": "ipython",
    "version": 3
   },
   "file_extension": ".py",
   "mimetype": "text/x-python",
   "name": "python",
   "nbconvert_exporter": "python",
   "pygments_lexer": "ipython3",
   "version": "3.9.7"
  }
 },
 "nbformat": 4,
 "nbformat_minor": 5
}
